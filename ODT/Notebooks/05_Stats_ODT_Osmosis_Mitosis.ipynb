{
 "cells": [
  {
   "cell_type": "code",
   "execution_count": 17,
   "metadata": {},
   "outputs": [
    {
     "data": {
      "text/html": [
       "<style>.container { width:80% !important; }</style>"
      ],
      "text/plain": [
       "<IPython.core.display.HTML object>"
      ]
     },
     "metadata": {},
     "output_type": "display_data"
    }
   ],
   "source": [
    "import os \n",
    "import pandas as pd\n",
    "import numpy as np\n",
    "\n",
    "from sklearn import preprocessing\n",
    "from sklearn import linear_model\n",
    "from sklearn.metrics import mean_squared_error, r2_score\n",
    "import sklearn.linear_model\n",
    "\n",
    "import scipy\n",
    "from scipy import stats\n",
    "from scipy.optimize import curve_fit\n",
    "\n",
    "from IPython.core.display import display, HTML\n",
    "display(HTML(\"<style>.container { width:80% !important; }</style>\"))"
   ]
  },
  {
   "cell_type": "code",
   "execution_count": 18,
   "metadata": {},
   "outputs": [
    {
     "name": "stdout",
     "output_type": "stream",
     "text": [
      "(107, 32)\n",
      "(99, 32)\n"
     ]
    }
   ],
   "source": [
    "root_dir = \"/Volumes/TOB_WD2/Image_Analysis/Osmosis/DataFrames\" + \"/\"\n",
    "\n",
    "# load data\n",
    "\n",
    "df = pd.read_csv(root_dir + \"MasterDataFrame_ODT_Osmosis_Mitosis_for_stats.csv\")\n",
    "cond1 = df[df[\"Condition\"] == \"Control_7525ON_Short\"]\n",
    "cond2 = df[df[\"Condition\"] == \"Hypo_7525ON_Short\"]\n",
    "\n",
    "print(cond1.shape)\n",
    "print(cond2.shape)"
   ]
  },
  {
   "cell_type": "code",
   "execution_count": 19,
   "metadata": {},
   "outputs": [
    {
     "data": {
      "text/plain": [
       "Index(['Unnamed: 0', 'Unnamed: 0.1', 'Cell_ID', 'RI_average', 'Condition',\n",
       "       'Experiment', 'RI_of_medium_x', 'Subcondition',\n",
       "       'Mass_density_cytop_mgml', ' _x', 'Label_x', 'Volume', 'SurfaceArea',\n",
       "       'Sphericity', 'RI_of_medium_y', ' _y', 'Label_y', 'Value', 'Average',\n",
       "       'StandardDeviation', 'Minimum', 'Maximum', 'IntegratedDensity',\n",
       "       'Channel', 'Frame', 'RI_of_medium', 'Cell mass density (mg/ml)',\n",
       "       'Label', 'Area', 'Dry_mass', 'Spindle_occupancy',\n",
       "       'SpindleArea_DryMass_Ratio'],\n",
       "      dtype='object')"
      ]
     },
     "execution_count": 19,
     "metadata": {},
     "output_type": "execute_result"
    }
   ],
   "source": [
    "df.columns"
   ]
  },
  {
   "cell_type": "code",
   "execution_count": 20,
   "metadata": {},
   "outputs": [],
   "source": [
    "# t-test\n",
    "\n",
    "def ttest(measurement, p1 = \"Control_7525ON_Short\", p2 = \"Hypo_7525ON_Short\"):\n",
    "\n",
    "    df_p1 = df[df[\"Condition\"] == p1]\n",
    "    df_p2 = df[df[\"Condition\"] == p2]\n",
    "   # df_p1 = df_p1[df_p1[\"Target\"] == target]\n",
    "   # df_p2 = df_p2[df_p2[\"Target\"] == target]\n",
    "    statistic, pvalue = scipy.stats.ttest_ind(\n",
    "        df_p1[measurement], \n",
    "        df_p2[measurement], \n",
    "        axis = 0, \n",
    "        equal_var = False, \n",
    "        nan_policy = 'omit'\n",
    "    )\n",
    "    print (\"The p-value for {} is: \".format(measurement) + str(pvalue))"
   ]
  },
  {
   "cell_type": "code",
   "execution_count": 21,
   "metadata": {},
   "outputs": [
    {
     "name": "stdout",
     "output_type": "stream",
     "text": [
      "The p-value for Volume is: 0.01874521386255301\n"
     ]
    }
   ],
   "source": [
    "ttest(\"Volume\")"
   ]
  },
  {
   "cell_type": "code",
   "execution_count": 22,
   "metadata": {},
   "outputs": [
    {
     "name": "stdout",
     "output_type": "stream",
     "text": [
      "(107, 32)\n",
      "(96, 32)\n"
     ]
    }
   ],
   "source": [
    "print(cond1[cond1[\"Volume\"] > 0].shape)\n",
    "print(cond2[cond2[\"Volume\"] > 0].shape)"
   ]
  },
  {
   "cell_type": "code",
   "execution_count": 23,
   "metadata": {},
   "outputs": [
    {
     "name": "stdout",
     "output_type": "stream",
     "text": [
      "The p-value for Dry_mass is: 0.5490344188977763\n"
     ]
    }
   ],
   "source": [
    "ttest(\"Dry_mass\")"
   ]
  },
  {
   "cell_type": "code",
   "execution_count": 24,
   "metadata": {},
   "outputs": [
    {
     "name": "stdout",
     "output_type": "stream",
     "text": [
      "The p-value for Cell mass density (mg/ml) is: 5.004927473686047e-06\n"
     ]
    }
   ],
   "source": [
    "ttest(\"Cell mass density (mg/ml)\")"
   ]
  },
  {
   "cell_type": "code",
   "execution_count": 25,
   "metadata": {},
   "outputs": [
    {
     "name": "stdout",
     "output_type": "stream",
     "text": [
      "The p-value for Area is: 0.00019101535503264348\n"
     ]
    }
   ],
   "source": [
    "ttest(\"Area\")"
   ]
  },
  {
   "cell_type": "code",
   "execution_count": 26,
   "metadata": {},
   "outputs": [
    {
     "name": "stdout",
     "output_type": "stream",
     "text": [
      "(69, 32)\n",
      "(67, 32)\n"
     ]
    }
   ],
   "source": [
    "print(cond1[cond1[\"Area\"] > 0].shape)\n",
    "print(cond2[cond2[\"Area\"] > 0].shape)"
   ]
  },
  {
   "cell_type": "code",
   "execution_count": 27,
   "metadata": {},
   "outputs": [
    {
     "name": "stdout",
     "output_type": "stream",
     "text": [
      "The p-value for Spindle_occupancy is: 2.7716767356063185e-06\n"
     ]
    }
   ],
   "source": [
    "ttest(\"Spindle_occupancy\")"
   ]
  },
  {
   "cell_type": "code",
   "execution_count": 28,
   "metadata": {},
   "outputs": [
    {
     "name": "stdout",
     "output_type": "stream",
     "text": [
      "The p-value for SpindleArea_DryMass_Ratio is: 0.007157341565990417\n"
     ]
    }
   ],
   "source": [
    "ttest(\"SpindleArea_DryMass_Ratio\")"
   ]
  }
 ],
 "metadata": {
  "kernelspec": {
   "display_name": "Python 3",
   "language": "python",
   "name": "python3"
  },
  "language_info": {
   "codemirror_mode": {
    "name": "ipython",
    "version": 3
   },
   "file_extension": ".py",
   "mimetype": "text/x-python",
   "name": "python",
   "nbconvert_exporter": "python",
   "pygments_lexer": "ipython3",
   "version": "3.7.1"
  }
 },
 "nbformat": 4,
 "nbformat_minor": 4
}
