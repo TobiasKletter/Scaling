{
 "cells": [
  {
   "cell_type": "code",
   "execution_count": 13,
   "metadata": {},
   "outputs": [
    {
     "name": "stderr",
     "output_type": "stream",
     "text": [
      "/anaconda3/lib/python3.7/site-packages/ipykernel_launcher.py:4: FutureWarning: Passing a negative integer is deprecated in version 1.0 and will not be supported in future version. Instead, use None to not limit the column width.\n",
      "  after removing the cwd from sys.path.\n"
     ]
    },
    {
     "data": {
      "text/html": [
       "<style>.container { width:80% !important; }</style>"
      ],
      "text/plain": [
       "<IPython.core.display.HTML object>"
      ]
     },
     "metadata": {},
     "output_type": "display_data"
    }
   ],
   "source": [
    "import pandas as pd\n",
    "import os\n",
    "pd.options.display.max_rows\n",
    "pd.set_option('display.max_colwidth', -1)\n",
    "\n",
    "from IPython.core.display import display, HTML\n",
    "display(HTML(\"<style>.container { width:80% !important; }</style>\"))"
   ]
  },
  {
   "cell_type": "code",
   "execution_count": 14,
   "metadata": {},
   "outputs": [],
   "source": [
    "# Define location of output folders\n",
    "out_dir = \"/Volumes/TOB_WD2/Image_Analysis/Mitosis/Dataframes/SpinningDisc_2i_vs_FBS\"\n",
    "\n",
    "# Define location of Spindle3D measurements\n",
    "root_spindle = \"/Volumes/TOB_WD2/Microscopy\" + \"/\"\n",
    "in_dir_1 = root_spindle + \"20220516_M_2iCtrl/Spindle3D/Correct\"\n",
    "in_dir_2 = root_spindle + \"20220517_M_2iCtrl/Spindle3D/Correct\"\n",
    "in_dir_3 = root_spindle + \"20220602_M_2iCtrl/Spindle3D/Correct\"\n",
    "in_dir_4 = root_spindle + \"20220603_M_2iCtrl/Spindle3D/Correct\"\n",
    "in_dir_5 = root_spindle + \"20220617_M_2iCtrl/Spindle3D/Correct\" \n",
    "in_dir_6 = root_spindle + \"20220623_M_2iCtrl/Spindle3D/Correct\"\n",
    "in_dir_7 = root_spindle + \"20220624_M_2iCtrl/Spindle3D/Correct\"\n",
    "in_dir_8 = root_spindle + \"20220720_M_2iCtrl/Spindle3D/Correct\" \n",
    "in_dir_9 = root_spindle + \"20220721_M_2iCtrl/Spindle3D/Correct\"\n",
    "in_dir_10 = root_spindle + \"20220722_M_2iCtrl/Spindle3D/Correct\"\n",
    "in_dir_11 = root_spindle + \"20220927_M_2iCtrl/Spindle3D/Correct\"\n",
    "in_dir_12 = root_spindle + \"20221124_M_2iCtrl/Spindle3D/Correct\"\n",
    "\n",
    "input_directories = [in_dir_1, in_dir_2, in_dir_3, in_dir_4, in_dir_5, in_dir_6, in_dir_7, in_dir_8, in_dir_9, in_dir_10, in_dir_11, in_dir_12]"
   ]
  },
  {
   "cell_type": "code",
   "execution_count": 15,
   "metadata": {},
   "outputs": [
    {
     "name": "stdout",
     "output_type": "stream",
     "text": [
      "Successfully saved master spindle 3d dataframe to /Volumes/TOB_WD2/Image_Analysis/Mitosis/Dataframes/SpinningDisc_2i_vs_FBS/MasterDataFrame_Spindle3D.csv\n",
      "Successfully parsed dataframes. The shape of df is: (1320, 25)\n"
     ]
    }
   ],
   "source": [
    "# parse Plugin Measurements\n",
    "\n",
    "def get_cell_id(x):\n",
    "    cell_id_full = x.rsplit(\"/\",1)[1]\n",
    "    cell_id = cell_id_full.split(\".\")[0]\n",
    "    return cell_id\n",
    "\n",
    "def parse_spindle3d(in_dir_list):\n",
    "    dataframes = []\n",
    "    for directory in in_dir_list:\n",
    "        sub_dataframes = []\n",
    "        for root, dirs, files in os.walk(directory):\n",
    "            for file in files:\n",
    "                filepath = root + os.sep + file\n",
    "                if not file.startswith(\".\"):\n",
    "                    if filepath.endswith(\".txt\"):\n",
    "                        single_df = pd.read_csv(filepath, sep = \" \", delimiter = \"\\t\", encoding = 'latin1')\n",
    "                        sub_dataframes.append(single_df)    \n",
    "                    else:\n",
    "                        pass\n",
    "                else:\n",
    "                    pass\n",
    "        df_celltype = pd.concat(sub_dataframes)\n",
    "        dataframes.append(df_celltype)\n",
    "    df = pd.concat(dataframes)\n",
    "    return df\n",
    "     \n",
    "df = parse_spindle3d(input_directories)\n",
    "not_na_df = df['Path_InputImage'].notna()\n",
    "df = df[not_na_df]\n",
    "df = df.drop(['Object_Label', 'Centroid_Time_Frames', 'Cell_Volume_um3'], axis = 1)\n",
    "\n",
    "# get Cell IDs\n",
    "df[\"Cell_ID\"] = df.Path_InputImage.apply(get_cell_id)\n",
    "df[\"Experiment\"] = df.Cell_ID.str.split(\"_\").str.get(0)\n",
    "\n",
    "spindle3d_out = out_dir + \"/\" + \"MasterDataFrame_Spindle3D.csv\"\n",
    "df.to_csv(spindle3d_out)\n",
    "print(\"Successfully saved master spindle 3d dataframe to {}\".format(spindle3d_out))\n",
    "\n",
    "print(\"Successfully parsed dataframes. The shape of df is: \" + str(df.shape))"
   ]
  },
  {
   "cell_type": "code",
   "execution_count": 16,
   "metadata": {},
   "outputs": [],
   "source": [
    "def concat_misc_measurement(folder):\n",
    "    misc_dataframes = []\n",
    "    for root, dirs, files in os.walk(folder):\n",
    "        for file in files:\n",
    "            filepath = root + os.sep + file  \n",
    "            if filepath.endswith(\".csv\"):\n",
    "                single_df = pd.read_csv(filepath)\n",
    "                if filepath.endswith(\"SurfaceArea.csv\"):\n",
    "                    cell_ID = file.split(\"_\",1)[1]\n",
    "                    cell_ID = cell_ID.rsplit(\"_\", 2)[0]\n",
    "                    single_df[\"Cell_ID\"] = cell_ID\n",
    "                misc_dataframes.append(single_df)    \n",
    "            else:\n",
    "                pass\n",
    "    misc_df = pd.concat(misc_dataframes)\n",
    "    return misc_df   "
   ]
  },
  {
   "cell_type": "code",
   "execution_count": 17,
   "metadata": {},
   "outputs": [
    {
     "name": "stdout",
     "output_type": "stream",
     "text": [
      "Successfully saved dataframe for cell volumes to /Volumes/TOB_WD2/Image_Analysis/Mitosis/Dataframes/SpinningDisc_2i_vs_FBS/MasterDataFrame_CellVolumes.csv\n"
     ]
    }
   ],
   "source": [
    "# Parsing Cell Volume (ilastik) data\n",
    "\n",
    "CV_dir_1 = root_spindle + \"20220516_M_2iCtrl/Cell_Volumes\"\n",
    "CV_dir_2 = root_spindle + \"20220517_M_2iCtrl/Cell_Volumes\"\n",
    "CV_dir_3 = root_spindle + \"20220602_M_2iCtrl/Cell_Volumes\"\n",
    "CV_dir_4 = root_spindle + \"20220603_M_2iCtrl/Cell_Volumes\"\n",
    "CV_dir_5 = root_spindle + \"20220617_M_2iCtrl/Cell_Volumes\"\n",
    "CV_dir_6 = root_spindle + \"20220623_M_2iCtrl/Cell_Volumes\"\n",
    "CV_dir_7 = root_spindle + \"20220624_M_2iCtrl/Cell_Volumes\"\n",
    "CV_dir_8 = root_spindle + \"20220720_M_2iCtrl/Cell_Volumes\"\n",
    "CV_dir_9 = root_spindle + \"20220721_M_2iCtrl/Cell_Volumes\"\n",
    "CV_dir_10 = root_spindle + \"20220722_M_2iCtrl/Cell_Volumes\"\n",
    "CV_dir_11 = root_spindle + \"20220927_M_2iCtrl/Cell_Volumes\"\n",
    "CV_dir_12 = root_spindle + \"20221124_M_2iCtrl/Cell_Volumes\"\n",
    "\n",
    "CV_df_1 = concat_misc_measurement(CV_dir_1)\n",
    "CV_df_2 = concat_misc_measurement(CV_dir_2)\n",
    "CV_df_3 = concat_misc_measurement(CV_dir_3)\n",
    "CV_df_4 = concat_misc_measurement(CV_dir_4)\n",
    "CV_df_5 = concat_misc_measurement(CV_dir_5)\n",
    "CV_df_6 = concat_misc_measurement(CV_dir_6)\n",
    "CV_df_7 = concat_misc_measurement(CV_dir_7)\n",
    "CV_df_8 = concat_misc_measurement(CV_dir_8)\n",
    "CV_df_9 = concat_misc_measurement(CV_dir_9)\n",
    "CV_df_10 = concat_misc_measurement(CV_dir_10)\n",
    "CV_df_11 = concat_misc_measurement(CV_dir_11)\n",
    "CV_df_12 = concat_misc_measurement(CV_dir_12)\n",
    "\n",
    "CV_dataframes = [CV_df_1, CV_df_2, CV_df_3, CV_df_4, CV_df_5, CV_df_6, CV_df_7, CV_df_8, CV_df_9, CV_df_10, CV_df_11, CV_df_12]\n",
    "CV_df = pd.concat(CV_dataframes)\n",
    "\n",
    "CV_df = CV_df.rename(\n",
    "    columns = {\"Volume\": \"Cell_Volume_um3\", \n",
    "            \"SurfaceArea\": \"Cell_Surface_Area_um2\", \n",
    "             \"Sphericity\": \"Cell_Sphericity\"}\n",
    ")\n",
    "\n",
    "cell_volumes_out = out_dir + \"/\" + \"MasterDataFrame_CellVolumes.csv\"\n",
    "CV_df.to_csv(cell_volumes_out)\n",
    "print(\"Successfully saved dataframe for cell volumes to {}\".format(cell_volumes_out))"
   ]
  },
  {
   "cell_type": "code",
   "execution_count": 18,
   "metadata": {},
   "outputs": [
    {
     "name": "stdout",
     "output_type": "stream",
     "text": [
      "(535, 5)\n"
     ]
    },
    {
     "data": {
      "text/html": [
       "<div>\n",
       "<style scoped>\n",
       "    .dataframe tbody tr th:only-of-type {\n",
       "        vertical-align: middle;\n",
       "    }\n",
       "\n",
       "    .dataframe tbody tr th {\n",
       "        vertical-align: top;\n",
       "    }\n",
       "\n",
       "    .dataframe thead th {\n",
       "        text-align: right;\n",
       "    }\n",
       "</style>\n",
       "<table border=\"1\" class=\"dataframe\">\n",
       "  <thead>\n",
       "    <tr style=\"text-align: right;\">\n",
       "      <th></th>\n",
       "      <th>Cell_ID</th>\n",
       "      <th>Tubulin_Cell_Average</th>\n",
       "      <th>Tubulin_Cell_Minimum</th>\n",
       "      <th>Tubulin_Cell_Maximum</th>\n",
       "      <th>Tubulin_Cell_IntegratedDensity</th>\n",
       "    </tr>\n",
       "  </thead>\n",
       "  <tbody>\n",
       "    <tr>\n",
       "      <th>0</th>\n",
       "      <td>20220927_R1E309_N2B27fromFBS_SiRDNA_48hrs_034-1</td>\n",
       "      <td>1559.978</td>\n",
       "      <td>597</td>\n",
       "      <td>8985</td>\n",
       "      <td>213570372</td>\n",
       "    </tr>\n",
       "  </tbody>\n",
       "</table>\n",
       "</div>"
      ],
      "text/plain": [
       "                                           Cell_ID  Tubulin_Cell_Average  \\\n",
       "0  20220927_R1E309_N2B27fromFBS_SiRDNA_48hrs_034-1  1559.978               \n",
       "\n",
       "   Tubulin_Cell_Minimum  Tubulin_Cell_Maximum  Tubulin_Cell_IntegratedDensity  \n",
       "0  597                   8985                  213570372                       "
      ]
     },
     "execution_count": 18,
     "metadata": {},
     "output_type": "execute_result"
    }
   ],
   "source": [
    "# parse total cell GFP\n",
    "GFP_dir_0 = \"/Volumes/TOB_WD2/Microscopy/20221124_M_2iCtrl/Total_Cell_GFP\"\n",
    "GFP_dir_1 = \"/Volumes/TOB_WD2/Microscopy/20220927_M_2iCtrl/Total_Cell_GFP\"\n",
    "#GFP_dir_2 = \"/Volumes/TOB_WD2/Microscopy/20230823_Osmotic/Total_Cell_GFP\"\n",
    "\n",
    "def concat_GFP(folder):\n",
    "    CV_dataframes = []\n",
    "    for root, dirs, files in os.walk(folder):\n",
    "        for file in files:\n",
    "            if not file.startswith(\".\"):\n",
    "                filepath = root + os.sep + file  \n",
    "                if filepath.endswith(\".csv\"):\n",
    "                    single_df = pd.read_csv(filepath)\n",
    "                    single_df = single_df.rename(\n",
    "                            columns = {\n",
    "                                \"Average\": \"Tubulin_Cell_Average\",\n",
    "                                \"Minimum\": \"Tubulin_Cell_Minimum\",\n",
    "                                \"Maximum\": \"Tubulin_Cell_Maximum\",\n",
    "                                \"IntegratedDensity\": \"Tubulin_Cell_IntegratedDensity\"\n",
    "                            }\n",
    "                    )\n",
    "                    single_df = single_df[[\"Cell_ID\", \"Tubulin_Cell_Average\", \"Tubulin_Cell_Minimum\", \"Tubulin_Cell_Maximum\", \"Tubulin_Cell_IntegratedDensity\"]]\n",
    "\n",
    "                    CV_dataframes.append(single_df)\n",
    "                else:\n",
    "                    pass\n",
    "            else:\n",
    "                pass\n",
    "    CV_df = pd.concat(CV_dataframes)\n",
    "    return CV_df \n",
    "\n",
    "GFP_df_0 = concat_GFP(GFP_dir_0)\n",
    "GFP_df_1 = concat_GFP(GFP_dir_1)\n",
    "#GFP_df_2 = concat_GFP(GFP_dir_2)\n",
    "\n",
    "GFP_df = pd.concat([GFP_df_0, GFP_df_1])\n",
    "\n",
    "print(GFP_df.shape)\n",
    "GFP_df.tail(1)"
   ]
  },
  {
   "cell_type": "code",
   "execution_count": 19,
   "metadata": {},
   "outputs": [
    {
     "name": "stdout",
     "output_type": "stream",
     "text": [
      "Successfully merged dataframes. The shape of df is: (1514, 35)\n"
     ]
    }
   ],
   "source": [
    "df = pd.merge(df, CV_df, how = \"outer\", on = \"Cell_ID\")\n",
    "df = pd.merge(df, GFP_df, how = \"outer\", on = \"Cell_ID\")\n",
    "print(\"Successfully merged dataframes. The shape of df is: \" + str(df.shape))"
   ]
  },
  {
   "cell_type": "code",
   "execution_count": 20,
   "metadata": {},
   "outputs": [
    {
     "data": {
      "text/html": [
       "<div>\n",
       "<style scoped>\n",
       "    .dataframe tbody tr th:only-of-type {\n",
       "        vertical-align: middle;\n",
       "    }\n",
       "\n",
       "    .dataframe tbody tr th {\n",
       "        vertical-align: top;\n",
       "    }\n",
       "\n",
       "    .dataframe thead th {\n",
       "        text-align: right;\n",
       "    }\n",
       "</style>\n",
       "<table border=\"1\" class=\"dataframe\">\n",
       "  <thead>\n",
       "    <tr style=\"text-align: right;\">\n",
       "      <th></th>\n",
       "      <th>Chromatin_Dilation</th>\n",
       "      <th>Chromatin_Volume_um3</th>\n",
       "      <th>DNA_Threshold</th>\n",
       "      <th>MetaphasePlate_Length_um</th>\n",
       "      <th>MetaphasePlate_Width_um</th>\n",
       "      <th>Path_InputImage</th>\n",
       "      <th>Path_OutputImage</th>\n",
       "      <th>Spindle_Angle_Degrees</th>\n",
       "      <th>Spindle_Aspect_Ratio</th>\n",
       "      <th>Spindle_Center_To_MetaphasePlate_Center_Distance_um</th>\n",
       "      <th>...</th>\n",
       "      <th>Cell_Surface_Area_um2</th>\n",
       "      <th>Cell_Sphericity</th>\n",
       "      <th>Tubulin_Cell_Average</th>\n",
       "      <th>Tubulin_Cell_Minimum</th>\n",
       "      <th>Tubulin_Cell_Maximum</th>\n",
       "      <th>Tubulin_Cell_IntegratedDensity</th>\n",
       "      <th>Date</th>\n",
       "      <th>Medium</th>\n",
       "      <th>Incubation</th>\n",
       "      <th>Incubation_bin</th>\n",
       "    </tr>\n",
       "  </thead>\n",
       "  <tbody>\n",
       "    <tr>\n",
       "      <th>0</th>\n",
       "      <td>0.641523</td>\n",
       "      <td>463.53125</td>\n",
       "      <td>9138.0</td>\n",
       "      <td>13.0</td>\n",
       "      <td>4.0</td>\n",
       "      <td>Volumes/TOB_WD2/Microscopy/20220516_M_2iCtrl/Crop/20220516_R1E309_2i+LIF_Hoechst_5hrs_002-1.tif</td>\n",
       "      <td>Volumes/TOB_WD2/Microscopy/20220516_M_2iCtrl/Spindle3D/20220516_R1E309_2i+LIF_Hoechst_5hrs_002-1/20220516_R1E309_2i+LIF_Hoechst_5hrs_002-1-out.zip</td>\n",
       "      <td>58.494008</td>\n",
       "      <td>1.182685</td>\n",
       "      <td>0.901388</td>\n",
       "      <td>...</td>\n",
       "      <td>1341.09</td>\n",
       "      <td>0.884</td>\n",
       "      <td>NaN</td>\n",
       "      <td>NaN</td>\n",
       "      <td>NaN</td>\n",
       "      <td>NaN</td>\n",
       "      <td>20220516</td>\n",
       "      <td>2i+LIF</td>\n",
       "      <td>5hrs</td>\n",
       "      <td>5</td>\n",
       "    </tr>\n",
       "  </tbody>\n",
       "</table>\n",
       "<p>1 rows × 35 columns</p>\n",
       "</div>"
      ],
      "text/plain": [
       "   Chromatin_Dilation  Chromatin_Volume_um3  DNA_Threshold  \\\n",
       "0  0.641523            463.53125             9138.0          \n",
       "\n",
       "   MetaphasePlate_Length_um  MetaphasePlate_Width_um  \\\n",
       "0  13.0                      4.0                       \n",
       "\n",
       "                                                                                   Path_InputImage  \\\n",
       "0  Volumes/TOB_WD2/Microscopy/20220516_M_2iCtrl/Crop/20220516_R1E309_2i+LIF_Hoechst_5hrs_002-1.tif   \n",
       "\n",
       "                                                                                                                                     Path_OutputImage  \\\n",
       "0  Volumes/TOB_WD2/Microscopy/20220516_M_2iCtrl/Spindle3D/20220516_R1E309_2i+LIF_Hoechst_5hrs_002-1/20220516_R1E309_2i+LIF_Hoechst_5hrs_002-1-out.zip   \n",
       "\n",
       "   Spindle_Angle_Degrees  Spindle_Aspect_Ratio  \\\n",
       "0  58.494008              1.182685               \n",
       "\n",
       "   Spindle_Center_To_MetaphasePlate_Center_Distance_um  ...  \\\n",
       "0  0.901388                                             ...   \n",
       "\n",
       "   Cell_Surface_Area_um2  Cell_Sphericity  Tubulin_Cell_Average  \\\n",
       "0  1341.09                0.884           NaN                     \n",
       "\n",
       "   Tubulin_Cell_Minimum  Tubulin_Cell_Maximum  Tubulin_Cell_IntegratedDensity  \\\n",
       "0 NaN                   NaN                   NaN                               \n",
       "\n",
       "       Date  Medium  Incubation  Incubation_bin  \n",
       "0  20220516  2i+LIF  5hrs        5               \n",
       "\n",
       "[1 rows x 35 columns]"
      ]
     },
     "execution_count": 20,
     "metadata": {},
     "output_type": "execute_result"
    }
   ],
   "source": [
    "def incubation_binning(x):\n",
    "    if x == \"4hrs\" or x == \"5hrs\" or x == \"6hrs\":\n",
    "        return 5\n",
    "    elif x == \"24hrs\":\n",
    "        return 24\n",
    "    elif x == \"48hrs\":\n",
    "        return 48\n",
    "    else:\n",
    "        return None\n",
    "\n",
    "df[\"Date\"] = df.Cell_ID.str.split(\"_\").str.get(0)\n",
    "df[\"Medium\"] = df.Cell_ID.str.split(\"_\").str.get(2)\n",
    "df[\"Incubation\"] = df.Cell_ID.str.split(\"_\").str.get(4)\n",
    "df[\"Incubation_bin\"] = df.Incubation.apply(incubation_binning)\n",
    "\n",
    "df = df.drop([\"Label\", \"Comment\", \"Cell_Surface_um2\"], axis = 1)\n",
    "df = df.loc[:, ~df.columns.str.contains('^Unnamed')]\n",
    "df = df.loc[:, ~df.columns.str.contains('_x')]\n",
    "df = df.loc[:, ~df.columns.str.contains('_y')]\n",
    "df.head(1)"
   ]
  },
  {
   "cell_type": "code",
   "execution_count": 21,
   "metadata": {},
   "outputs": [],
   "source": [
    "def correct_media_nomenclature(x):\n",
    "    if x == \"N2B27RA\":\n",
    "        return \"N2B27fromFBS\"\n",
    "    elif x == \"Full+LIF\":\n",
    "        return \"FBS+LIF\"\n",
    "    else:\n",
    "        return x\n",
    "    \n",
    "df[\"Medium\"] = df.Medium.apply(correct_media_nomenclature)"
   ]
  },
  {
   "cell_type": "code",
   "execution_count": 22,
   "metadata": {},
   "outputs": [],
   "source": [
    "# Tubulin quantification and normalisation\n",
    "df[\"Tubulin_Cell_Average\"] = df.Tubulin_Cell_Average - df.Tubulin_Cell_Minimum\n",
    "\n",
    "df[\"Fraction_SpindleVol_in_Cell\"] = df.Spindle_Volume_um3 / df.Cell_Volume_um3 * 100\n",
    "\n",
    "df[\"SpindleVolume_ChromatinVolume_Ratio\"] = df.Spindle_Volume_um3 / df.Chromatin_Volume_um3\n",
    "df[\"CellSurfaceArea_CellVolume_Ratio\"] = df.Cell_Surface_Area_um2 / df.Cell_Volume_um3\n",
    "\n",
    "df[\"SpindleVolume_SACV\"] = df.Spindle_Volume_um3 / df.CellSurfaceArea_CellVolume_Ratio\n",
    "df[\"SpindleVolume_SA\"] = df.Spindle_Volume_um3 / df.Cell_Surface_Area_um2"
   ]
  },
  {
   "cell_type": "code",
   "execution_count": 23,
   "metadata": {},
   "outputs": [],
   "source": [
    "# Load population density data\n",
    "\n",
    "pop_df = pd.read_excel(\"/Volumes/TOB_WD2/Image_Analysis/Mitosis/Dataframes/Population_Density.xlsx\")\n",
    "\n",
    "df[\"Image_ID\"] = df.Cell_ID.str.split(\"-\").str.get(0)\n",
    "df = df.merge(pop_df, how = \"outer\")"
   ]
  },
  {
   "cell_type": "code",
   "execution_count": 24,
   "metadata": {},
   "outputs": [
    {
     "name": "stdout",
     "output_type": "stream",
     "text": [
      "Successfully saved dataframe to /Volumes/TOB_WD2/Image_Analysis/Mitosis/Dataframes/SpinningDisc_2i_vs_FBS/MasterDataFrame.csv\n"
     ]
    }
   ],
   "source": [
    "final_out = out_dir + \"/\" + \"MasterDataFrame.csv\"\n",
    "df.to_csv(final_out)\n",
    "print(\"Successfully saved dataframe to {}\".format(final_out))"
   ]
  }
 ],
 "metadata": {
  "kernelspec": {
   "display_name": "Python 3",
   "language": "python",
   "name": "python3"
  },
  "language_info": {
   "codemirror_mode": {
    "name": "ipython",
    "version": 3
   },
   "file_extension": ".py",
   "mimetype": "text/x-python",
   "name": "python",
   "nbconvert_exporter": "python",
   "pygments_lexer": "ipython3",
   "version": "3.7.1"
  }
 },
 "nbformat": 4,
 "nbformat_minor": 4
}
