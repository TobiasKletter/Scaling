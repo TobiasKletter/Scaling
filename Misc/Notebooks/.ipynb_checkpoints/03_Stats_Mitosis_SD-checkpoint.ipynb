{
 "cells": [
  {
   "cell_type": "code",
   "execution_count": 1,
   "metadata": {},
   "outputs": [
    {
     "data": {
      "text/html": [
       "<style>.container { width:80% !important; }</style>"
      ],
      "text/plain": [
       "<IPython.core.display.HTML object>"
      ]
     },
     "metadata": {},
     "output_type": "display_data"
    }
   ],
   "source": [
    "import pandas as pd\n",
    "import scipy\n",
    "from scipy import stats\n",
    "\n",
    "from IPython.core.display import display, HTML\n",
    "display(HTML(\"<style>.container { width:80% !important; }</style>\"))"
   ]
  },
  {
   "cell_type": "code",
   "execution_count": 2,
   "metadata": {},
   "outputs": [
    {
     "name": "stdout",
     "output_type": "stream",
     "text": [
      "The shape of the df after filtering in visualisation notebook: (745, 46)\n"
     ]
    }
   ],
   "source": [
    "# Data import\n",
    "\n",
    "root = \"/Volumes/TOB_WD2/Image_Analysis/Mitosis/Dataframes/SpinningDisc_2i_vs_FBS\" + \"/\"\n",
    "df_Path = root + \"MasterDataFrame_Filtered.csv\"\n",
    "\n",
    "df = pd.read_csv(df_Path)\n",
    "\n",
    "df = df[df[\"Incubation_bin\"] == 48]\n",
    "\n",
    "keep_datasets = [20220517, 20220602, 20220603, 20220617, 20220623, 20220624, 20220720, 20220721, 20220722, 20220927, 20221124]\n",
    "df = df[df['Date'].isin(keep_datasets)]\n",
    "\n",
    "print(\"The shape of the df after filtering in visualisation notebook: \" + str(df.shape))"
   ]
  },
  {
   "cell_type": "code",
   "execution_count": 3,
   "metadata": {},
   "outputs": [
    {
     "data": {
      "text/plain": [
       "Index(['Unnamed: 0', 'Unnamed: 0.1', 'Chromatin_Dilation',\n",
       "       'Chromatin_Volume_um3', 'DNA_Threshold', 'MetaphasePlate_Length_um',\n",
       "       'MetaphasePlate_Width_um', 'Path_InputImage', 'Path_OutputImage',\n",
       "       'Spindle_Angle_Degrees', 'Spindle_Aspect_Ratio',\n",
       "       'Spindle_Center_To_MetaphasePlate_Center_Distance_um',\n",
       "       'Spindle_Length_um', 'Spindle_SNR', 'Spindle_Volume_um3',\n",
       "       'Spindle_Width_Avg_um', 'Spindle_Width_Max_um', 'Spindle_Width_Min_um',\n",
       "       'Tubulin_Cellular_Avg_Intensity', 'Tubulin_Spindle_Average_Intensity',\n",
       "       'Tubulin_Spindle_Intensity_Threshold',\n",
       "       'Tubulin_Spindle_Intensity_Variation', 'Version', 'Cell_ID',\n",
       "       'Experiment', ' ', 'Cell_Volume_um3', 'Cell_Surface_Area_um2',\n",
       "       'Cell_Sphericity', 'Tubulin_Cell_Average', 'Tubulin_Cell_Minimum',\n",
       "       'Tubulin_Cell_Maximum', 'Tubulin_Cell_IntegratedDensity', 'Date',\n",
       "       'Medium', 'Incubation', 'Incubation_bin', 'Fraction_SpindleVol_in_Cell',\n",
       "       'SpindleVolume_ChromatinVolume_Ratio',\n",
       "       'CellSurfaceArea_CellVolume_Ratio', 'SpindleVolume_SACV',\n",
       "       'SpindleVolume_SA', 'Image_ID', 'No_Cells', 'Area_FOV_mm2',\n",
       "       'Population_Density_per_mm2'],\n",
       "      dtype='object')"
      ]
     },
     "execution_count": 3,
     "metadata": {},
     "output_type": "execute_result"
    }
   ],
   "source": [
    "df.columns"
   ]
  },
  {
   "cell_type": "code",
   "execution_count": 4,
   "metadata": {},
   "outputs": [
    {
     "data": {
      "text/plain": [
       "2i+LIF          258\n",
       "FBS+LIF         202\n",
       "N2B27from2i     146\n",
       "N2B27fromFBS    139\n",
       "Name: Medium, dtype: int64"
      ]
     },
     "execution_count": 4,
     "metadata": {},
     "output_type": "execute_result"
    }
   ],
   "source": [
    "df[\"Medium\"].value_counts()"
   ]
  },
  {
   "cell_type": "code",
   "execution_count": 5,
   "metadata": {},
   "outputs": [
    {
     "data": {
      "text/plain": [
       "2i+LIF          215\n",
       "FBS+LIF         181\n",
       "N2B27fromFBS    119\n",
       "N2B27from2i      98\n",
       "Name: Medium, dtype: int64"
      ]
     },
     "execution_count": 5,
     "metadata": {},
     "output_type": "execute_result"
    }
   ],
   "source": [
    "df[df.Fraction_SpindleVol_in_Cell > 0].Medium.value_counts()"
   ]
  },
  {
   "cell_type": "code",
   "execution_count": 6,
   "metadata": {},
   "outputs": [],
   "source": [
    "# t-test\n",
    "\n",
    "def ttest(medium1, medium2, measurement, incubation):\n",
    "    statistic, pvalue = scipy.stats.ttest_ind(\n",
    "        df[(df[\"Medium\"] == medium1) & (df[\"Incubation_bin\"] == incubation)][measurement], \n",
    "        df[(df[\"Medium\"] == medium2) & (df[\"Incubation_bin\"] == incubation)][measurement], \n",
    "        axis = 0, \n",
    "        equal_var = False, \n",
    "        nan_policy = 'omit'\n",
    "    )\n",
    "    print (\"The p-value for {} is: \".format(measurement) + str(pvalue))"
   ]
  },
  {
   "cell_type": "code",
   "execution_count": 7,
   "metadata": {},
   "outputs": [
    {
     "name": "stdout",
     "output_type": "stream",
     "text": [
      "The p-value for Fraction_SpindleVol_in_Cell is: 2.1902342567260555e-28\n",
      "The p-value for Fraction_SpindleVol_in_Cell is: 2.2847013483555973e-06\n"
     ]
    }
   ],
   "source": [
    "#ttest(\"Fraction_SpindleVol_in_Cell\", 5)\n",
    "#ttest(\"Fraction_SpindleVol_in_Cell\", 24)\n",
    "ttest(medium1 = \"2i+LIF\", medium2 = \"N2B27from2i\", measurement = \"Fraction_SpindleVol_in_Cell\", incubation = 48)\n",
    "ttest(medium1 = \"FBS+LIF\", medium2 = \"N2B27fromFBS\", measurement = \"Fraction_SpindleVol_in_Cell\", incubation = 48)"
   ]
  },
  {
   "cell_type": "code",
   "execution_count": 8,
   "metadata": {},
   "outputs": [
    {
     "name": "stdout",
     "output_type": "stream",
     "text": [
      "The p-value for Cell_Volume_um3 is: 1.1500074180945582e-41\n",
      "The p-value for Cell_Volume_um3 is: 5.430628237224075e-13\n"
     ]
    }
   ],
   "source": [
    "ttest(medium1 = \"2i+LIF\", medium2 = \"N2B27from2i\", measurement = \"Cell_Volume_um3\", incubation = 48)\n",
    "ttest(medium1 = \"FBS+LIF\", medium2 = \"N2B27fromFBS\", measurement = \"Cell_Volume_um3\", incubation = 48)"
   ]
  },
  {
   "cell_type": "code",
   "execution_count": 9,
   "metadata": {},
   "outputs": [
    {
     "name": "stdout",
     "output_type": "stream",
     "text": [
      "The p-value for Chromatin_Volume_um3 is: 0.02018780884736471\n",
      "The p-value for Chromatin_Volume_um3 is: 0.0047504072168199005\n"
     ]
    }
   ],
   "source": [
    "ttest(medium1 = \"2i+LIF\", medium2 = \"N2B27from2i\", measurement = \"Chromatin_Volume_um3\", incubation = 48)\n",
    "ttest(medium1 = \"FBS+LIF\", medium2 = \"N2B27fromFBS\", measurement = \"Chromatin_Volume_um3\", incubation = 48)"
   ]
  },
  {
   "cell_type": "code",
   "execution_count": 10,
   "metadata": {},
   "outputs": [
    {
     "name": "stdout",
     "output_type": "stream",
     "text": [
      "The Bartlett test for equal variances of Fraction_SpindleVol_in_Cell: BartlettResult(statistic=nan, pvalue=nan)\n",
      "                                 OLS Regression Results                                \n",
      "=======================================================================================\n",
      "Dep. Variable:     Fraction_SpindleVol_in_Cell   R-squared:                       0.189\n",
      "Model:                                     OLS   Adj. R-squared:                  0.185\n",
      "Method:                          Least Squares   F-statistic:                     47.38\n",
      "Date:                         Wed, 08 Nov 2023   Prob (F-statistic):           1.57e-27\n",
      "Time:                                 11:48:36   Log-Likelihood:                -1386.4\n",
      "No. Observations:                          613   AIC:                             2781.\n",
      "Df Residuals:                              609   BIC:                             2799.\n",
      "Df Model:                                    3                                         \n",
      "Covariance Type:                     nonrobust                                         \n",
      "=============================================================================================\n",
      "                                coef    std err          t      P>|t|      [0.025      0.975]\n",
      "---------------------------------------------------------------------------------------------\n",
      "Intercept                    13.7282      0.159     86.377      0.000      13.416      14.040\n",
      "C(Medium)[T.FBS+LIF]         -0.5375      0.235     -2.286      0.023      -0.999      -0.076\n",
      "C(Medium)[T.N2B27from2i]     -3.0602      0.284    -10.774      0.000      -3.618      -2.502\n",
      "C(Medium)[T.N2B27fromFBS]    -1.9283      0.266     -7.242      0.000      -2.451      -1.405\n",
      "==============================================================================\n",
      "Omnibus:                       41.783   Durbin-Watson:                   1.701\n",
      "Prob(Omnibus):                  0.000   Jarque-Bera (JB):               62.321\n",
      "Skew:                           0.519   Prob(JB):                     2.93e-14\n",
      "Kurtosis:                       4.167   Cond. No.                         4.25\n",
      "==============================================================================\n",
      "\n",
      "Notes:\n",
      "[1] Standard Errors assume that the covariance matrix of the errors is correctly specified.\n",
      "\n",
      " ANOVA TABLE: \n",
      "                sum_sq     df     mean_sq          F        PR(>F)   eta_sq  \\\n",
      "C(Medium)   771.923047    3.0  257.307682  47.379311  1.568956e-27  0.18923   \n",
      "Residual   3307.358738  609.0    5.430803        NaN           NaN      NaN   \n",
      "\n",
      "           omega_sq  \n",
      "C(Medium)   0.18499  \n",
      "Residual        NaN  \n",
      "\n",
      "\n",
      " POST-HOC testing for Fraction_SpindleVol_in_Cell: \n",
      "\n",
      "      Multiple Comparison of Means - Tukey HSD, FWER=0.05      \n",
      "===============================================================\n",
      "   group1      group2    meandiff p-adj   lower   upper  reject\n",
      "---------------------------------------------------------------\n",
      "     2i+LIF      FBS+LIF  -0.5375 0.1023 -1.1431  0.0681  False\n",
      "     2i+LIF  N2B27from2i  -3.0602  0.001 -3.7919 -2.3285   True\n",
      "     2i+LIF N2B27fromFBS  -1.9283  0.001 -2.6143 -1.2424   True\n",
      "    FBS+LIF  N2B27from2i  -2.5227  0.001 -3.2757 -1.7698   True\n",
      "    FBS+LIF N2B27fromFBS  -1.3908  0.001 -2.0994 -0.6823   True\n",
      "N2B27from2i N2B27fromFBS   1.1319 0.0023  0.3129  1.9508   True\n",
      "---------------------------------------------------------------\n",
      "If \"reject\" = True, then H0 should be rejected\n",
      "\n",
      " Welch's ANOVA table\n",
      "   Source  ddof1       ddof2         F         p-unc      np2\n",
      "0  Medium      3  297.853415  61.11619  8.085584e-31  0.18923\n",
      "\n",
      " Games-Howell post-hoc test table\n",
      "             A             B    mean(A)    mean(B)      diff        se  \\\n",
      "0       2i+LIF       FBS+LIF  13.728178  13.190697  0.537481  0.246576   \n",
      "1       2i+LIF   N2B27from2i  13.728178  10.667977  3.060201  0.242241   \n",
      "2       2i+LIF  N2B27fromFBS  13.728178  11.799852  1.928326  0.270518   \n",
      "3      FBS+LIF   N2B27from2i  13.190697  10.667977  2.522720  0.261350   \n",
      "4      FBS+LIF  N2B27fromFBS  13.190697  11.799852  1.390845  0.287755   \n",
      "5  N2B27from2i  N2B27fromFBS  10.667977  11.799852 -1.131875  0.284050   \n",
      "\n",
      "           T          df      pval    hedges  \n",
      "0   2.179784  371.605876  0.130611  0.219470  \n",
      "1  12.632860  239.968910  0.001000  1.536003  \n",
      "2   7.128279  240.641590  0.001000  0.812610  \n",
      "3   9.652641  256.653779  0.001000  1.207306  \n",
      "4   4.833434  262.869834  0.001000  0.568995  \n",
      "5  -3.984777  213.549346  0.001000 -0.541661  \n"
     ]
    },
    {
     "name": "stderr",
     "output_type": "stream",
     "text": [
      "/anaconda3/envs/statistics/lib/python3.8/site-packages/outdated/utils.py:14: OutdatedPackageWarning: The package pingouin is out of date. Your version is 0.4.0, the latest is 0.5.3.\n",
      "Set the environment variable OUTDATED_IGNORE=1 to disable these warnings.\n",
      "  return warn(\n",
      "/anaconda3/envs/statistics/lib/python3.8/site-packages/outdated/utils.py:14: OutdatedPackageWarning: The package outdated is out of date. Your version is 0.2.1, the latest is 0.2.2.\n",
      "Set the environment variable OUTDATED_IGNORE=1 to disable these warnings.\n",
      "  return warn(\n"
     ]
    }
   ],
   "source": [
    "df = df[df[\"Incubation_bin\"] == 48]\n",
    "\n",
    "# ANOVA Testing\n",
    "# ANOVA as generalized linear model (GLM):\n",
    "import numpy as np\n",
    "import statsmodels.api as sm\n",
    "from statsmodels.formula.api import ols\n",
    "import pingouin as pg\n",
    "import scipy.stats as stats\n",
    "from statsmodels.stats.multicomp import pairwise_tukeyhsd\n",
    "from statsmodels.stats.multicomp import MultiComparison\n",
    "\n",
    "measurement = 'Fraction_SpindleVol_in_Cell'\n",
    "group_variable = 'Medium'\n",
    "nan_elements = df[measurement].isnull()\n",
    "data = df[~nan_elements]\n",
    "\n",
    "# Bartlett's test for equal variances (One-way ANOVA requires equal variances!)\n",
    "\n",
    "BartlettResult = stats.bartlett(data[data.Medium == '2i+LIF'][measurement], data[data.Medium == 'FBS+LIF'][measurement], data[data.Medium == 'N2B27RAfrom2i'], data[data.Medium == 'N2B27RAfromFBS'][measurement])\n",
    "\n",
    "print(\"The Bartlett test for equal variances of {}: \".format(measurement) + str(BartlettResult))\n",
    "\n",
    "\n",
    "#results = ols('Aspect-Ratio~ C('+group_variable+')', data=data).fit()\n",
    "results = ols(measurement + '~ C('+group_variable+')', data = data).fit()\n",
    "print(results.summary())\n",
    "\n",
    "aov_table = sm.stats.anova_lm(results, typ = 2)\n",
    "\n",
    "def anova_table(aov):\n",
    "    aov['mean_sq'] = aov[:]['sum_sq'] / aov[:]['df']\n",
    "    \n",
    "    aov['eta_sq'] = aov[:-1]['sum_sq'] / sum(aov['sum_sq'])\n",
    "    \n",
    "    aov['omega_sq'] = (aov[:-1]['sum_sq']-(aov[:-1]['df'] * aov['mean_sq'][-1])) / (sum(aov['sum_sq']) + aov['mean_sq'][-1])\n",
    "    \n",
    "    cols = ['sum_sq', 'df', 'mean_sq', 'F', 'PR(>F)', 'eta_sq', 'omega_sq']\n",
    "    aov = aov[cols]\n",
    "    return aov\n",
    "\n",
    "aov_table = anova_table(aov_table)\n",
    "print(\"\\n ANOVA TABLE: \")\n",
    "print(aov_table)\n",
    "\n",
    "# Post-hoc testing\n",
    "mc = MultiComparison(data[measurement], data[group_variable])\n",
    "mc_results = mc.tukeyhsd()\n",
    "print(\"\\n\\n POST-HOC testing for {}: \\n\".format(measurement))\n",
    "print(mc_results)\n",
    "print(\"If \\\"reject\\\" = True, then H0 should be rejected\")\n",
    "\n",
    "# Welch's ANOVA when variances are unequal\n",
    "aov_table_WELCH = pg.welch_anova(dv = measurement, between = group_variable, data = data)\n",
    "print(\"\\n Welch's ANOVA table\") \n",
    "print(aov_table_WELCH)\n",
    "\n",
    "# Post-hoc testing using Games-Howell post-hoc test\n",
    "mc_results_GamesHowell = pg.pairwise_gameshowell(dv = measurement, between = group_variable, data = data)\n",
    "print(\"\\n Games-Howell post-hoc test table\") \n",
    "print(mc_results_GamesHowell)"
   ]
  },
  {
   "cell_type": "code",
   "execution_count": 11,
   "metadata": {},
   "outputs": [
    {
     "name": "stdout",
     "output_type": "stream",
     "text": [
      "(202, 46)\n",
      "(139, 46)\n"
     ]
    }
   ],
   "source": [
    "df_FBS = df[df[\"Medium\"] == \"FBS+LIF\"]\n",
    "df_N2B27 = df[df[\"Medium\"] == \"N2B27fromFBS\"]\n",
    "print(df_FBS.shape)\n",
    "print(df_N2B27.shape)"
   ]
  },
  {
   "cell_type": "code",
   "execution_count": 12,
   "metadata": {},
   "outputs": [],
   "source": [
    "# correlation\n",
    "def correlation(dataframe_list, independent_column, dependent_column):\n",
    "    for dataframe in dataframe_list:\n",
    "        dataframe_name = dataframe.Medium.head(1)\n",
    "        spearman = stats.spearmanr(\n",
    "            dataframe[independent_column], \n",
    "            dataframe[dependent_column], \n",
    "            nan_policy = 'omit')\n",
    "        print(\n",
    "            \"Spearman correlation for x = {} vs y = {} in {}: {}.\".format(\n",
    "                dependent_column, \n",
    "                independent_column,\n",
    "                dataframe_name, spearman\n",
    "            )\n",
    "        )\n"
   ]
  },
  {
   "cell_type": "code",
   "execution_count": 13,
   "metadata": {},
   "outputs": [
    {
     "name": "stdout",
     "output_type": "stream",
     "text": [
      "Spearman correlation for x = Cell_Volume_um3 vs y = Population_Density_per_mm2 in 57    FBS+LIF\n",
      "Name: Medium, dtype: object: SpearmanrResult(correlation=0.1849099637880859, pvalue=0.07439095716151867).\n",
      "Spearman correlation for x = Cell_Volume_um3 vs y = Population_Density_per_mm2 in 256    N2B27fromFBS\n",
      "Name: Medium, dtype: object: SpearmanrResult(correlation=0.10904119087710568, pvalue=0.21152496820541258).\n"
     ]
    }
   ],
   "source": [
    "correlation([df_FBS, df_N2B27], \"Population_Density_per_mm2\", \"Cell_Volume_um3\")"
   ]
  },
  {
   "cell_type": "code",
   "execution_count": 14,
   "metadata": {},
   "outputs": [
    {
     "name": "stdout",
     "output_type": "stream",
     "text": [
      "Spearman correlation for x = Spindle_Volume_um3 vs y = Population_Density_per_mm2 in 57    FBS+LIF\n",
      "Name: Medium, dtype: object: SpearmanrResult(correlation=0.24030463174992533, pvalue=0.020331130147221946).\n",
      "Spearman correlation for x = Spindle_Volume_um3 vs y = Population_Density_per_mm2 in 256    N2B27fromFBS\n",
      "Name: Medium, dtype: object: SpearmanrResult(correlation=-0.08203222616267054, pvalue=0.3855719937651838).\n"
     ]
    }
   ],
   "source": [
    "correlation([df_FBS, df_N2B27], \"Population_Density_per_mm2\", \"Spindle_Volume_um3\")"
   ]
  },
  {
   "cell_type": "code",
   "execution_count": 15,
   "metadata": {},
   "outputs": [],
   "source": [
    "# Linear Regression\n",
    "\n",
    "from sklearn import linear_model\n",
    "from sklearn.metrics import mean_squared_error, r2_score\n",
    "\n",
    "def linear_fit(dataframe, independent_column, dependent_column): \n",
    "    dataframe = dataframe[dataframe[[independent_column, dependent_column]].notnull().all(1)]\n",
    "    length = dataframe.shape[0]\n",
    "\n",
    "    X = dataframe[independent_column].values.reshape(length, 1)\n",
    "    y = dataframe[dependent_column].values.reshape(length, 1)\n",
    "\n",
    "    regr = linear_model.LinearRegression()\n",
    "    regr.fit(X, y)\n",
    "    y_predicted = regr.predict(X)\n",
    "\n",
    "    # model evaluation\n",
    "    rmse = mean_squared_error(y, y_predicted)\n",
    "    R2 = r2_score(y, y_predicted)\n",
    "    slope = regr.coef_\n",
    "    interc = regr.intercept_\n",
    "    \n",
    "    return rmse, R2, slope, interc"
   ]
  },
  {
   "cell_type": "code",
   "execution_count": 16,
   "metadata": {},
   "outputs": [
    {
     "name": "stdout",
     "output_type": "stream",
     "text": [
      "Cell Volume vs Pop density, FBS+LIF\n",
      "Slope:  [[0.08074075]]\n",
      "Intercept:  [2449.12286467]\n",
      "Root mean squared error:  128241.83420533144\n",
      "R2 score:  0.044674357072580384\n"
     ]
    }
   ],
   "source": [
    "print(\"Cell Volume vs Pop density, FBS+LIF\")\n",
    "rmse, R2, slope, interc = linear_fit(df_FBS, \"Population_Density_per_mm2\", \"Cell_Volume_um3\")  \n",
    "print('Slope: ', slope)\n",
    "print('Intercept: ', interc)\n",
    "print('Root mean squared error: ', rmse)\n",
    "print('R2 score: ', R2)"
   ]
  },
  {
   "cell_type": "code",
   "execution_count": 17,
   "metadata": {},
   "outputs": [
    {
     "name": "stdout",
     "output_type": "stream",
     "text": [
      "Cell Volume vs Pop density, N2B27\n",
      "Slope:  [[0.03171068]]\n",
      "Intercept:  [2287.71705084]\n",
      "Root mean squared error:  119075.51046660525\n",
      "R2 score:  0.007314946355016505\n"
     ]
    }
   ],
   "source": [
    "print(\"Cell Volume vs Pop density, N2B27\")\n",
    "rmse, R2, slope, interc = linear_fit(df_N2B27, \"Population_Density_per_mm2\", \"Cell_Volume_um3\")  \n",
    "print('Slope: ', slope)\n",
    "print('Intercept: ', interc)\n",
    "print('Root mean squared error: ', rmse)\n",
    "print('R2 score: ', R2)"
   ]
  },
  {
   "cell_type": "code",
   "execution_count": 18,
   "metadata": {},
   "outputs": [
    {
     "name": "stdout",
     "output_type": "stream",
     "text": [
      "Spindle Volume vs Pop density, FBS+LIF\n",
      "Slope:  [[0.02054809]]\n",
      "Intercept:  [284.92855847]\n",
      "Root mean squared error:  5166.260696366979\n",
      "R2 score:  0.07062241191508267\n"
     ]
    }
   ],
   "source": [
    "print(\"Spindle Volume vs Pop density, FBS+LIF\")\n",
    "rmse, R2, slope, interc = linear_fit(df_FBS, \"Population_Density_per_mm2\", \"Spindle_Volume_um3\")  \n",
    "print('Slope: ', slope)\n",
    "print('Intercept: ', interc)\n",
    "print('Root mean squared error: ', rmse)\n",
    "print('R2 score: ', R2)"
   ]
  },
  {
   "cell_type": "code",
   "execution_count": 19,
   "metadata": {},
   "outputs": [
    {
     "name": "stdout",
     "output_type": "stream",
     "text": [
      "Spindle Volume vs Pop density, N2B27\n",
      "Slope:  [[-0.00430082]]\n",
      "Intercept:  [293.51210588]\n",
      "Root mean squared error:  2360.5415167254537\n",
      "R2 score:  0.006370304587267728\n"
     ]
    }
   ],
   "source": [
    "print(\"Spindle Volume vs Pop density, N2B27\")\n",
    "rmse, R2, slope, interc = linear_fit(df_N2B27, \"Population_Density_per_mm2\", \"Spindle_Volume_um3\")  \n",
    "print('Slope: ', slope)\n",
    "print('Intercept: ', interc)\n",
    "print('Root mean squared error: ', rmse)\n",
    "print('R2 score: ', R2)"
   ]
  },
  {
   "cell_type": "code",
   "execution_count": 20,
   "metadata": {},
   "outputs": [
    {
     "name": "stdout",
     "output_type": "stream",
     "text": [
      "Spindle Occupancy vs Pop density, FBS+LIF\n",
      "Slope:  [[0.00036255]]\n",
      "Intercept:  [11.83295702]\n",
      "Root mean squared error:  5.268279997276588\n",
      "R2 score:  0.022672577171331754\n"
     ]
    }
   ],
   "source": [
    "print(\"Spindle Occupancy vs Pop density, FBS+LIF\")\n",
    "rmse, R2, slope, interc = linear_fit(df_FBS, \"Population_Density_per_mm2\", \"Fraction_SpindleVol_in_Cell\")  \n",
    "print('Slope: ', slope)\n",
    "print('Intercept: ', interc)\n",
    "print('Root mean squared error: ', rmse)\n",
    "print('R2 score: ', R2)"
   ]
  },
  {
   "cell_type": "code",
   "execution_count": 21,
   "metadata": {},
   "outputs": [
    {
     "name": "stdout",
     "output_type": "stream",
     "text": [
      "Spindle Occupancy vs Pop density, N2B27\n",
      "Slope:  [[-0.00030684]]\n",
      "Intercept:  [12.78857207]\n",
      "Root mean squared error:  5.588599175604028\n",
      "R2 score:  0.013596581727408297\n"
     ]
    }
   ],
   "source": [
    "print(\"Spindle Occupancy vs Pop density, N2B27\")\n",
    "rmse, R2, slope, interc = linear_fit(df_N2B27, \"Population_Density_per_mm2\", \"Fraction_SpindleVol_in_Cell\")  \n",
    "print('Slope: ', slope)\n",
    "print('Intercept: ', interc)\n",
    "print('Root mean squared error: ', rmse)\n",
    "print('R2 score: ', R2)"
   ]
  }
 ],
 "metadata": {
  "kernelspec": {
   "display_name": "Python 3",
   "language": "python",
   "name": "python3"
  },
  "language_info": {
   "codemirror_mode": {
    "name": "ipython",
    "version": 3
   },
   "file_extension": ".py",
   "mimetype": "text/x-python",
   "name": "python",
   "nbconvert_exporter": "python",
   "pygments_lexer": "ipython3",
   "version": "3.7.1"
  }
 },
 "nbformat": 4,
 "nbformat_minor": 4
}
