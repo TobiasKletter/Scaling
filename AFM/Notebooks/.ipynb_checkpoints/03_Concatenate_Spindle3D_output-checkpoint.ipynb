{
 "cells": [
  {
   "cell_type": "code",
   "execution_count": 1,
   "metadata": {},
   "outputs": [
    {
     "name": "stderr",
     "output_type": "stream",
     "text": [
      "/anaconda3/lib/python3.7/site-packages/ipykernel_launcher.py:5: FutureWarning: Passing a negative integer is deprecated in version 1.0 and will not be supported in future version. Instead, use None to not limit the column width.\n",
      "  \"\"\"\n"
     ]
    },
    {
     "data": {
      "text/html": [
       "<style>.container { width:80% !important; }</style>"
      ],
      "text/plain": [
       "<IPython.core.display.HTML object>"
      ]
     },
     "metadata": {},
     "output_type": "display_data"
    }
   ],
   "source": [
    "import pandas as pd\n",
    "import os\n",
    "\n",
    "pd.options.display.max_rows\n",
    "pd.set_option('display.max_colwidth', -1)\n",
    "\n",
    "from IPython.core.display import display, HTML\n",
    "display(HTML(\"<style>.container { width:80% !important; }</style>\"))"
   ]
  },
  {
   "cell_type": "markdown",
   "metadata": {},
   "source": [
    "\n",
    "\n",
    "Concatenating all Spindle3D output dataframes"
   ]
  },
  {
   "cell_type": "code",
   "execution_count": 2,
   "metadata": {},
   "outputs": [],
   "source": [
    "destination_path = \"/Volumes/TOB_WD2/Data_Analysis/DataFrames/MasterDataFrame_Spindle3D.csv\"\n",
    "\n",
    "# parse Plugin Measurements\n",
    "in_dir_1 = \"/Volumes/TOB_WD2/Image_Analysis/Spindle3D/Out_077/Correct\"\n",
    "\n",
    "def parse_spindle3d(in_dir):\n",
    "    dataframes = []\n",
    "    for subdir, dirs, files in os.walk(in_dir):\n",
    "        for file in files:\n",
    "            filepath = subdir + os.sep + file  \n",
    "            if filepath.endswith(\".txt\"):\n",
    "                single_df = pd.read_csv(filepath, sep = \" \", delimiter = \"\\t\", encoding = 'latin1')\n",
    "                single_df[\"Cell_ID\"] = subdir.rsplit(\"/\",1)[1]\n",
    "                dataframes.append(single_df)    \n",
    "            else:\n",
    "                pass\n",
    "    df = pd.concat(dataframes)\n",
    "    return df\n",
    "     \n",
    "df = parse_spindle3d(in_dir_1)\n",
    "not_na_df = df['Path_InputImage'].notna()\n",
    "df = df[not_na_df]"
   ]
  },
  {
   "cell_type": "code",
   "execution_count": 3,
   "metadata": {},
   "outputs": [],
   "source": [
    "# post-processing\n",
    "\n",
    "df[\"Spindle_DNA_Volume_Ratio\"] = df.Spindle_Volume_um3 / df.Chromatin_Volume_um3"
   ]
  },
  {
   "cell_type": "code",
   "execution_count": 4,
   "metadata": {},
   "outputs": [],
   "source": [
    "subselection = [\n",
    "    \"Cell_ID\", \n",
    "    \"Chromatin_Dilation\", \n",
    "    \"Chromatin_Volume_um3\", \n",
    "    \"DNA_Volume_Threshold\", \n",
    "    \"MetaphasePlate_Length_um\", \n",
    "    \"MetaphasePlate_Width_um\", \n",
    "    \"Spindle_Angle_Degrees\", \n",
    "    \"Spindle_Aspect_Ratio\", \n",
    "    \"Spindle_DNA_Volume_Ratio\",\n",
    "    \"Spindle_Length_um\", \n",
    "    \"Spindle_Volume_um3\", \n",
    "    \"Spindle_Width_Avg_um\", \n",
    "    \"Tubulin_Spindle_Average_Intensity\", \n",
    "    \"Version\"\n",
    "]\n",
    "\n",
    "df = df[subselection]\n",
    "df.reset_index(inplace = True)"
   ]
  },
  {
   "cell_type": "code",
   "execution_count": 5,
   "metadata": {},
   "outputs": [
    {
     "name": "stdout",
     "output_type": "stream",
     "text": [
      "Finished compilation of main Spindle3D dataframe: /Volumes/TOB_WD2/Data_Analysis/DataFrames/MasterDataFrame_Spindle3D.csv\n"
     ]
    }
   ],
   "source": [
    "df.to_csv(destination_path)\n",
    "print(\"Finished compilation of main Spindle3D dataframe: {}\".format(destination_path))"
   ]
  }
 ],
 "metadata": {
  "kernelspec": {
   "display_name": "Python 3",
   "language": "python",
   "name": "python3"
  },
  "language_info": {
   "codemirror_mode": {
    "name": "ipython",
    "version": 3
   },
   "file_extension": ".py",
   "mimetype": "text/x-python",
   "name": "python",
   "nbconvert_exporter": "python",
   "pygments_lexer": "ipython3",
   "version": "3.7.1"
  }
 },
 "nbformat": 4,
 "nbformat_minor": 4
}
