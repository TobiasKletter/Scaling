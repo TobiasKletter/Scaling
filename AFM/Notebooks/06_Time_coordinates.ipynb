{
 "cells": [
  {
   "cell_type": "code",
   "execution_count": 1,
   "metadata": {},
   "outputs": [
    {
     "data": {
      "text/html": [
       "<style>.container { width:80% !important; }</style>"
      ],
      "text/plain": [
       "<IPython.core.display.HTML object>"
      ]
     },
     "metadata": {},
     "output_type": "display_data"
    }
   ],
   "source": [
    "import time\n",
    "import datetime\n",
    "import pandas as pd\n",
    "import os\n",
    "\n",
    "from IPython.core.display import display, HTML\n",
    "display(HTML(\"<style>.container { width:80% !important; }</style>\"))"
   ]
  },
  {
   "cell_type": "code",
   "execution_count": 2,
   "metadata": {},
   "outputs": [
    {
     "name": "stdout",
     "output_type": "stream",
     "text": [
      "Starting analysis of 20190227-182447_experimentLog.txt.\n",
      "20190227-182447 start time: 1551288327.0\n",
      "Finishing analysis of 20190227-182447_experimentLog.txt.\n",
      "Starting analysis of 20190827-181922_experimentLog.txt.\n",
      "20190827-181922 start time: 1566922820.0\n",
      "Finishing analysis of 20190827-181922_experimentLog.txt.\n",
      "Starting analysis of 20200724-201611_experimentLog.txt.\n",
      "20200724-201611 start time: 1595614672.0\n",
      "Finishing analysis of 20200724-201611_experimentLog.txt.\n",
      "Starting analysis of 20200725-142832_experimentLog.txt.\n",
      "20200725-142832 start time: 1595614672\n",
      "Finishing analysis of 20200725-142832_experimentLog.txt.\n",
      "Starting analysis of 20200728-174144_experimentLog.txt.\n",
      "20200728-174144 start time: 1595951005.0\n",
      "Finishing analysis of 20200728-174144_experimentLog.txt.\n",
      "Starting analysis of 20200730-190931_experimentLog.txt.\n",
      "20200730-190931 start time: 1596129074.0\n",
      "Finishing analysis of 20200730-190931_experimentLog.txt.\n",
      "Starting analysis of 20200731-175845_experimentLog.txt.\n",
      "20200731-175845 start time: 1596211227.0\n",
      "Finishing analysis of 20200731-175845_experimentLog.txt.\n",
      "Starting analysis of 20200802-104739_experimentLog.txt.\n",
      "20200802-104739 start time: 1596211227\n",
      "Finishing analysis of 20200802-104739_experimentLog.txt.\n",
      "Starting analysis of 20200803-181830_experimentLog.txt.\n",
      "20200803-181830 start time: 1596211227\n",
      "Finishing analysis of 20200803-181830_experimentLog.txt.\n",
      "Starting analysis of 20200806-164803_experimentLog.txt.\n",
      "20200806-164803 start time: 1596725309.0\n",
      "Finishing analysis of 20200806-164803_experimentLog.txt.\n",
      "Starting analysis of 20200807-174159_experimentLog.txt.\n",
      "20200807-174159 start time: 1596814952.0\n",
      "Finishing analysis of 20200807-174159_experimentLog.txt.\n",
      "Starting analysis of 20200809-114236_experimentLog.txt.\n",
      "20200809-114236 start time: 1596814952\n",
      "Finishing analysis of 20200809-114236_experimentLog.txt.\n",
      "Starting analysis of 20200810-225504_experimentLog.txt.\n",
      "20200810-225504 start time: 1596814952\n",
      "Finishing analysis of 20200810-225504_experimentLog.txt.\n",
      "Starting analysis of 20190618-193724_experimentLog.txt.\n",
      "20190618-193724 start time: 1560879470\n",
      "Finishing analysis of 20190618-193724_experimentLog.txt.\n",
      "Starting analysis of 20190618-193725_experimentLog.txt.\n",
      "20190618-193725 start time: 1560879470\n",
      "Finishing analysis of 20190618-193725_experimentLog.txt.\n"
     ]
    }
   ],
   "source": [
    "# Get LowZoom Timestamps via experiment Log\n",
    "\n",
    "rootDirectory = \"/Volumes/TOB_WD2/Data_Analysis/DataFrames\"\n",
    "inputDirectory = rootDirectory + \"/Times/Experiment_logs\"\n",
    "\n",
    "\n",
    "def get_unixtime(x):\n",
    "    unix_time = time.mktime(datetime.datetime.strptime(x, \"%Y/%m/%d %H:%M:%S\").timetuple())\n",
    "    return unix_time\n",
    "\n",
    "def numbering_for_conc(x):\n",
    "    lowzoom_id, Timeframe_old = x.rsplit(\"-\",1)\n",
    "    Timeframe_old_int = int(Timeframe_old[1:])\n",
    "    Timeframe_new = str(Timeframe_old_int + 89).zfill(4)\n",
    "    fixed_id = lowzoom_id + \"-T\" + Timeframe_new\n",
    "    return fixed_id\n",
    "\n",
    "\n",
    "def read_experiment_logs(folder):\n",
    "    logs = []\n",
    "    for root, dirs, files in os.walk(folder):\n",
    "        files = [f for f in files if not f[0] == '.']\n",
    "        for log_file in files:\n",
    "            print(\"Starting analysis of {}.\".format(log_file))\n",
    "            log_file_path = root + os.sep + log_file\n",
    "            date_string = log_file.split(\"_\")[0]\n",
    "            date_int = int(date_string.split(\"-\")[0])\n",
    "            \n",
    "            exlog = pd.read_csv(log_file_path, sep = '\\t', lineterminator = '\\r')\n",
    "            \n",
    "            exlog = exlog[~exlog['Message'].str.contains(\"LowZoomStitch\", na = False)]\n",
    "            exlog = exlog[exlog['Message'].str.contains(\"LowZoom\", na = False)]\n",
    "\n",
    "            if date_int < 20200806:\n",
    "                exlog = exlog[exlog['Message'].str.contains(\"Recorded and saved image\", na = False)]\n",
    "            else:\n",
    "                exlog = exlog[exlog['Message'].str.contains(\"Saved image\", na = False)]\n",
    "                \n",
    "            exlog[\"LowZoom_ID\"] = exlog['Message'].str.split(\"\\\\\").str.get(-1).str.split(\".\").str.get(0)\n",
    "            \n",
    "            if date_string == \"20190618-193725\":\n",
    "                exlog[\"LowZoom_ID\"] = exlog.LowZoom_ID.apply(numbering_for_conc)\n",
    "                \n",
    "            if date_int == 20190618:\n",
    "                exlog[\"LowZoom_ID\"] = exlog.LowZoom_ID.apply(lambda x: \"20190618-conc\" + \"_\" + x)\n",
    "        \n",
    "            else: \n",
    "                exlog[\"LowZoom_ID\"] = exlog.LowZoom_ID.apply(lambda x: date_string + \"_\" + x)\n",
    "            exlog[\"Timestamp\"] = exlog.Time.apply(get_unixtime)\n",
    "            \n",
    "            if date_int == 20190618:\n",
    "                start_time = 1560879470\n",
    "            elif date_int == 20200725:\n",
    "                start_time = 1595614672\n",
    "            elif (date_int == 20200802) or (date_int == 20200803):\n",
    "                start_time = 1596211227\n",
    "            elif (date_int == 20200809) or (date_int == 20200810):\n",
    "                start_time = 1596814952\n",
    "            \n",
    "            else:\n",
    "                start_time = exlog.iloc[0,-1]\n",
    "            \n",
    "            exlog[\"Experiment_StartTime_mins\"] = start_time\n",
    "            print(date_string + \" start time: \" + str(start_time))\n",
    "            exlog[\"Experiment_Time_mins\"] = (exlog.Timestamp - start_time) / 60 # Timestamps are seconds\n",
    "            exlog = exlog.drop([\"Message\", \"Type\"], axis = 1)\n",
    "            exlog = exlog.reset_index(drop = True)\n",
    "            logs.append(exlog)\n",
    "            print(\"Finishing analysis of {}.\".format(log_file))\n",
    "    \n",
    "    log_df = pd.concat(logs)\n",
    "    return log_df\n",
    "\n",
    "df = read_experiment_logs(inputDirectory)"
   ]
  },
  {
   "cell_type": "code",
   "execution_count": 3,
   "metadata": {},
   "outputs": [
    {
     "name": "stdout",
     "output_type": "stream",
     "text": [
      "Saved Time Dataframe in /Volumes/TOB_WD2/Data_Analysis/DataFrames/MasterDataFrame_Times.csv\n"
     ]
    }
   ],
   "source": [
    "df.to_csv(rootDirectory + \"/\" + \"MasterDataFrame_Times.csv\")\n",
    "print(\"Saved Time Dataframe in \" + rootDirectory + \"/\" + \"MasterDataFrame_Times.csv\")"
   ]
  }
 ],
 "metadata": {
  "kernelspec": {
   "display_name": "Python 3",
   "language": "python",
   "name": "python3"
  },
  "language_info": {
   "codemirror_mode": {
    "name": "ipython",
    "version": 3
   },
   "file_extension": ".py",
   "mimetype": "text/x-python",
   "name": "python",
   "nbconvert_exporter": "python",
   "pygments_lexer": "ipython3",
   "version": "3.7.1"
  }
 },
 "nbformat": 4,
 "nbformat_minor": 4
}
