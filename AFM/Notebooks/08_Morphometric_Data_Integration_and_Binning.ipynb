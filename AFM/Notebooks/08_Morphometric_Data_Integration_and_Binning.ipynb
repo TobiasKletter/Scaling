{
 "cells": [
  {
   "cell_type": "code",
   "execution_count": 1,
   "metadata": {},
   "outputs": [
    {
     "data": {
      "text/html": [
       "<style>.container { width:80% !important; }</style>"
      ],
      "text/plain": [
       "<IPython.core.display.HTML object>"
      ]
     },
     "metadata": {},
     "output_type": "display_data"
    }
   ],
   "source": [
    "import os \n",
    "import pandas as pd\n",
    "from IPython.core.display import display, HTML\n",
    "display(HTML(\"<style>.container { width:80% !important; }</style>\"))"
   ]
  },
  {
   "cell_type": "markdown",
   "metadata": {},
   "source": [
    "\n",
    "\n",
    "Morphometric and photometric data integration and post-processing "
   ]
  },
  {
   "cell_type": "code",
   "execution_count": 2,
   "metadata": {},
   "outputs": [
    {
     "name": "stdout",
     "output_type": "stream",
     "text": [
      "The row count of df_Spindle3D before merging: 5942\n",
      "The row count of df_IlastikCV before merging: 7611\n",
      "The row count of df_SpaceTime before merging: 24726\n"
     ]
    }
   ],
   "source": [
    "# User-specified input dataframes locations\n",
    "\n",
    "root = \"/Volumes/TOB_WD2/Data_Analysis/DataFrames\" + \"/\"\n",
    "Spindle3D_df_Path = root + \"MasterDataFrame_Spindle3D.csv\"\n",
    "Ilastik_df_Path = root + \"MasterDataFrame_IlastikCV.csv\"\n",
    "SpaceTime_df_Path = root + \"MasterDataFrame_SpaceTime.csv\"\n",
    "\n",
    "df_Spindle3D = pd.read_csv(Spindle3D_df_Path)\n",
    "df_IlastikCV = pd.read_csv(Ilastik_df_Path)\n",
    "df_SpaceTime = pd.read_csv(SpaceTime_df_Path)\n",
    "\n",
    "print(\"The row count of df_Spindle3D before merging: \" + str(df_Spindle3D.shape[0]))\n",
    "print(\"The row count of df_IlastikCV before merging: \" + str(df_IlastikCV.shape[0]))\n",
    "print(\"The row count of df_SpaceTime before merging: \" + str(df_SpaceTime.shape[0]))"
   ]
  },
  {
   "cell_type": "markdown",
   "metadata": {},
   "source": [
    "\n",
    "The Spindle and cell morphometric dataframes will be combined by an outer merge\n",
    "and only then merged with the SpaceTime data by an inner merge to kick out all\n",
    "cell IDs that did not pass quality control.\n"
   ]
  },
  {
   "cell_type": "code",
   "execution_count": 3,
   "metadata": {},
   "outputs": [
    {
     "name": "stdout",
     "output_type": "stream",
     "text": [
      "Outer-Merged dataframes containing morphometric data.\n",
      "Inner-Merged dataframes containing morphometric data.\n",
      "The shape of the final df is: (8398, 35)\n"
     ]
    }
   ],
   "source": [
    "df = df_Spindle3D.merge(\n",
    "    right = df_IlastikCV, \n",
    "    on = \"Cell_ID\", \n",
    "    how = \"outer\"\n",
    ")\n",
    "print(\"Outer-Merged dataframes containing morphometric data.\")\n",
    "\n",
    "df = df_SpaceTime.merge(\n",
    "    right = df, \n",
    "    on = \"Cell_ID\", \n",
    "    how = \"inner\"\n",
    ")\n",
    "print(\"Inner-Merged dataframes containing morphometric data.\")\n",
    "\n",
    "# clean up\n",
    "df = df.loc[:, ~df.columns.str.contains('^Unnamed')]\n",
    "print(\"The shape of the final df is: \" + str(df.shape))"
   ]
  },
  {
   "cell_type": "code",
   "execution_count": 4,
   "metadata": {},
   "outputs": [
    {
     "data": {
      "text/plain": [
       "Index(['Cell_ID', 'LowZoom_ID', 'Dataset', 'Experiment', 'Position',\n",
       "       'Condition', 'Has_duplicate', 'X_px', 'Y_px', 'Timepoint', 'Time',\n",
       "       'Differentiation_mins', 'Differentiation_bins', 'Experiment_Time_mins',\n",
       "       'index', 'Chromatin_Dilation', 'Chromatin_Volume_um3',\n",
       "       'DNA_Volume_Threshold', 'MetaphasePlate_Length_um',\n",
       "       'MetaphasePlate_Width_um', 'Spindle_Angle_Degrees',\n",
       "       'Spindle_Aspect_Ratio', 'Spindle_DNA_Volume_Ratio', 'Spindle_Length_um',\n",
       "       'Spindle_Volume_um3', 'Spindle_Width_Avg_um',\n",
       "       'Tubulin_Spindle_Average_Intensity', 'Version', 'Cell_Volume_um3',\n",
       "       'SurfaceArea', 'Sphericity', 'Tubulin_Cell_Average',\n",
       "       'Tubulin_Cell_Minimum', 'Tubulin_Cell_Maximum', 'Tubulin_Cell_IntDen'],\n",
       "      dtype='object')"
      ]
     },
     "execution_count": 4,
     "metadata": {},
     "output_type": "execute_result"
    }
   ],
   "source": [
    "df.columns"
   ]
  },
  {
   "cell_type": "markdown",
   "metadata": {},
   "source": [
    "\n",
    "\n",
    "Tubulin quantification has to be normalised by the tubulin-GFP expression level. \n",
    "As a proxy for tubulin-GFP concentration, we quantify the average cellular tubulin \n",
    "fluorescence (including both free and polymer tubulin).\n",
    "\n",
    "We don't need to consider camera offsets, because the Zeiss LSM-derived images\n",
    "Have an average offset value close to zero. "
   ]
  },
  {
   "cell_type": "code",
   "execution_count": 5,
   "metadata": {},
   "outputs": [],
   "source": [
    "# Tubulin quantification and normalisation\n",
    "\n",
    "df[\"Tubulin_mass_cell\"] = df.Tubulin_Cell_Average * df.Cell_Volume_um3 \n",
    "df[\"Tubulin_mass_cell_norm\"] = df.Tubulin_mass_cell / df.Tubulin_Cell_Average\n",
    "df[\"Tubulin_mass_spindle\"] = df.Tubulin_Spindle_Average_Intensity * df.Spindle_Volume_um3\n",
    "df[\"Tubulin_mass_spindle_norm\"] = df.Tubulin_mass_spindle / df.Tubulin_Cell_Average\n",
    "\n",
    "df[\"Tubulin_mass_cytoplasm\"] = df.Tubulin_mass_cell - df.Tubulin_mass_spindle\n",
    "df[\"Tubulin_mass_cytoplasm_norm\"] = df.Tubulin_mass_cytoplasm / df.Tubulin_Cell_Average\n",
    "df[\"Tubulin_Cytop_Average\"] = df.Tubulin_mass_cytoplasm * 1/(df.Cell_Volume_um3 - df.Spindle_Volume_um3)\n",
    "df[\"Tubulin_density_cytop_norm\"] = df.Tubulin_mass_cytoplasm_norm * 1/(df.Cell_Volume_um3 - df.Spindle_Volume_um3)\n",
    "\n",
    "df[\"Fraction_Tubulin_in_Spindle\"] = df.Tubulin_mass_spindle / df.Tubulin_mass_cell * 100\n",
    "df[\"Fraction_SpindleVol_in_Cell\"] = df.Spindle_Volume_um3 / df.Cell_Volume_um3 * 100\n",
    "\n",
    "df[\"Tubulin_Averages_Ratio\"] = df.Tubulin_Spindle_Average_Intensity / df.Tubulin_Cell_Average\n",
    "df[\"Tubulin_Averages_Cytop_Ratio\"] = df.Tubulin_Spindle_Average_Intensity / df.Tubulin_Cell_Average\n",
    "df[\"Tubulin_density_spindle_norm\"] = df.Tubulin_mass_spindle_norm / df.Spindle_Volume_um3 \n",
    "\n",
    "df[\"SpindleVolume_ChromatinVolume_Ratio\"] = df.Spindle_Volume_um3 / df.Chromatin_Volume_um3\n",
    "df[\"Chromatin_Occupancy\"] = df.Chromatin_Volume_um3 / df.Cell_Volume_um3 * 100\n",
    "df[\"CellSurfaceArea_CellVolume_Ratio\"] = df.SurfaceArea / df.Cell_Volume_um3"
   ]
  },
  {
   "cell_type": "code",
   "execution_count": 6,
   "metadata": {},
   "outputs": [],
   "source": [
    "# Create Bins\n",
    "interval_range_CV = pd.interval_range(start = 1000, freq = 500, end = 4000)\n",
    "df['Cell_Volume_bin'] = pd.cut(df['Cell_Volume_um3'], bins = interval_range_CV).astype(str)\n",
    "\n",
    "interval_range_SACV = pd.interval_range(start = 0.3, freq = 0.05, end = 0.5)\n",
    "df['CellSurfaceArea_CellVolume_bin'] = pd.cut(df['CellSurfaceArea_CellVolume_Ratio'], bins = interval_range_SACV).astype(str)\n",
    "\n",
    "interval_range_SV = pd.interval_range(start = 100, freq = 50, end = 600)\n",
    "df['Spindle_Volume_bin'] = pd.cut(df['Spindle_Volume_um3'], bins = interval_range_SV).astype(str)\n",
    "\n",
    "interval_range_SW = pd.interval_range(start = 5, freq = 2, end = 12)\n",
    "df['Spindle_Width_bin'] = pd.cut(df['Spindle_Width_Avg_um'], bins = interval_range_SW).astype(str)\n",
    "\n",
    "#interval_range_TubSpindle = pd.interval_range(start = 0, freq = 0.5, end = 7)\n",
    "#df['Tubulin_density_spindle_bin'] = pd.cut(df['Tubulin_density_spindle_norm'], bins = interval_range_TubSpindle).astype(str)\n",
    "\n",
    "#interval_range_Fraction_SpindleVol_in_Cell = pd.interval_range(start = 0, freq = 3, end = 25)\n",
    "#df['Fraction_SpindleVol_in_Cell_bin'] = pd.cut(df['Fraction_SpindleVol_in_Cell'], bins = interval_range_Fraction_SpindleVol_in_Cell).astype(str)\n",
    "\n",
    "#interval_range_TIME = pd.interval_range(start = 0, freq = 2, end = 12) # ??????????????\n",
    "#df['Spindle_Width_bin'] = pd.cut(df['Spindle_Width_Avg_um'], bins = interval_range_SW).astype(str)"
   ]
  },
  {
   "cell_type": "code",
   "execution_count": 7,
   "metadata": {},
   "outputs": [
    {
     "name": "stdout",
     "output_type": "stream",
     "text": [
      "The shape of the df before the purge: (8398, 55)\n",
      "The shape of the df after the purge: (7004, 55)\n"
     ]
    }
   ],
   "source": [
    "# kick out duplicate acquisitions of metaphase cells\n",
    "# based on temperospatial proximity (Notebook 05_Coordinates)\n",
    "\n",
    "print(\"The shape of the df before the purge: \" + str(df.shape))\n",
    "\n",
    "df = df[df.Has_duplicate == False]\n",
    "\n",
    "print(\"The shape of the df after the purge: \" + str(df.shape))"
   ]
  },
  {
   "cell_type": "code",
   "execution_count": 12,
   "metadata": {},
   "outputs": [
    {
     "name": "stdout",
     "output_type": "stream",
     "text": [
      "(7004, 57)\n",
      "(6951, 57)\n"
     ]
    },
    {
     "name": "stderr",
     "output_type": "stream",
     "text": [
      "<ipython-input-12-72fd58cd1511>:10: UserWarning: Boolean Series key will be reindexed to match DataFrame index.\n",
      "  df = df[~df_big_CV]\n",
      "<ipython-input-12-72fd58cd1511>:11: UserWarning: Boolean Series key will be reindexed to match DataFrame index.\n",
      "  df = df[~df_big_DNAW]\n",
      "<ipython-input-12-72fd58cd1511>:12: UserWarning: Boolean Series key will be reindexed to match DataFrame index.\n",
      "  df = df[~df_large_SSR]\n"
     ]
    }
   ],
   "source": [
    "# Exclude outliers \n",
    "print(df.shape)\n",
    "\n",
    "df_big_SV = df[\"Spindle_Volume_um3\"] > 699\n",
    "df_big_CV = df[\"Cell_Volume_um3\"] > 4499\n",
    "df_big_DNAW = df[\"MetaphasePlate_Width_um\"] > 5\n",
    "df_large_SSR = df[\"Fraction_SpindleVol_in_Cell\"] > 25\n",
    "\n",
    "df = df[~df_big_SV] # otherwise you get rid of the rows where Spindle_Volume_um3 is NaN (i.e ilastik output without Spindle 3D output)\n",
    "df = df[~df_big_CV]\n",
    "df = df[~df_big_DNAW]\n",
    "df = df[~df_large_SSR]\n",
    "df = df[(df[\"Spindle_Volume_um3\"] > 100) | (df['Spindle_Volume_um3'].isna())] # eliminates overlooked mis-segmented cases\n",
    "df = df[(df[\"Cell_Volume_um3\"] > 1000) | (df['Cell_Volume_um3'].isna())] # eliminates overlooked mis-segmented cases\n",
    "\n",
    "print(df.shape)"
   ]
  },
  {
   "cell_type": "code",
   "execution_count": 16,
   "metadata": {},
   "outputs": [
    {
     "name": "stdout",
     "output_type": "stream",
     "text": [
      "Saved clean subselection dataframe to /Volumes/TOB_WD2/Data_Analysis/DataFrames/SubselectionDataFrame_Population_Morphometry.txt\n"
     ]
    }
   ],
   "source": [
    "subselection = [\n",
    "    \"Cell_ID\", \n",
    "    \"Condition\", \n",
    "    \"Spindle_Aspect_Ratio\", \n",
    "    \"Spindle_Length_um\", \n",
    "    \"Spindle_Width_Avg_um\", \n",
    "    \"Spindle_Volume_um3\", \n",
    "    \"Cell_Volume_um3\", \n",
    "    \"SurfaceArea\", \n",
    "    \"CellSurfaceArea_CellVolume_Ratio\", \n",
    "    \"Tubulin_mass_spindle_norm\", \n",
    "    \"Fraction_Tubulin_in_Spindle\", \n",
    "    \"Fraction_SpindleVol_in_Cell\", \n",
    "    \"Tubulin_density_spindle_norm\"\n",
    "]\n",
    "\n",
    "sub_df = df[subselection]\n",
    "df_outPath2 = root + \"SubselectionDataFrame_Population_Morphometry.txt\"\n",
    "sub_df.to_csv(df_outPath2, sep = \"\\t\")\n",
    "print(\"Saved clean subselection dataframe to {}\".format(df_outPath2))"
   ]
  },
  {
   "cell_type": "code",
   "execution_count": 17,
   "metadata": {},
   "outputs": [
    {
     "name": "stdout",
     "output_type": "stream",
     "text": [
      "The final dataframe was exported to: /Volumes/TOB_WD2/Data_Analysis/DataFrames/MasterDataFrame_Population_Morphometry.csv\n"
     ]
    }
   ],
   "source": [
    "outputDestination = root + \"MasterDataFrame_Population_Morphometry.csv\"\n",
    "\n",
    "df.to_csv(outputDestination)\n",
    "print(\"The final dataframe was exported to: \" + outputDestination)"
   ]
  }
 ],
 "metadata": {
  "kernelspec": {
   "display_name": "Python 3",
   "language": "python",
   "name": "python3"
  },
  "language_info": {
   "codemirror_mode": {
    "name": "ipython",
    "version": 3
   },
   "file_extension": ".py",
   "mimetype": "text/x-python",
   "name": "python",
   "nbconvert_exporter": "python",
   "pygments_lexer": "ipython3",
   "version": "3.7.1"
  }
 },
 "nbformat": 4,
 "nbformat_minor": 4
}
