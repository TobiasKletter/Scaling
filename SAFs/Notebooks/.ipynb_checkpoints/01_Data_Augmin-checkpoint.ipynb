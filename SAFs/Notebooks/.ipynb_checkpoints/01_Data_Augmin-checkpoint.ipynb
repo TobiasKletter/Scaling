{
 "cells": [
  {
   "cell_type": "code",
   "execution_count": 19,
   "metadata": {},
   "outputs": [
    {
     "data": {
      "text/html": [
       "<style>.container { width:80% !important; }</style>"
      ],
      "text/plain": [
       "<IPython.core.display.HTML object>"
      ]
     },
     "metadata": {},
     "output_type": "display_data"
    }
   ],
   "source": [
    "import pandas as pd\n",
    "pd.set_option('display.max_colwidth', None)\n",
    "import os\n",
    "from os import listdir\n",
    "from os.path import isfile, join\n",
    "\n",
    "from IPython.core.display import display, HTML\n",
    "display(HTML(\"<style>.container { width:80% !important; }</style>\"))"
   ]
  },
  {
   "cell_type": "code",
   "execution_count": 20,
   "metadata": {},
   "outputs": [
    {
     "name": "stdout",
     "output_type": "stream",
     "text": [
      "(440, 4)\n"
     ]
    },
    {
     "data": {
      "text/html": [
       "<div>\n",
       "<style scoped>\n",
       "    .dataframe tbody tr th:only-of-type {\n",
       "        vertical-align: middle;\n",
       "    }\n",
       "\n",
       "    .dataframe tbody tr th {\n",
       "        vertical-align: top;\n",
       "    }\n",
       "\n",
       "    .dataframe thead th {\n",
       "        text-align: right;\n",
       "    }\n",
       "</style>\n",
       "<table border=\"1\" class=\"dataframe\">\n",
       "  <thead>\n",
       "    <tr style=\"text-align: right;\">\n",
       "      <th></th>\n",
       "      <th>Average_Spindle_Augmin</th>\n",
       "      <th>Cell_ID</th>\n",
       "      <th>IntegratedDensity_Spindle_Augmin</th>\n",
       "      <th>Experiment</th>\n",
       "    </tr>\n",
       "  </thead>\n",
       "  <tbody>\n",
       "    <tr>\n",
       "      <th>0</th>\n",
       "      <td>1935.573</td>\n",
       "      <td>20230711_R1E309_HAUS6-2_60X_FBS+LIF_001-1</td>\n",
       "      <td>34102868</td>\n",
       "      <td>20230711</td>\n",
       "    </tr>\n",
       "  </tbody>\n",
       "</table>\n",
       "</div>"
      ],
      "text/plain": [
       "   Average_Spindle_Augmin                                    Cell_ID  \\\n",
       "0                1935.573  20230711_R1E309_HAUS6-2_60X_FBS+LIF_001-1   \n",
       "\n",
       "   IntegratedDensity_Spindle_Augmin Experiment  \n",
       "0                          34102868   20230711  "
      ]
     },
     "execution_count": 20,
     "metadata": {},
     "output_type": "execute_result"
    }
   ],
   "source": [
    "# parse 3D Intensity measurements\n",
    "# I - Augmin spindle intensity\n",
    "\n",
    "intensity_dir0 = '/Volumes/TOB_WD2/Microscopy/20230711_Augmin/3D_Intensity_Augmin' \n",
    "intensity_dir1 = '/Volumes/TOB_WD2/Microscopy/20230713_Augmin/3D_Intensity_Augmin' \n",
    "intensity_dir2 = '/Volumes/TOB_WD2/Microscopy/20230807_Augmin/3D_Intensity_Augmin' \n",
    "\n",
    "def concat_augmin(folder, staining):\n",
    "       \n",
    "    dataframes = []   \n",
    "    for root, dirs, files in os.walk(folder):\n",
    "        for file in files:\n",
    "            if not file.startswith('.'):\n",
    "                filepath = root + os.sep + file\n",
    "                experiment = root.split(\"/\")[4][:8]\n",
    "                if filepath.endswith('Spindle_Augmin.csv'):\n",
    "                    \n",
    "                    single_df = pd.read_csv(filepath, encoding = 'latin-1')\n",
    "                    single_df = single_df[[\"Average\", \"Cell_ID\", \"IntegratedDensity\"]]\n",
    "                    single_df = single_df.rename(columns = \n",
    "                                                 {\n",
    "                                                     \"Average\": \"Average_Spindle_Augmin\", \n",
    "                                                     \"IntegratedDensity\": \"IntegratedDensity_Spindle_Augmin\"\n",
    "                                                 }\n",
    "                                                )\n",
    "                    single_df['Experiment'] = experiment\n",
    "                    dataframes.append(single_df) \n",
    "                else:\n",
    "                    pass\n",
    "            else:\n",
    "                pass\n",
    "    df = pd.concat(dataframes)\n",
    "    return df\n",
    "\n",
    "augmin_df_0 = concat_augmin(intensity_dir0, 'Augmin')\n",
    "augmin_df_1 = concat_augmin(intensity_dir1, 'Augmin')\n",
    "augmin_df_2 = concat_augmin(intensity_dir2, 'Augmin')\n",
    "\n",
    "augmin_df = pd.concat([augmin_df_0, augmin_df_1, augmin_df_2])\n",
    "\n",
    "print(augmin_df.shape)\n",
    "augmin_df.head(1)"
   ]
  },
  {
   "cell_type": "code",
   "execution_count": 21,
   "metadata": {},
   "outputs": [
    {
     "name": "stdout",
     "output_type": "stream",
     "text": [
      "(461, 4)\n"
     ]
    },
    {
     "data": {
      "text/html": [
       "<div>\n",
       "<style scoped>\n",
       "    .dataframe tbody tr th:only-of-type {\n",
       "        vertical-align: middle;\n",
       "    }\n",
       "\n",
       "    .dataframe tbody tr th {\n",
       "        vertical-align: top;\n",
       "    }\n",
       "\n",
       "    .dataframe thead th {\n",
       "        text-align: right;\n",
       "    }\n",
       "</style>\n",
       "<table border=\"1\" class=\"dataframe\">\n",
       "  <thead>\n",
       "    <tr style=\"text-align: right;\">\n",
       "      <th></th>\n",
       "      <th>Cell_ID</th>\n",
       "      <th>Average_Total_Augmin</th>\n",
       "      <th>Minimum_Total_Augmin</th>\n",
       "      <th>IntegratedDensity_Total_Augmin</th>\n",
       "    </tr>\n",
       "  </thead>\n",
       "  <tbody>\n",
       "    <tr>\n",
       "      <th>0</th>\n",
       "      <td>20230711_R1E309_HAUS6-2_60X_FBS+LIF_001-1</td>\n",
       "      <td>1515.206</td>\n",
       "      <td>674</td>\n",
       "      <td>236870691</td>\n",
       "    </tr>\n",
       "  </tbody>\n",
       "</table>\n",
       "</div>"
      ],
      "text/plain": [
       "                                     Cell_ID  Average_Total_Augmin  \\\n",
       "0  20230711_R1E309_HAUS6-2_60X_FBS+LIF_001-1              1515.206   \n",
       "\n",
       "   Minimum_Total_Augmin  IntegratedDensity_Total_Augmin  \n",
       "0                   674                       236870691  "
      ]
     },
     "execution_count": 21,
     "metadata": {},
     "output_type": "execute_result"
    }
   ],
   "source": [
    "# parse 3D Intensity measurements\n",
    "# II - Total cell Augmin\n",
    "\n",
    "Augmin_total_dir0 = '/Volumes/TOB_WD2/Microscopy/20230711_Augmin/Total_Cell_Augmin'\n",
    "Augmin_total_dir1 = '/Volumes/TOB_WD2/Microscopy/20230713_Augmin/Total_Cell_Augmin'\n",
    "Augmin_total_dir2 = '/Volumes/TOB_WD2/Microscopy/20230807_Augmin/Total_Cell_Augmin'\n",
    "\n",
    "def concat_total(folder, staining):\n",
    "    average_column = 'Average_Total_' + staining\n",
    "    minimum_column = 'Minimum_Total_' + staining\n",
    "    intdent_column = 'IntegratedDensity_Total_' + staining\n",
    "    \n",
    "    dataframes = []   \n",
    "    for root, dirs, files in os.walk(folder):\n",
    "        for file in files:\n",
    "            if not file.startswith(\".\"):\n",
    "                filepath = root + os.sep + file  \n",
    "                if filepath.endswith('.csv'):\n",
    "                    single_df = pd.read_csv(filepath, encoding = 'latin-1')\n",
    "                    single_df = single_df.rename(columns = \n",
    "                                                 {\n",
    "                                                     'Average': average_column, \n",
    "                                                     'Minimum': minimum_column,\n",
    "                                                     'IntegratedDensity': intdent_column\n",
    "                                                 }\n",
    "                                                )\n",
    "                    single_df = single_df[['Cell_ID', average_column, minimum_column, intdent_column]]\n",
    "                    dataframes.append(single_df)\n",
    "                else:\n",
    "                    pass\n",
    "            else:\n",
    "                pass\n",
    "    df = pd.concat(dataframes)\n",
    "    return df\n",
    "\n",
    "Augmin_total_0 = concat_total(Augmin_total_dir0, 'Augmin')\n",
    "Augmin_total_1 = concat_total(Augmin_total_dir1, 'Augmin')\n",
    "Augmin_total_2 = concat_total(Augmin_total_dir2, 'Augmin')\n",
    "\n",
    "total_df = pd.concat([Augmin_total_0, Augmin_total_1, Augmin_total_2])\n",
    "\n",
    "print(total_df.shape)\n",
    "total_df.head(1)"
   ]
  },
  {
   "cell_type": "code",
   "execution_count": 22,
   "metadata": {},
   "outputs": [
    {
     "name": "stdout",
     "output_type": "stream",
     "text": [
      "(461, 3)\n"
     ]
    },
    {
     "data": {
      "text/html": [
       "<div>\n",
       "<style scoped>\n",
       "    .dataframe tbody tr th:only-of-type {\n",
       "        vertical-align: middle;\n",
       "    }\n",
       "\n",
       "    .dataframe tbody tr th {\n",
       "        vertical-align: top;\n",
       "    }\n",
       "\n",
       "    .dataframe thead th {\n",
       "        text-align: right;\n",
       "    }\n",
       "</style>\n",
       "<table border=\"1\" class=\"dataframe\">\n",
       "  <thead>\n",
       "    <tr style=\"text-align: right;\">\n",
       "      <th></th>\n",
       "      <th>Cell_ID</th>\n",
       "      <th>Cell_Volume_um3</th>\n",
       "      <th>Cell_Surface_Area_um2</th>\n",
       "    </tr>\n",
       "  </thead>\n",
       "  <tbody>\n",
       "    <tr>\n",
       "      <th>0</th>\n",
       "      <td>20230711_R1E309_HAUS6-2_60X_FBS+LIF_001-1</td>\n",
       "      <td>2416.459</td>\n",
       "      <td>938.56</td>\n",
       "    </tr>\n",
       "  </tbody>\n",
       "</table>\n",
       "</div>"
      ],
      "text/plain": [
       "                                     Cell_ID  Cell_Volume_um3  \\\n",
       "0  20230711_R1E309_HAUS6-2_60X_FBS+LIF_001-1         2416.459   \n",
       "\n",
       "   Cell_Surface_Area_um2  \n",
       "0                 938.56  "
      ]
     },
     "execution_count": 22,
     "metadata": {},
     "output_type": "execute_result"
    }
   ],
   "source": [
    "# parse Cell Volumes (manual segmentation)\n",
    "\n",
    "CV_dir_0 = \"/Volumes/TOB_WD2/Microscopy/20230711_Augmin/Cell_Volumes\"\n",
    "CV_dir_1 = \"/Volumes/TOB_WD2/Microscopy/20230713_Augmin/Cell_Volumes\"\n",
    "CV_dir_2 = \"/Volumes/TOB_WD2/Microscopy/20230807_Augmin/Cell_Volumes\"\n",
    "\n",
    "def concat_CV(folder):\n",
    "    CV_dataframes = []\n",
    "    for root, dirs, files in os.walk(folder):\n",
    "        for file in files:\n",
    "            if not file.startswith(\".\"):\n",
    "                filepath = root + os.sep + file  \n",
    "                if filepath.endswith(\".csv\"):\n",
    "                    single_df = pd.read_csv(filepath)\n",
    "                    single_df = single_df.rename(\n",
    "                            columns = {\n",
    "                                \"Volume\": \"Cell_Volume_um3\",\n",
    "                                \"SurfaceArea\": \"Cell_Surface_Area_um2\"\n",
    "                            }\n",
    "                    )\n",
    "                    single_df = single_df[[\"Cell_ID\", \"Cell_Volume_um3\", \"Cell_Surface_Area_um2\"]]\n",
    "\n",
    "                    CV_dataframes.append(single_df)\n",
    "                else:\n",
    "                    pass\n",
    "            else:\n",
    "                pass\n",
    "    CV_df = pd.concat(CV_dataframes)\n",
    "    return CV_df \n",
    "\n",
    "CV_df_0 = concat_CV(CV_dir_0)\n",
    "CV_df_1 = concat_CV(CV_dir_1)\n",
    "CV_df_2 = concat_CV(CV_dir_2)\n",
    "\n",
    "CV_df = pd.concat([CV_df_0, CV_df_1, CV_df_2])\n",
    "print(CV_df.shape)\n",
    "CV_df.head(1)"
   ]
  },
  {
   "cell_type": "code",
   "execution_count": 23,
   "metadata": {},
   "outputs": [
    {
     "name": "stdout",
     "output_type": "stream",
     "text": [
      "Finished parsing data.\n",
      "(432, 10)\n"
     ]
    },
    {
     "data": {
      "text/html": [
       "<div>\n",
       "<style scoped>\n",
       "    .dataframe tbody tr th:only-of-type {\n",
       "        vertical-align: middle;\n",
       "    }\n",
       "\n",
       "    .dataframe tbody tr th {\n",
       "        vertical-align: top;\n",
       "    }\n",
       "\n",
       "    .dataframe thead th {\n",
       "        text-align: right;\n",
       "    }\n",
       "</style>\n",
       "<table border=\"1\" class=\"dataframe\">\n",
       "  <thead>\n",
       "    <tr style=\"text-align: right;\">\n",
       "      <th></th>\n",
       "      <th>Cell_ID</th>\n",
       "      <th>Spindle_Angle_Degrees</th>\n",
       "      <th>Spindle_Length_um</th>\n",
       "      <th>Spindle_Volume_um3</th>\n",
       "      <th>Spindle_Width_Avg_um</th>\n",
       "      <th>Tubulin_Spindle_Average_Intensity</th>\n",
       "      <th>Chromatin_Volume_um3</th>\n",
       "      <th>MetaphasePlate_Length_um</th>\n",
       "      <th>MetaphasePlate_Width_um</th>\n",
       "      <th>Version</th>\n",
       "    </tr>\n",
       "  </thead>\n",
       "  <tbody>\n",
       "    <tr>\n",
       "      <th>0</th>\n",
       "      <td>20230711_R1E309_HAUS6-2_60X_FBS+LIF_001-1</td>\n",
       "      <td>5.643454</td>\n",
       "      <td>10.755812</td>\n",
       "      <td>275.296875</td>\n",
       "      <td>7.578947</td>\n",
       "      <td>2305.519042</td>\n",
       "      <td>370.328125</td>\n",
       "      <td>10.0</td>\n",
       "      <td>3.25</td>\n",
       "      <td>Spindle3D version: 0.8.0</td>\n",
       "    </tr>\n",
       "  </tbody>\n",
       "</table>\n",
       "</div>"
      ],
      "text/plain": [
       "                                     Cell_ID  Spindle_Angle_Degrees  \\\n",
       "0  20230711_R1E309_HAUS6-2_60X_FBS+LIF_001-1               5.643454   \n",
       "\n",
       "   Spindle_Length_um  Spindle_Volume_um3  Spindle_Width_Avg_um  \\\n",
       "0          10.755812          275.296875              7.578947   \n",
       "\n",
       "   Tubulin_Spindle_Average_Intensity  Chromatin_Volume_um3  \\\n",
       "0                        2305.519042            370.328125   \n",
       "\n",
       "   MetaphasePlate_Length_um  MetaphasePlate_Width_um                   Version  \n",
       "0                      10.0                     3.25  Spindle3D version: 0.8.0  "
      ]
     },
     "execution_count": 23,
     "metadata": {},
     "output_type": "execute_result"
    }
   ],
   "source": [
    "# parse Spindle3D morphometry\n",
    "# parse Plugin Measurements\n",
    "\n",
    "input_dir0 = \"/Volumes/TOB_WD2/Microscopy/20230711_Augmin/Spindle3D/Correct\"\n",
    "input_dir1 = \"/Volumes/TOB_WD2/Microscopy/20230713_Augmin/Spindle3D/Correct\"\n",
    "input_dir2 = \"/Volumes/TOB_WD2/Microscopy/20230807_Augmin/Spindle3D/Correct\"\n",
    "\n",
    "spindle_input_folders = [\n",
    "    input_dir0, input_dir1, input_dir2\n",
    "]\n",
    "\n",
    "def concat_spindle3d(folderlist):\n",
    "    dataframes = []\n",
    "    for folder in folderlist:    \n",
    "        for root, dirs, files in os.walk(folder):\n",
    "            for file in files:\n",
    "                filepath = root + os.sep + file  \n",
    "                if filepath.endswith(\".txt\"):\n",
    "                    single_df = pd.read_csv(filepath, sep = \" \", delimiter = \"\\t\", encoding = 'unicode_escape')\n",
    "                    dataframes.append(single_df)  \n",
    "                else:\n",
    "                    pass\n",
    "    df = pd.concat(dataframes)\n",
    "    return df\n",
    "\n",
    "spindle_df = concat_spindle3d(spindle_input_folders)\n",
    "\n",
    "print(\"Finished parsing data.\")\n",
    "\n",
    "def get_nakedname(path):\n",
    "    # parse cell ids from file name in spindle3D table\n",
    "    base = os.path.basename(str(path))\n",
    "    naked = os.path.splitext(base)[0]\n",
    "    return naked\n",
    "\n",
    "# modify spindle 3d dataframe\n",
    "spindle_df[\"Cell_ID\"] = spindle_df.Path_InputImage.apply(get_nakedname)\n",
    "\n",
    "subselection_spindle = [\n",
    "    \"Cell_ID\",\n",
    "    \"Spindle_Angle_Degrees\",  \n",
    "    \"Spindle_Length_um\", \n",
    "    \"Spindle_Volume_um3\", \n",
    "    \"Spindle_Width_Avg_um\", \n",
    "    \"Tubulin_Spindle_Average_Intensity\",\n",
    "    \"Chromatin_Volume_um3\",\n",
    "    \"MetaphasePlate_Length_um\",\n",
    "    \"MetaphasePlate_Width_um\",\n",
    "    \"Version\"\n",
    "]\n",
    "spindle_df = spindle_df[subselection_spindle]\n",
    "print(spindle_df.shape)\n",
    "spindle_df.head(1)"
   ]
  },
  {
   "cell_type": "code",
   "execution_count": 24,
   "metadata": {},
   "outputs": [
    {
     "name": "stdout",
     "output_type": "stream",
     "text": [
      "(461, 4)\n"
     ]
    },
    {
     "data": {
      "text/html": [
       "<div>\n",
       "<style scoped>\n",
       "    .dataframe tbody tr th:only-of-type {\n",
       "        vertical-align: middle;\n",
       "    }\n",
       "\n",
       "    .dataframe tbody tr th {\n",
       "        vertical-align: top;\n",
       "    }\n",
       "\n",
       "    .dataframe thead th {\n",
       "        text-align: right;\n",
       "    }\n",
       "</style>\n",
       "<table border=\"1\" class=\"dataframe\">\n",
       "  <thead>\n",
       "    <tr style=\"text-align: right;\">\n",
       "      <th></th>\n",
       "      <th>Cell_ID</th>\n",
       "      <th>Average_Total_Tubulin</th>\n",
       "      <th>Minimum_Total_Tubulin</th>\n",
       "      <th>IntegratedDensity_Total_Tubulin</th>\n",
       "    </tr>\n",
       "  </thead>\n",
       "  <tbody>\n",
       "    <tr>\n",
       "      <th>0</th>\n",
       "      <td>20230711_R1E309_HAUS6-2_60X_FBS+LIF_001-1</td>\n",
       "      <td>1134.093</td>\n",
       "      <td>591</td>\n",
       "      <td>177291674.0</td>\n",
       "    </tr>\n",
       "  </tbody>\n",
       "</table>\n",
       "</div>"
      ],
      "text/plain": [
       "                                     Cell_ID  Average_Total_Tubulin  \\\n",
       "0  20230711_R1E309_HAUS6-2_60X_FBS+LIF_001-1               1134.093   \n",
       "\n",
       "   Minimum_Total_Tubulin  IntegratedDensity_Total_Tubulin  \n",
       "0                    591                      177291674.0  "
      ]
     },
     "execution_count": 24,
     "metadata": {},
     "output_type": "execute_result"
    }
   ],
   "source": [
    "# Total tub fluorescence in mitotic cell\n",
    "#(either tub-GFP or antibody staining)\n",
    "\n",
    "GFP_total_dir0 = \"/Volumes/TOB_WD2/Microscopy/20230711_Augmin/Total_Cell_GFP\"\n",
    "GFP_total_dir1 = \"/Volumes/TOB_WD2/Microscopy/20230713_Augmin/Total_Cell_GFP\"\n",
    "GFP_total_dir2 = \"/Volumes/TOB_WD2/Microscopy/20230807_Augmin/Total_Cell_GFP\"\n",
    "\n",
    "GFP_total_0 = concat_total(GFP_total_dir0, 'Tubulin')\n",
    "GFP_total_1 = concat_total(GFP_total_dir1, 'Tubulin')\n",
    "GFP_total_2 = concat_total(GFP_total_dir2, 'Tubulin')\n",
    "\n",
    "GFP_total_df = pd.concat([GFP_total_0, GFP_total_1, GFP_total_2])\n",
    "\n",
    "print(GFP_total_df.shape)\n",
    "GFP_total_df.head(1)"
   ]
  },
  {
   "cell_type": "code",
   "execution_count": 25,
   "metadata": {},
   "outputs": [
    {
     "name": "stdout",
     "output_type": "stream",
     "text": [
      "(432, 21)\n"
     ]
    }
   ],
   "source": [
    "# merge dataframes\n",
    "df = augmin_df.merge(total_df).merge(CV_df).merge(GFP_total_df).merge(spindle_df, how = \"outer\")\n",
    "\n",
    "print(df.shape)"
   ]
  },
  {
   "cell_type": "code",
   "execution_count": 26,
   "metadata": {},
   "outputs": [],
   "source": [
    "# Finalise Dataframe\n",
    "df[\"Condition\"] = df.Cell_ID.str.split(\"_\").str.get(4)\n",
    "df[\"Cells\"] = df.Cell_ID.str.split(\"_\").str.get(1)\n",
    "\n",
    "# Offset subtraction based on minimum inside the cell binary mask\n",
    "df[\"Average_Spindle_Augmin\"] = df.Average_Spindle_Augmin - df.Minimum_Total_Augmin\n",
    "df[\"Average_Total_Augmin\"] = df.Average_Total_Augmin - df.Minimum_Total_Augmin\n",
    "\n",
    "# Fluorescent masses\n",
    "df[\"Average_Augmin_Spindle_norm\"] = df[\"Average_Spindle_Augmin\"] / df[\"Average_Total_Augmin\"] # Augmin concentration (average signal) in spindle normalised by total augmin concentration (total average signal)\n",
    "df[\"Augmin_mass_Spindle_norm\"] = df[\"Average_Augmin_Spindle_norm\"] * df[\"Spindle_Volume_um3\"]\n",
    "df[\"Augmin_mass_at_Spindle_percent\"] = (df[\"Average_Spindle_Augmin\"] * df[\"Spindle_Volume_um3\"]) / (df[\"Average_Total_Augmin\"] * df[\"Cell_Volume_um3\"]) * 100\n",
    "\n",
    "\n",
    "\n",
    "df[\"Spindle_Occupancy\"] = df.Spindle_Volume_um3 / df.Cell_Volume_um3 * 100"
   ]
  },
  {
   "cell_type": "code",
   "execution_count": 27,
   "metadata": {},
   "outputs": [
    {
     "name": "stdout",
     "output_type": "stream",
     "text": [
      "Successfully saved dataframe at /Volumes/TOB_WD2/Image_Analysis/Augmin/DataFrames/MasterDataFrame_Augmin.csv\n"
     ]
    }
   ],
   "source": [
    "# Export Dataframe\n",
    "\n",
    "destination = \"/Volumes/TOB_WD2/Image_Analysis/Augmin/DataFrames\" + \"/MasterDataFrame_Augmin.csv\"\n",
    "df.to_csv(destination)\n",
    "print(\"Successfully saved dataframe at {}\".format(destination))"
   ]
  }
 ],
 "metadata": {
  "kernelspec": {
   "display_name": "Python 3",
   "language": "python",
   "name": "python3"
  },
  "language_info": {
   "codemirror_mode": {
    "name": "ipython",
    "version": 3
   },
   "file_extension": ".py",
   "mimetype": "text/x-python",
   "name": "python",
   "nbconvert_exporter": "python",
   "pygments_lexer": "ipython3",
   "version": "3.7.1"
  }
 },
 "nbformat": 4,
 "nbformat_minor": 4
}
