{
 "cells": [
  {
   "cell_type": "code",
   "execution_count": 10,
   "metadata": {},
   "outputs": [
    {
     "data": {
      "text/html": [
       "<style>.container { width:80% !important; }</style>"
      ],
      "text/plain": [
       "<IPython.core.display.HTML object>"
      ]
     },
     "metadata": {},
     "output_type": "display_data"
    }
   ],
   "source": [
    "import pandas as pd\n",
    "pd.set_option('display.max_colwidth', None)\n",
    "import os\n",
    "from os import listdir\n",
    "from os.path import isfile, join\n",
    "\n",
    "from IPython.core.display import display, HTML\n",
    "display(HTML(\"<style>.container { width:80% !important; }</style>\"))"
   ]
  },
  {
   "cell_type": "code",
   "execution_count": 11,
   "metadata": {},
   "outputs": [
    {
     "name": "stdout",
     "output_type": "stream",
     "text": [
      "(332, 3)\n"
     ]
    },
    {
     "data": {
      "text/html": [
       "<div>\n",
       "<style scoped>\n",
       "    .dataframe tbody tr th:only-of-type {\n",
       "        vertical-align: middle;\n",
       "    }\n",
       "\n",
       "    .dataframe tbody tr th {\n",
       "        vertical-align: top;\n",
       "    }\n",
       "\n",
       "    .dataframe thead th {\n",
       "        text-align: right;\n",
       "    }\n",
       "</style>\n",
       "<table border=\"1\" class=\"dataframe\">\n",
       "  <thead>\n",
       "    <tr style=\"text-align: right;\">\n",
       "      <th></th>\n",
       "      <th>Average_Spindle_TPX2</th>\n",
       "      <th>Cell_ID</th>\n",
       "      <th>IntegratedDensity_Spindle_TPX2</th>\n",
       "    </tr>\n",
       "  </thead>\n",
       "  <tbody>\n",
       "    <tr>\n",
       "      <th>0</th>\n",
       "      <td>2827.241</td>\n",
       "      <td>20220804_R1E309_PTMs_0X_TPX2_D0_002-1</td>\n",
       "      <td>44964434</td>\n",
       "    </tr>\n",
       "  </tbody>\n",
       "</table>\n",
       "</div>"
      ],
      "text/plain": [
       "   Average_Spindle_TPX2                                Cell_ID  \\\n",
       "0              2827.241  20220804_R1E309_PTMs_0X_TPX2_D0_002-1   \n",
       "\n",
       "   IntegratedDensity_Spindle_TPX2  \n",
       "0                        44964434  "
      ]
     },
     "execution_count": 11,
     "metadata": {},
     "output_type": "execute_result"
    }
   ],
   "source": [
    "# parse 3D Intensity measurements\n",
    "# I - TPX2 spindle intensity\n",
    "\n",
    "intensity_dir0 = '/Volumes/TOB_WD2/Image_Analysis/PTMs/Analysis/3D_Intensity_measurements/20220804' \n",
    "intensity_dir1 = '/Volumes/TOB_WD2/Image_Analysis/PTMs/Analysis/3D_Intensity_measurements/20220921' \n",
    "intensity_dir2 = '/Volumes/TOB_WD2/Microscopy/20231025_TPX2/3D_Intensity_TPX2' \n",
    "\n",
    "def concat_augmin(folder, staining):\n",
    "    \n",
    "    dataframes = []   \n",
    "    for root, dirs, files in os.walk(folder):\n",
    "        for file in files:\n",
    "            if not file.startswith('.'):\n",
    "                filepath = root + os.sep + file\n",
    "                if filepath.endswith('Spindle_TPX2.csv'):\n",
    "                    \n",
    "                    single_df = pd.read_csv(filepath, encoding = 'latin-1')\n",
    "                    single_df = single_df[[\"Average\", \"Cell_ID\", \"IntegratedDensity\"]]\n",
    "                    single_df = single_df.rename(columns = \n",
    "                                                 {\n",
    "                                                     \"Average\": \"Average_Spindle_TPX2\", \n",
    "                                                     \"IntegratedDensity\": \"IntegratedDensity_Spindle_TPX2\"\n",
    "                                                 }\n",
    "                                                )\n",
    "                    dataframes.append(single_df) \n",
    "                else:\n",
    "                    pass\n",
    "            else:\n",
    "                pass\n",
    "    df = pd.concat(dataframes)\n",
    "    return df\n",
    "\n",
    "augmin_df_0 = concat_augmin(intensity_dir0, 'TPX2')\n",
    "augmin_df_1 = concat_augmin(intensity_dir1, 'TPX2')\n",
    "augmin_df_2 = concat_augmin(intensity_dir2, 'TPX2')\n",
    "\n",
    "augmin_df = pd.concat([augmin_df_0, augmin_df_1, augmin_df_2])\n",
    "\n",
    "def correct_CellID(x):\n",
    "    if x.endswith(\"-out\"):\n",
    "        return x.rsplit(\"-\", 1)[0]\n",
    "    else:\n",
    "        return x\n",
    "\n",
    "augmin_df[\"Cell_ID\"] = augmin_df.Cell_ID.apply(correct_CellID)   \n",
    "    \n",
    "print(augmin_df.shape)\n",
    "augmin_df.head(1)"
   ]
  },
  {
   "cell_type": "code",
   "execution_count": 12,
   "metadata": {},
   "outputs": [
    {
     "name": "stdout",
     "output_type": "stream",
     "text": [
      "(347, 4)\n"
     ]
    },
    {
     "data": {
      "text/html": [
       "<div>\n",
       "<style scoped>\n",
       "    .dataframe tbody tr th:only-of-type {\n",
       "        vertical-align: middle;\n",
       "    }\n",
       "\n",
       "    .dataframe tbody tr th {\n",
       "        vertical-align: top;\n",
       "    }\n",
       "\n",
       "    .dataframe thead th {\n",
       "        text-align: right;\n",
       "    }\n",
       "</style>\n",
       "<table border=\"1\" class=\"dataframe\">\n",
       "  <thead>\n",
       "    <tr style=\"text-align: right;\">\n",
       "      <th></th>\n",
       "      <th>Cell_ID</th>\n",
       "      <th>Average_Total_TPX2</th>\n",
       "      <th>Minimum_Total_TPX2</th>\n",
       "      <th>IntegratedDensity_Total_TPX2</th>\n",
       "    </tr>\n",
       "  </thead>\n",
       "  <tbody>\n",
       "    <tr>\n",
       "      <th>0</th>\n",
       "      <td>20220921_R1E309_PTMs_0X_TPX2_D0_001-1</td>\n",
       "      <td>1213.762</td>\n",
       "      <td>512</td>\n",
       "      <td>279431013</td>\n",
       "    </tr>\n",
       "  </tbody>\n",
       "</table>\n",
       "</div>"
      ],
      "text/plain": [
       "                                 Cell_ID  Average_Total_TPX2  \\\n",
       "0  20220921_R1E309_PTMs_0X_TPX2_D0_001-1            1213.762   \n",
       "\n",
       "   Minimum_Total_TPX2  IntegratedDensity_Total_TPX2  \n",
       "0                 512                     279431013  "
      ]
     },
     "execution_count": 12,
     "metadata": {},
     "output_type": "execute_result"
    }
   ],
   "source": [
    "# parse 3D Intensity measurements\n",
    "# II - Total cell Augmin\n",
    "\n",
    "Augmin_total_dir0 = '/Volumes/TOB_WD2/Microscopy/20220921_PTMs_MAPs/Total_Cell_TPX2'\n",
    "Augmin_total_dir1 = '/Volumes/TOB_WD2/Microscopy/20220804_PTMs_MAPs/Total_Cell_TPX2'\n",
    "Augmin_total_dir2 = '/Volumes/TOB_WD2/Microscopy/20231025_TPX2/Total_Cell_TPX2'\n",
    "\n",
    "def concat_total(folder, staining):\n",
    "    average_column = 'Average_Total_' + staining\n",
    "    minimum_column = 'Minimum_Total_' + staining\n",
    "    intdent_column = 'IntegratedDensity_Total_' + staining\n",
    "    \n",
    "    dataframes = []   \n",
    "    for root, dirs, files in os.walk(folder):\n",
    "        for file in files:\n",
    "            if not file.startswith(\".\"):\n",
    "                filepath = root + os.sep + file  \n",
    "                if filepath.endswith('.csv'):\n",
    "                    single_df = pd.read_csv(filepath, encoding = 'latin-1')\n",
    "                    single_df = single_df.rename(columns = \n",
    "                                                 {\n",
    "                                                     'Average': average_column, \n",
    "                                                     'Minimum': minimum_column,\n",
    "                                                     'IntegratedDensity': intdent_column\n",
    "                                                 }\n",
    "                                                )\n",
    "                    single_df = single_df[['Cell_ID', average_column, minimum_column, intdent_column]]\n",
    "                    dataframes.append(single_df)\n",
    "                else:\n",
    "                    pass\n",
    "            else:\n",
    "                pass\n",
    "    df = pd.concat(dataframes)\n",
    "    return df\n",
    "\n",
    "Augmin_total_0 = concat_total(Augmin_total_dir0, 'TPX2')\n",
    "Augmin_total_1 = concat_total(Augmin_total_dir1, 'TPX2')\n",
    "Augmin_total_2 = concat_total(Augmin_total_dir2, 'TPX2')\n",
    "\n",
    "total_df = pd.concat([Augmin_total_0, Augmin_total_1, Augmin_total_2])\n",
    "\n",
    "print(total_df.shape)\n",
    "total_df.head(1)"
   ]
  },
  {
   "cell_type": "code",
   "execution_count": 13,
   "metadata": {},
   "outputs": [
    {
     "name": "stdout",
     "output_type": "stream",
     "text": [
      "(348, 3)\n"
     ]
    },
    {
     "data": {
      "text/html": [
       "<div>\n",
       "<style scoped>\n",
       "    .dataframe tbody tr th:only-of-type {\n",
       "        vertical-align: middle;\n",
       "    }\n",
       "\n",
       "    .dataframe tbody tr th {\n",
       "        vertical-align: top;\n",
       "    }\n",
       "\n",
       "    .dataframe thead th {\n",
       "        text-align: right;\n",
       "    }\n",
       "</style>\n",
       "<table border=\"1\" class=\"dataframe\">\n",
       "  <thead>\n",
       "    <tr style=\"text-align: right;\">\n",
       "      <th></th>\n",
       "      <th>Cell_ID</th>\n",
       "      <th>Cell_Volume_um3</th>\n",
       "      <th>Cell_Surface_Area_um2</th>\n",
       "    </tr>\n",
       "  </thead>\n",
       "  <tbody>\n",
       "    <tr>\n",
       "      <th>0</th>\n",
       "      <td>20220804_R1E309_PTMs_0X_TPX2_D0_002-1</td>\n",
       "      <td>2863.157</td>\n",
       "      <td>1013.712</td>\n",
       "    </tr>\n",
       "  </tbody>\n",
       "</table>\n",
       "</div>"
      ],
      "text/plain": [
       "                                 Cell_ID  Cell_Volume_um3  \\\n",
       "0  20220804_R1E309_PTMs_0X_TPX2_D0_002-1         2863.157   \n",
       "\n",
       "   Cell_Surface_Area_um2  \n",
       "0               1013.712  "
      ]
     },
     "execution_count": 13,
     "metadata": {},
     "output_type": "execute_result"
    }
   ],
   "source": [
    "# parse Cell Volumes (manual segmentation)\n",
    "\n",
    "CV_dir_0 = \"/Volumes/TOB_WD2/Microscopy/20220804_PTMs_MAPs/Cell_Volumes\"\n",
    "CV_dir_1 = \"/Volumes/TOB_WD2/Microscopy/20220921_PTMs_MAPs/Cell_Volumes\"\n",
    "CV_dir_2 = \"/Volumes/TOB_WD2/Microscopy/20231025_TPX2/Cell_Volumes\"\n",
    "\n",
    "def concat_CV(folder):\n",
    "    CV_dataframes = []\n",
    "    for root, dirs, files in os.walk(folder):\n",
    "        for file in files:\n",
    "            if not file.startswith(\".\"):\n",
    "                filepath = root + os.sep + file  \n",
    "                if filepath.endswith(\".csv\"):\n",
    "                    single_df = pd.read_csv(filepath)\n",
    "                    single_df = single_df.rename(\n",
    "                            columns = {\n",
    "                                \"Volume\": \"Cell_Volume_um3\",\n",
    "                                \"SurfaceArea\": \"Cell_Surface_Area_um2\"\n",
    "                            }\n",
    "                    )\n",
    "                    single_df = single_df[[\"Cell_ID\", \"Cell_Volume_um3\", \"Cell_Surface_Area_um2\"]]\n",
    "\n",
    "                    CV_dataframes.append(single_df)\n",
    "                else:\n",
    "                    pass\n",
    "            else:\n",
    "                pass\n",
    "    CV_df = pd.concat(CV_dataframes)\n",
    "    return CV_df \n",
    "\n",
    "CV_df_0 = concat_CV(CV_dir_0)\n",
    "CV_df_1 = concat_CV(CV_dir_1)\n",
    "CV_df_2 = concat_CV(CV_dir_2)\n",
    "\n",
    "CV_df = pd.concat([CV_df_0, CV_df_1, CV_df_2])\n",
    "\n",
    "print(CV_df.shape)\n",
    "CV_df.head(1)"
   ]
  },
  {
   "cell_type": "code",
   "execution_count": 14,
   "metadata": {},
   "outputs": [
    {
     "name": "stdout",
     "output_type": "stream",
     "text": [
      "Finished parsing data.\n",
      "(323, 10)\n"
     ]
    },
    {
     "data": {
      "text/html": [
       "<div>\n",
       "<style scoped>\n",
       "    .dataframe tbody tr th:only-of-type {\n",
       "        vertical-align: middle;\n",
       "    }\n",
       "\n",
       "    .dataframe tbody tr th {\n",
       "        vertical-align: top;\n",
       "    }\n",
       "\n",
       "    .dataframe thead th {\n",
       "        text-align: right;\n",
       "    }\n",
       "</style>\n",
       "<table border=\"1\" class=\"dataframe\">\n",
       "  <thead>\n",
       "    <tr style=\"text-align: right;\">\n",
       "      <th></th>\n",
       "      <th>Cell_ID</th>\n",
       "      <th>Spindle_Angle_Degrees</th>\n",
       "      <th>Spindle_Length_um</th>\n",
       "      <th>Spindle_Volume_um3</th>\n",
       "      <th>Spindle_Width_Avg_um</th>\n",
       "      <th>Tubulin_Spindle_Average_Intensity</th>\n",
       "      <th>Chromatin_Volume_um3</th>\n",
       "      <th>MetaphasePlate_Length_um</th>\n",
       "      <th>MetaphasePlate_Width_um</th>\n",
       "      <th>Version</th>\n",
       "    </tr>\n",
       "  </thead>\n",
       "  <tbody>\n",
       "    <tr>\n",
       "      <th>0</th>\n",
       "      <td>20220804_R1E309_PTMs_0X_TPX2_D0_002-1</td>\n",
       "      <td>25.049002</td>\n",
       "      <td>10.574143</td>\n",
       "      <td>248.5</td>\n",
       "      <td>6.921053</td>\n",
       "      <td>8540.720573</td>\n",
       "      <td>394.46875</td>\n",
       "      <td>11.5</td>\n",
       "      <td>3.0</td>\n",
       "      <td>Spindle3D version: 0.8.0</td>\n",
       "    </tr>\n",
       "  </tbody>\n",
       "</table>\n",
       "</div>"
      ],
      "text/plain": [
       "                                 Cell_ID  Spindle_Angle_Degrees  \\\n",
       "0  20220804_R1E309_PTMs_0X_TPX2_D0_002-1              25.049002   \n",
       "\n",
       "   Spindle_Length_um  Spindle_Volume_um3  Spindle_Width_Avg_um  \\\n",
       "0          10.574143               248.5              6.921053   \n",
       "\n",
       "   Tubulin_Spindle_Average_Intensity  Chromatin_Volume_um3  \\\n",
       "0                        8540.720573             394.46875   \n",
       "\n",
       "   MetaphasePlate_Length_um  MetaphasePlate_Width_um                   Version  \n",
       "0                      11.5                      3.0  Spindle3D version: 0.8.0  "
      ]
     },
     "execution_count": 14,
     "metadata": {},
     "output_type": "execute_result"
    }
   ],
   "source": [
    "# parse Spindle3D morphometry\n",
    "# parse Plugin Measurements\n",
    "\n",
    "input_dir0 = \"/Volumes/TOB_WD2/Microscopy/20220804_PTMs_MAPs/Spindle3D/Correct\"\n",
    "input_dir1 = \"/Volumes/TOB_WD2/Microscopy/20220921_PTMs_MAPs/Spindle3D/Correct\"\n",
    "input_dir2 = \"/Volumes/TOB_WD2/Microscopy/20231025_TPX2/Spindle3D/Correct\"\n",
    "\n",
    "spindle_input_folders = [\n",
    "    input_dir0, input_dir1, input_dir2\n",
    "]\n",
    "\n",
    "def concat_spindle3d(folderlist):\n",
    "    dataframes = []\n",
    "    for folder in folderlist:    \n",
    "        for root, dirs, files in os.walk(folder):\n",
    "            for file in files:\n",
    "                filepath = root + os.sep + file  \n",
    "                if filepath.endswith(\".txt\"):\n",
    "                    single_df = pd.read_csv(filepath, sep = \" \", delimiter = \"\\t\", encoding = 'unicode_escape')\n",
    "                    dataframes.append(single_df)  \n",
    "                else:\n",
    "                    pass\n",
    "    df = pd.concat(dataframes)\n",
    "    return df\n",
    "\n",
    "spindle_df = concat_spindle3d(spindle_input_folders)\n",
    "\n",
    "print(\"Finished parsing data.\")\n",
    "\n",
    "def get_nakedname(path):\n",
    "    # parse cell ids from file name in spindle3D table\n",
    "    base = os.path.basename(str(path))\n",
    "    naked = os.path.splitext(base)[0]\n",
    "    return naked\n",
    "\n",
    "# modify spindle 3d dataframe\n",
    "spindle_df[\"Cell_ID\"] = spindle_df.Path_InputImage.apply(get_nakedname)\n",
    "\n",
    "subselection_spindle = [\n",
    "    \"Cell_ID\",\n",
    "    \"Spindle_Angle_Degrees\",  \n",
    "    \"Spindle_Length_um\", \n",
    "    \"Spindle_Volume_um3\", \n",
    "    \"Spindle_Width_Avg_um\", \n",
    "    \"Tubulin_Spindle_Average_Intensity\",\n",
    "    \"Chromatin_Volume_um3\",\n",
    "    \"MetaphasePlate_Length_um\",\n",
    "    \"MetaphasePlate_Width_um\",\n",
    "    \"Version\"\n",
    "]\n",
    "spindle_df = spindle_df[subselection_spindle]\n",
    "print(spindle_df.shape)\n",
    "spindle_df.head(1)"
   ]
  },
  {
   "cell_type": "code",
   "execution_count": 16,
   "metadata": {},
   "outputs": [
    {
     "name": "stdout",
     "output_type": "stream",
     "text": [
      "(324, 17)\n"
     ]
    }
   ],
   "source": [
    "# merge dataframes\n",
    "df = augmin_df.merge(total_df).merge(CV_df).merge(spindle_df, how = \"outer\")\n",
    "\n",
    "print(df.shape)"
   ]
  },
  {
   "cell_type": "code",
   "execution_count": 17,
   "metadata": {},
   "outputs": [],
   "source": [
    "# Finalise Dataframe\n",
    "df[\"Condition\"] = df.Cell_ID.str.split(\"_\").str.get(5)\n",
    "df[\"Cells\"] = df.Cell_ID.str.split(\"_\").str.get(1)\n",
    "df[\"Experiment\"] = df.Cell_ID.str.split(\"_\").str.get(0)\n",
    "\n",
    "# Offset subtraction based on minimum inside the cell binary mask\n",
    "df[\"Average_Spindle_TPX2\"] = df.Average_Spindle_TPX2 - df.Minimum_Total_TPX2\n",
    "df[\"Average_Total_TPX2\"] = df.Average_Total_TPX2 - df.Minimum_Total_TPX2\n",
    "\n",
    "# Fluorescent masses\n",
    "df[\"Average_TPX2_Spindle_norm\"] = df[\"Average_Spindle_TPX2\"] / df[\"Average_Total_TPX2\"] # TPX2 concentration (average signal) in spindle normalised by total TPX2 concentration (total average signal)\n",
    "df[\"TPX2_mass_Spindle_norm\"] = df[\"Average_TPX2_Spindle_norm\"] * df[\"Spindle_Volume_um3\"]\n",
    "df[\"TPX2_mass_at_Spindle_percent\"] = (df[\"Average_Spindle_TPX2\"] * df[\"Spindle_Volume_um3\"]) / (df[\"Average_Total_TPX2\"] * df[\"Cell_Volume_um3\"]) * 100\n",
    "\n",
    "\n",
    "\n",
    "df[\"Spindle_Occupancy\"] = df.Spindle_Volume_um3 / df.Cell_Volume_um3 * 100"
   ]
  },
  {
   "cell_type": "code",
   "execution_count": 18,
   "metadata": {},
   "outputs": [
    {
     "name": "stdout",
     "output_type": "stream",
     "text": [
      "Successfully saved dataframe at /Volumes/TOB_WD2/Image_Analysis/TPX2/DataFrames/MasterDataFrame_TPX2.csv\n"
     ]
    }
   ],
   "source": [
    "# Export Dataframe\n",
    "\n",
    "destination = \"/Volumes/TOB_WD2/Image_Analysis/TPX2/DataFrames\" + \"/MasterDataFrame_TPX2.csv\"\n",
    "df.to_csv(destination)\n",
    "print(\"Successfully saved dataframe at {}\".format(destination))"
   ]
  }
 ],
 "metadata": {
  "kernelspec": {
   "display_name": "Python 3",
   "language": "python",
   "name": "python3"
  },
  "language_info": {
   "codemirror_mode": {
    "name": "ipython",
    "version": 3
   },
   "file_extension": ".py",
   "mimetype": "text/x-python",
   "name": "python",
   "nbconvert_exporter": "python",
   "pygments_lexer": "ipython3",
   "version": "3.7.1"
  }
 },
 "nbformat": 4,
 "nbformat_minor": 4
}
