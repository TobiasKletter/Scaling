{
 "cells": [
  {
   "cell_type": "code",
   "execution_count": 1,
   "metadata": {},
   "outputs": [
    {
     "data": {
      "text/html": [
       "<style>.container { width:80% !important; }</style>"
      ],
      "text/plain": [
       "<IPython.core.display.HTML object>"
      ]
     },
     "metadata": {},
     "output_type": "display_data"
    }
   ],
   "source": [
    "import os \n",
    "import pandas as pd\n",
    "import numpy as np\n",
    "\n",
    "from sklearn import preprocessing\n",
    "from sklearn import linear_model\n",
    "from sklearn.metrics import mean_squared_error, r2_score\n",
    "import sklearn.linear_model\n",
    "\n",
    "import scipy\n",
    "from scipy import stats\n",
    "from scipy.optimize import curve_fit\n",
    "\n",
    "from IPython.core.display import display, HTML\n",
    "display(HTML(\"<style>.container { width:80% !important; }</style>\"))"
   ]
  },
  {
   "cell_type": "code",
   "execution_count": 2,
   "metadata": {},
   "outputs": [],
   "source": [
    "root_dir = \"/Volumes/TOB_WD2/Image_Analysis/CCB02/Dataframes\" + \"/\"\n",
    "\n",
    "# load data\n",
    "\n",
    "df = pd.read_csv(root_dir + \"MasterDataFrame_CCB02_gTub_for_stats.csv\")"
   ]
  },
  {
   "cell_type": "code",
   "execution_count": 3,
   "metadata": {},
   "outputs": [
    {
     "data": {
      "text/plain": [
       "(157, 32)"
      ]
     },
     "execution_count": 3,
     "metadata": {},
     "output_type": "execute_result"
    }
   ],
   "source": [
    "df.shape"
   ]
  },
  {
   "cell_type": "code",
   "execution_count": 4,
   "metadata": {},
   "outputs": [
    {
     "data": {
      "text/plain": [
       "Index(['Unnamed: 0', 'Unnamed: 0.1', 'Cell_ID', 'Average_Pole_gTub',\n",
       "       'IntegratedDensity_Pole_gTub', 'Experiment', 'Average_Total_gTub',\n",
       "       'Minimum_Total_gTub', 'IntegratedDensity_Total_gTub', 'Cell_Volume_um3',\n",
       "       'Cell_Surface_Area_um2', 'Centrosome_Volume_um3', 'Target',\n",
       "       'Spindle_Angle_Degrees', 'Spindle_Length_um', 'Spindle_Volume_um3',\n",
       "       'Spindle_Width_Avg_um', 'Tubulin_Spindle_Average_Intensity',\n",
       "       'Chromatin_Volume_um3', 'MetaphasePlate_Length_um',\n",
       "       'MetaphasePlate_Width_um', 'Version', 'Cell_line', 'Condition',\n",
       "       'Average_Pole_gTub_BGsub', 'Average_Total_gTub_BGsub',\n",
       "       'Average_gTub_Poles_norm', 'gTub_mass_poles_norm',\n",
       "       'gTub_mass_at_poles_percent', 'Centrosome_Occupancy',\n",
       "       'Centrosome_to_spindle_ratio', 'Spindle_Occupancy'],\n",
       "      dtype='object')"
      ]
     },
     "execution_count": 4,
     "metadata": {},
     "output_type": "execute_result"
    }
   ],
   "source": [
    "df.columns"
   ]
  },
  {
   "cell_type": "code",
   "execution_count": 5,
   "metadata": {},
   "outputs": [
    {
     "name": "stdout",
     "output_type": "stream",
     "text": [
      "5_10µM        49\n",
      "4_5µM         45\n",
      "1_DMSO        39\n",
      "6_N2B27+RA    24\n",
      "Name: Condition, dtype: int64\n",
      "The Bartlett test for equal variances of gTub_mass_at_poles_percent: BartlettResult(statistic=9.625555355311999, pvalue=0.022032500955905015)\n",
      "                                OLS Regression Results                                \n",
      "======================================================================================\n",
      "Dep. Variable:     gTub_mass_at_poles_percent   R-squared:                       0.153\n",
      "Model:                                    OLS   Adj. R-squared:                  0.136\n",
      "Method:                         Least Squares   F-statistic:                     9.202\n",
      "Date:                        Mon, 10 Jul 2023   Prob (F-statistic):           1.24e-05\n",
      "Time:                                17:29:39   Log-Likelihood:                -241.40\n",
      "No. Observations:                         157   AIC:                             490.8\n",
      "Df Residuals:                             153   BIC:                             503.0\n",
      "Df Model:                                   3                                         \n",
      "Covariance Type:                    nonrobust                                         \n",
      "==============================================================================================\n",
      "                                 coef    std err          t      P>|t|      [0.025      0.975]\n",
      "----------------------------------------------------------------------------------------------\n",
      "Intercept                      3.0901      0.183     16.918      0.000       2.729       3.451\n",
      "C(Condition)[T.4_5µM]          0.3818      0.250      1.530      0.128      -0.111       0.875\n",
      "C(Condition)[T.5_10µM]         1.1708      0.245      4.783      0.000       0.687       1.654\n",
      "C(Condition)[T.6_N2B27+RA]     1.0028      0.296      3.389      0.001       0.418       1.587\n",
      "==============================================================================\n",
      "Omnibus:                        7.035   Durbin-Watson:                   1.786\n",
      "Prob(Omnibus):                  0.030   Jarque-Bera (JB):                6.674\n",
      "Skew:                           0.471   Prob(JB):                       0.0355\n",
      "Kurtosis:                       3.363   Cond. No.                         4.90\n",
      "==============================================================================\n",
      "\n",
      "Notes:\n",
      "[1] Standard Errors assume that the covariance matrix of the errors is correctly specified.\n",
      "\n",
      " ANOVA TABLE: \n",
      "                  sum_sq     df    mean_sq         F    PR(>F)    eta_sq  \\\n",
      "C(Condition)   35.916217    3.0  11.972072  9.202103  0.000012  0.152854   \n",
      "Residual      199.055272  153.0   1.301015       NaN       NaN       NaN   \n",
      "\n",
      "              omega_sq  \n",
      "C(Condition)  0.135493  \n",
      "Residual           NaN  \n",
      "\n",
      "\n",
      " POST-HOC testing for gTub_mass_at_poles_percent: \n",
      "\n",
      "  Multiple Comparison of Means - Tukey HSD, FWER=0.05  \n",
      "=======================================================\n",
      "group1   group2   meandiff p-adj   lower  upper  reject\n",
      "-------------------------------------------------------\n",
      "1_DMSO      4_5µM   0.3818 0.4235 -0.2664   1.03  False\n",
      "1_DMSO     5_10µM   1.1708  0.001   0.535 1.8066   True\n",
      "1_DMSO 6_N2B27+RA   1.0028 0.0049  0.2341 1.7715   True\n",
      " 4_5µM     5_10µM    0.789 0.0056  0.1772 1.4007   True\n",
      " 4_5µM 6_N2B27+RA   0.6209  0.141  -0.128 1.3699  False\n",
      "5_10µM 6_N2B27+RA   -0.168    0.9 -0.9063 0.5702  False\n",
      "-------------------------------------------------------\n",
      "If \"reject\" = True, then H0 should be rejected\n",
      "\n",
      " Welch's ANOVA table\n",
      "      Source  ddof1      ddof2          F     p-unc       np2\n",
      "0  Condition      3  71.238674  11.322564  0.000004  0.152854\n",
      "\n",
      " Games-Howell post-hoc test table\n",
      "        A           B   mean(A)   mean(B)      diff        se         T  \\\n",
      "0  1_DMSO       4_5µM  3.090069  3.471886 -0.381817  0.221739 -1.721925   \n",
      "1  1_DMSO      5_10µM  3.090069  4.260874 -1.170806  0.209276 -5.594562   \n",
      "2  1_DMSO  6_N2B27+RA  3.090069  4.092830 -1.002762  0.328280 -3.054592   \n",
      "3   4_5µM      5_10µM  3.471886  4.260874 -0.788989  0.239216 -3.298233   \n",
      "4   4_5µM  6_N2B27+RA  3.471886  4.092830 -0.620945  0.348132 -1.783649   \n",
      "5  5_10µM  6_N2B27+RA  4.260874  4.092830  0.168044  0.340329  0.493769   \n",
      "\n",
      "          df      pval    hedges  \n",
      "0  78.831982  0.319422 -0.373261  \n",
      "1  85.602680  0.001000 -1.190041  \n",
      "2  32.280776  0.022175 -0.782691  \n",
      "3  90.293410  0.007483 -0.675424  \n",
      "4  39.311918  0.296464 -0.445774  \n",
      "5  36.715953  0.900000  0.121717  \n"
     ]
    },
    {
     "name": "stderr",
     "output_type": "stream",
     "text": [
      "/anaconda3/envs/statistics/lib/python3.8/site-packages/outdated/utils.py:14: OutdatedPackageWarning: The package pingouin is out of date. Your version is 0.4.0, the latest is 0.5.3.\n",
      "Set the environment variable OUTDATED_IGNORE=1 to disable these warnings.\n",
      "  return warn(\n",
      "/anaconda3/envs/statistics/lib/python3.8/site-packages/outdated/utils.py:14: OutdatedPackageWarning: The package outdated is out of date. Your version is 0.2.1, the latest is 0.2.2.\n",
      "Set the environment variable OUTDATED_IGNORE=1 to disable these warnings.\n",
      "  return warn(\n"
     ]
    }
   ],
   "source": [
    "# ANOVA Testing\n",
    "# ANOVA as generalized linear model (GLM):\n",
    "import numpy as np\n",
    "import statsmodels.api as sm\n",
    "from statsmodels.formula.api import ols\n",
    "import pingouin as pg\n",
    "import scipy.stats as stats\n",
    "from statsmodels.stats.multicomp import pairwise_tukeyhsd\n",
    "from statsmodels.stats.multicomp import MultiComparison\n",
    "\n",
    "measurement = 'gTub_mass_at_poles_percent'\n",
    "group_variable = 'Condition'\n",
    "nan_elements = df[measurement].isnull()\n",
    "data = df[~nan_elements]\n",
    "\n",
    "print(data[group_variable].value_counts())\n",
    "\n",
    "# Bartlett's test for equal variances (One-way ANOVA requires equal variances!)\n",
    "\n",
    "BartlettResult = stats.bartlett(data[data.Condition == '1_DMSO'][measurement], data[data.Condition == '4_5µM'][measurement], data[data.Condition == '5_10µM'][measurement], data[data.Condition == '6_N2B27+RA'][measurement])\n",
    "\n",
    "print(\"The Bartlett test for equal variances of {}: \".format(measurement) + str(BartlettResult))\n",
    "\n",
    "\n",
    "#results = ols('Aspect-Ratio~ C('+group_variable+')', data=data).fit()\n",
    "results = ols(measurement + '~ C('+group_variable+')', data = data).fit()\n",
    "print(results.summary())\n",
    "\n",
    "aov_table = sm.stats.anova_lm(results, typ = 2)\n",
    "\n",
    "def anova_table(aov):\n",
    "    aov['mean_sq'] = aov[:]['sum_sq'] / aov[:]['df']\n",
    "    \n",
    "    aov['eta_sq'] = aov[:-1]['sum_sq'] / sum(aov['sum_sq'])\n",
    "    \n",
    "    aov['omega_sq'] = (aov[:-1]['sum_sq']-(aov[:-1]['df'] * aov['mean_sq'][-1])) / (sum(aov['sum_sq']) + aov['mean_sq'][-1])\n",
    "    \n",
    "    cols = ['sum_sq', 'df', 'mean_sq', 'F', 'PR(>F)', 'eta_sq', 'omega_sq']\n",
    "    aov = aov[cols]\n",
    "    return aov\n",
    "\n",
    "aov_table = anova_table(aov_table)\n",
    "print(\"\\n ANOVA TABLE: \")\n",
    "print(aov_table)\n",
    "\n",
    "# Post-hoc testing\n",
    "mc = MultiComparison(data[measurement], data[group_variable])\n",
    "mc_results = mc.tukeyhsd()\n",
    "print(\"\\n\\n POST-HOC testing for {}: \\n\".format(measurement))\n",
    "print(mc_results)\n",
    "print(\"If \\\"reject\\\" = True, then H0 should be rejected\")\n",
    "\n",
    "# Welch's ANOVA when variances are unequal\n",
    "aov_table_WELCH = pg.welch_anova(dv = measurement, between = group_variable, data = data)\n",
    "print(\"\\n Welch's ANOVA table\") \n",
    "print(aov_table_WELCH)\n",
    "\n",
    "# Post-hoc testing using Games-Howell post-hoc test\n",
    "mc_results_GamesHowell = pg.pairwise_gameshowell(dv = measurement, between = group_variable, data = data)\n",
    "print(\"\\n Games-Howell post-hoc test table\") \n",
    "print(mc_results_GamesHowell)"
   ]
  }
 ],
 "metadata": {
  "kernelspec": {
   "display_name": "Python 3",
   "language": "python",
   "name": "python3"
  },
  "language_info": {
   "codemirror_mode": {
    "name": "ipython",
    "version": 3
   },
   "file_extension": ".py",
   "mimetype": "text/x-python",
   "name": "python",
   "nbconvert_exporter": "python",
   "pygments_lexer": "ipython3",
   "version": "3.7.1"
  }
 },
 "nbformat": 4,
 "nbformat_minor": 4
}
