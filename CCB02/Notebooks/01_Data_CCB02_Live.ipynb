{
 "cells": [
  {
   "cell_type": "code",
   "execution_count": 1,
   "metadata": {},
   "outputs": [
    {
     "data": {
      "text/html": [
       "<style>.container { width:80% !important; }</style>"
      ],
      "text/plain": [
       "<IPython.core.display.HTML object>"
      ]
     },
     "metadata": {},
     "output_type": "display_data"
    }
   ],
   "source": [
    "import pandas as pd\n",
    "pd.set_option('display.max_colwidth', None)\n",
    "import os\n",
    "from os import listdir\n",
    "from os.path import isfile, join\n",
    "\n",
    "from IPython.core.display import display, HTML\n",
    "display(HTML(\"<style>.container { width:80% !important; }</style>\"))"
   ]
  },
  {
   "cell_type": "code",
   "execution_count": 2,
   "metadata": {},
   "outputs": [
    {
     "name": "stdout",
     "output_type": "stream",
     "text": [
      "(715, 4)\n"
     ]
    },
    {
     "data": {
      "text/html": [
       "<div>\n",
       "<style scoped>\n",
       "    .dataframe tbody tr th:only-of-type {\n",
       "        vertical-align: middle;\n",
       "    }\n",
       "\n",
       "    .dataframe tbody tr th {\n",
       "        vertical-align: top;\n",
       "    }\n",
       "\n",
       "    .dataframe thead th {\n",
       "        text-align: right;\n",
       "    }\n",
       "</style>\n",
       "<table border=\"1\" class=\"dataframe\">\n",
       "  <thead>\n",
       "    <tr style=\"text-align: right;\">\n",
       "      <th></th>\n",
       "      <th>Cell_ID</th>\n",
       "      <th>Cell_Volume_um3</th>\n",
       "      <th>Cell_Surface_Area_um2</th>\n",
       "      <th>Experiment</th>\n",
       "    </tr>\n",
       "  </thead>\n",
       "  <tbody>\n",
       "    <tr>\n",
       "      <th>0</th>\n",
       "      <td>20230411_R1E309_Cenp-J_100X_SirActinSirDNA_Full+CCB1uM_001-1</td>\n",
       "      <td>3274.698</td>\n",
       "      <td>1108.628</td>\n",
       "      <td>20230411</td>\n",
       "    </tr>\n",
       "  </tbody>\n",
       "</table>\n",
       "</div>"
      ],
      "text/plain": [
       "                                                        Cell_ID  \\\n",
       "0  20230411_R1E309_Cenp-J_100X_SirActinSirDNA_Full+CCB1uM_001-1   \n",
       "\n",
       "   Cell_Volume_um3  Cell_Surface_Area_um2 Experiment  \n",
       "0         3274.698               1108.628   20230411  "
      ]
     },
     "execution_count": 2,
     "metadata": {},
     "output_type": "execute_result"
    }
   ],
   "source": [
    "# parse Cell Volumes (manual segmentation)\n",
    "\n",
    "CV_dir_1 = \"/Volumes/TOB_WD2/Microscopy/20230411_Centrosome_Cenp-j/Cell_Volumes\"\n",
    "CV_dir_2 = \"/Volumes/TOB_WD2/Microscopy/20230504_Centrosome_Cenp-j/Cell_Volumes\"\n",
    "CV_dir_3 = \"/Volumes/TOB_WD2/Microscopy/20230626_Centrosome_Cenp-j/Cell_Volumes\"\n",
    "CV_dir_4 = \"/Volumes/TOB_WD2/Microscopy/20230720_Centrosome_Cenp-j/Cell_Volumes\"\n",
    "\n",
    "def concat_CV(folder):\n",
    "    CV_dataframes = []\n",
    "    for root, dirs, files in os.walk(folder):\n",
    "        for file in files:\n",
    "            if not file.startswith(\".\"):\n",
    "                filepath = root + os.sep + file\n",
    "                experiment = root.split(\"/\")[4][:8]\n",
    "                if filepath.endswith(\".csv\"):\n",
    "                    single_df = pd.read_csv(filepath)\n",
    "                    single_df = single_df.rename(\n",
    "                            columns = {\n",
    "                                \"Volume\": \"Cell_Volume_um3\",\n",
    "                                \"SurfaceArea\": \"Cell_Surface_Area_um2\"\n",
    "                            }\n",
    "                    )\n",
    "                    single_df = single_df[[\"Cell_ID\", \"Cell_Volume_um3\", \"Cell_Surface_Area_um2\"]]\n",
    "                    single_df['Experiment'] = experiment\n",
    "\n",
    "                    CV_dataframes.append(single_df)\n",
    "                else:\n",
    "                    pass\n",
    "            else:\n",
    "                pass\n",
    "    CV_df = pd.concat(CV_dataframes)\n",
    "    return CV_df \n",
    "\n",
    "CV_df_1 = concat_CV(CV_dir_1)\n",
    "CV_df_2 = concat_CV(CV_dir_2)\n",
    "CV_df_3 = concat_CV(CV_dir_3)\n",
    "CV_df_4 = concat_CV(CV_dir_4)\n",
    "\n",
    "CV_df = pd.concat([CV_df_1, CV_df_2, CV_df_3, CV_df_4])\n",
    "\n",
    "print(CV_df.shape)\n",
    "CV_df.head(1)"
   ]
  },
  {
   "cell_type": "code",
   "execution_count": 3,
   "metadata": {},
   "outputs": [
    {
     "name": "stdout",
     "output_type": "stream",
     "text": [
      "Finished parsing data.\n",
      "(589, 10)\n"
     ]
    },
    {
     "data": {
      "text/html": [
       "<div>\n",
       "<style scoped>\n",
       "    .dataframe tbody tr th:only-of-type {\n",
       "        vertical-align: middle;\n",
       "    }\n",
       "\n",
       "    .dataframe tbody tr th {\n",
       "        vertical-align: top;\n",
       "    }\n",
       "\n",
       "    .dataframe thead th {\n",
       "        text-align: right;\n",
       "    }\n",
       "</style>\n",
       "<table border=\"1\" class=\"dataframe\">\n",
       "  <thead>\n",
       "    <tr style=\"text-align: right;\">\n",
       "      <th></th>\n",
       "      <th>Cell_ID</th>\n",
       "      <th>Spindle_Angle_Degrees</th>\n",
       "      <th>Spindle_Length_um</th>\n",
       "      <th>Spindle_Volume_um3</th>\n",
       "      <th>Spindle_Width_Avg_um</th>\n",
       "      <th>Tubulin_Spindle_Average_Intensity</th>\n",
       "      <th>Chromatin_Volume_um3</th>\n",
       "      <th>MetaphasePlate_Length_um</th>\n",
       "      <th>MetaphasePlate_Width_um</th>\n",
       "      <th>Version</th>\n",
       "    </tr>\n",
       "  </thead>\n",
       "  <tbody>\n",
       "    <tr>\n",
       "      <th>0</th>\n",
       "      <td>nan</td>\n",
       "      <td>NaN</td>\n",
       "      <td>NaN</td>\n",
       "      <td>NaN</td>\n",
       "      <td>NaN</td>\n",
       "      <td>NaN</td>\n",
       "      <td>NaN</td>\n",
       "      <td>NaN</td>\n",
       "      <td>NaN</td>\n",
       "      <td>NaN</td>\n",
       "    </tr>\n",
       "  </tbody>\n",
       "</table>\n",
       "</div>"
      ],
      "text/plain": [
       "  Cell_ID  Spindle_Angle_Degrees  Spindle_Length_um  Spindle_Volume_um3  \\\n",
       "0     nan                    NaN                NaN                 NaN   \n",
       "\n",
       "   Spindle_Width_Avg_um  Tubulin_Spindle_Average_Intensity  \\\n",
       "0                   NaN                                NaN   \n",
       "\n",
       "   Chromatin_Volume_um3  MetaphasePlate_Length_um  MetaphasePlate_Width_um  \\\n",
       "0                   NaN                       NaN                      NaN   \n",
       "\n",
       "  Version  \n",
       "0     NaN  "
      ]
     },
     "execution_count": 3,
     "metadata": {},
     "output_type": "execute_result"
    }
   ],
   "source": [
    "# parse Spindle3D morphometry\n",
    "# parse Plugin Measurements\n",
    "\n",
    "input_dir1 = \"/Volumes/TOB_WD2/Microscopy/20230411_Centrosome_Cenp-j/Spindle3D/Correct\"\n",
    "input_dir2 = \"/Volumes/TOB_WD2/Microscopy/20230504_Centrosome_Cenp-j/Spindle3D/Correct\"\n",
    "input_dir3 = \"/Volumes/TOB_WD2/Microscopy/20230626_Centrosome_Cenp-j/Spindle3D/Correct\"\n",
    "input_dir4 = \"/Volumes/TOB_WD2/Microscopy/20230720_Centrosome_Cenp-j/Spindle3D/Correct\"\n",
    "\n",
    "spindle_input_folders = [\n",
    "    input_dir1, input_dir2, input_dir3, input_dir4\n",
    "]\n",
    "\n",
    "def concat_spindle3d(folderlist):\n",
    "    dataframes = []\n",
    "    for folder in folderlist:    \n",
    "        for root, dirs, files in os.walk(folder):\n",
    "            for file in files:\n",
    "                filepath = root + os.sep + file  \n",
    "                if filepath.endswith(\".txt\"):\n",
    "                    single_df = pd.read_csv(filepath, sep = \" \", delimiter = \"\\t\", encoding = 'unicode_escape')\n",
    "                    dataframes.append(single_df)  \n",
    "                else:\n",
    "                    pass\n",
    "    df = pd.concat(dataframes)\n",
    "    return df\n",
    "\n",
    "spindle_df = concat_spindle3d(spindle_input_folders)\n",
    "\n",
    "print(\"Finished parsing data.\")\n",
    "\n",
    "def get_nakedname(path):\n",
    "    # parse cell ids from file name in spindle3D table\n",
    "    base = os.path.basename(str(path))\n",
    "    naked = os.path.splitext(base)[0]\n",
    "    return naked\n",
    "\n",
    "# modify spindle 3d dataframe\n",
    "spindle_df[\"Cell_ID\"] = spindle_df.Path_InputImage.apply(get_nakedname)\n",
    "\n",
    "subselection_spindle = [\n",
    "    \"Cell_ID\",\n",
    "    \"Spindle_Angle_Degrees\",  \n",
    "    \"Spindle_Length_um\", \n",
    "    \"Spindle_Volume_um3\", \n",
    "    \"Spindle_Width_Avg_um\", \n",
    "    \"Tubulin_Spindle_Average_Intensity\",\n",
    "    \"Chromatin_Volume_um3\",\n",
    "    \"MetaphasePlate_Length_um\",\n",
    "    \"MetaphasePlate_Width_um\",\n",
    "    \"Version\"\n",
    "]\n",
    "spindle_df = spindle_df[subselection_spindle]\n",
    "print(spindle_df.shape)\n",
    "spindle_df.head(1)"
   ]
  },
  {
   "cell_type": "code",
   "execution_count": 4,
   "metadata": {},
   "outputs": [
    {
     "data": {
      "text/plain": [
       "(580, 13)"
      ]
     },
     "execution_count": 4,
     "metadata": {},
     "output_type": "execute_result"
    }
   ],
   "source": [
    "df = spindle_df.merge(CV_df)\n",
    "df.shape"
   ]
  },
  {
   "cell_type": "code",
   "execution_count": 5,
   "metadata": {},
   "outputs": [],
   "source": [
    "df[\"Condition\"] = df.Cell_ID.str.split(\"_\").str.get(5)\n",
    "df[\"Spindle_Occupancy\"] = df.Spindle_Volume_um3 / df.Cell_Volume_um3 * 100"
   ]
  },
  {
   "cell_type": "code",
   "execution_count": 6,
   "metadata": {},
   "outputs": [],
   "source": [
    "def rename_condition(x):\n",
    "    if x == \"Full+DMSO\":\n",
    "        return \"1_DMSO\"\n",
    "    elif x == \"Full+CCB1uM\":\n",
    "        return \"2_1µM\"\n",
    "    elif x == \"Full+CCB2uM\":\n",
    "        return \"3_2µM\"\n",
    "    elif x == \"Full+CCB5uM\":\n",
    "        return \"4_5µM\"\n",
    "    elif x == \"Full+CCB10uM\":\n",
    "        return \"5_10µM\"\n",
    "    elif x == \"Full+N2B27+RA\":\n",
    "        return \"6_N2B27+RA\"\n",
    "    elif x == \"N2B27+RA\":\n",
    "        return \"6_N2B27+RA\"\n",
    "    else:\n",
    "        pass\n",
    "df[\"Condition\"] = df.Condition.apply(rename_condition)"
   ]
  },
  {
   "cell_type": "code",
   "execution_count": 7,
   "metadata": {},
   "outputs": [
    {
     "name": "stdout",
     "output_type": "stream",
     "text": [
      "Successfully saved dataframe at /Volumes/TOB_WD2/Image_Analysis/CCB02/Dataframes/MasterDataFrame_CCB02_Live.csv\n"
     ]
    }
   ],
   "source": [
    "# Export Dataframe\n",
    "\n",
    "destination = \"/Volumes/TOB_WD2/Image_Analysis/CCB02/Dataframes\" + \"/MasterDataFrame_CCB02_Live.csv\"\n",
    "df.to_csv(destination)\n",
    "print(\"Successfully saved dataframe at {}\".format(destination))"
   ]
  }
 ],
 "metadata": {
  "kernelspec": {
   "display_name": "Python 3",
   "language": "python",
   "name": "python3"
  },
  "language_info": {
   "codemirror_mode": {
    "name": "ipython",
    "version": 3
   },
   "file_extension": ".py",
   "mimetype": "text/x-python",
   "name": "python",
   "nbconvert_exporter": "python",
   "pygments_lexer": "ipython3",
   "version": "3.8.5"
  }
 },
 "nbformat": 4,
 "nbformat_minor": 4
}
