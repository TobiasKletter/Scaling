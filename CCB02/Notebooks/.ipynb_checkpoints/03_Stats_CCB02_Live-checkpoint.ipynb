{
 "cells": [
  {
   "cell_type": "code",
   "execution_count": 7,
   "metadata": {},
   "outputs": [
    {
     "data": {
      "text/html": [
       "<style>.container { width:80% !important; }</style>"
      ],
      "text/plain": [
       "<IPython.core.display.HTML object>"
      ]
     },
     "metadata": {},
     "output_type": "display_data"
    }
   ],
   "source": [
    "import os \n",
    "import pandas as pd\n",
    "import numpy as np\n",
    "\n",
    "from sklearn import preprocessing\n",
    "from sklearn import linear_model\n",
    "from sklearn.metrics import mean_squared_error, r2_score\n",
    "import sklearn.linear_model\n",
    "\n",
    "import scipy\n",
    "from scipy import stats\n",
    "from scipy.optimize import curve_fit\n",
    "\n",
    "from IPython.core.display import display, HTML\n",
    "display(HTML(\"<style>.container { width:80% !important; }</style>\"))"
   ]
  },
  {
   "cell_type": "code",
   "execution_count": 8,
   "metadata": {},
   "outputs": [],
   "source": [
    "root_dir = \"/Volumes/TOB_WD2/Image_Analysis/CCB02/Dataframes\" + \"/\"\n",
    "\n",
    "# load data\n",
    "df = pd.read_csv(root_dir + \"MasterDataFrame_CCB02_Live_for_stats.csv\")"
   ]
  },
  {
   "cell_type": "code",
   "execution_count": 11,
   "metadata": {},
   "outputs": [
    {
     "data": {
      "text/plain": [
       "Condition\n",
       "1_DMSO        2776.499772\n",
       "5_10µM        2926.465597\n",
       "6_N2B27+RA    2582.392529\n",
       "Name: Cell_Volume_um3, dtype: float64"
      ]
     },
     "execution_count": 11,
     "metadata": {},
     "output_type": "execute_result"
    }
   ],
   "source": [
    "df.groupby(\"Condition\").Cell_Volume_um3.mean()"
   ]
  },
  {
   "cell_type": "code",
   "execution_count": 12,
   "metadata": {},
   "outputs": [
    {
     "data": {
      "text/plain": [
       "Condition\n",
       "1_DMSO        412.036349\n",
       "5_10µM        482.929864\n",
       "6_N2B27+RA    463.374036\n",
       "Name: Cell_Volume_um3, dtype: float64"
      ]
     },
     "execution_count": 12,
     "metadata": {},
     "output_type": "execute_result"
    }
   ],
   "source": [
    "df.groupby(\"Condition\").Cell_Volume_um3.std()"
   ]
  },
  {
   "cell_type": "code",
   "execution_count": 17,
   "metadata": {},
   "outputs": [
    {
     "data": {
      "text/plain": [
       "Condition\n",
       "1_DMSO        385.589499\n",
       "5_10µM        328.996061\n",
       "6_N2B27+RA    284.661075\n",
       "Name: Spindle_Volume_um3, dtype: float64"
      ]
     },
     "execution_count": 17,
     "metadata": {},
     "output_type": "execute_result"
    }
   ],
   "source": [
    "df.groupby(\"Condition\").Spindle_Volume_um3.mean()"
   ]
  },
  {
   "cell_type": "code",
   "execution_count": 18,
   "metadata": {},
   "outputs": [
    {
     "data": {
      "text/plain": [
       "Condition\n",
       "1_DMSO        62.178657\n",
       "5_10µM        67.454413\n",
       "6_N2B27+RA    63.179689\n",
       "Name: Spindle_Volume_um3, dtype: float64"
      ]
     },
     "execution_count": 18,
     "metadata": {},
     "output_type": "execute_result"
    }
   ],
   "source": [
    "df.groupby(\"Condition\").Spindle_Volume_um3.std()"
   ]
  },
  {
   "cell_type": "code",
   "execution_count": 14,
   "metadata": {},
   "outputs": [],
   "source": [
    "def ttest(medium1, medium2, measurement):\n",
    "    statistic, pvalue = scipy.stats.ttest_ind(\n",
    "        df[(df[\"Condition\"] == medium1)][measurement], \n",
    "        df[(df[\"Condition\"] == medium2)][measurement], \n",
    "        axis = 0, \n",
    "        equal_var = False, \n",
    "        nan_policy = 'omit'\n",
    "    )\n",
    "    print (\"The p-value for {} is: \".format(measurement) + str(pvalue))"
   ]
  },
  {
   "cell_type": "code",
   "execution_count": 15,
   "metadata": {},
   "outputs": [
    {
     "name": "stdout",
     "output_type": "stream",
     "text": [
      "The p-value for Spindle_Occupancy is: 3.8046894926789685e-20\n"
     ]
    }
   ],
   "source": [
    "ttest(\"1_DMSO\", \"5_10µM\", \"Spindle_Occupancy\")"
   ]
  },
  {
   "cell_type": "code",
   "execution_count": 16,
   "metadata": {},
   "outputs": [
    {
     "ename": "ModuleNotFoundError",
     "evalue": "No module named 'statsmodels'",
     "output_type": "error",
     "traceback": [
      "\u001b[0;31m---------------------------------------------------------------------------\u001b[0m",
      "\u001b[0;31mModuleNotFoundError\u001b[0m                       Traceback (most recent call last)",
      "\u001b[0;32m<ipython-input-16-1f1b882642aa>\u001b[0m in \u001b[0;36m<module>\u001b[0;34m\u001b[0m\n\u001b[1;32m      2\u001b[0m \u001b[0;31m# ANOVA as generalized linear model (GLM):\u001b[0m\u001b[0;34m\u001b[0m\u001b[0;34m\u001b[0m\u001b[0;34m\u001b[0m\u001b[0m\n\u001b[1;32m      3\u001b[0m \u001b[0;32mimport\u001b[0m \u001b[0mnumpy\u001b[0m \u001b[0;32mas\u001b[0m \u001b[0mnp\u001b[0m\u001b[0;34m\u001b[0m\u001b[0;34m\u001b[0m\u001b[0m\n\u001b[0;32m----> 4\u001b[0;31m \u001b[0;32mimport\u001b[0m \u001b[0mstatsmodels\u001b[0m\u001b[0;34m.\u001b[0m\u001b[0mapi\u001b[0m \u001b[0;32mas\u001b[0m \u001b[0msm\u001b[0m\u001b[0;34m\u001b[0m\u001b[0;34m\u001b[0m\u001b[0m\n\u001b[0m\u001b[1;32m      5\u001b[0m \u001b[0;32mfrom\u001b[0m \u001b[0mstatsmodels\u001b[0m\u001b[0;34m.\u001b[0m\u001b[0mformula\u001b[0m\u001b[0;34m.\u001b[0m\u001b[0mapi\u001b[0m \u001b[0;32mimport\u001b[0m \u001b[0mols\u001b[0m\u001b[0;34m\u001b[0m\u001b[0;34m\u001b[0m\u001b[0m\n\u001b[1;32m      6\u001b[0m \u001b[0;32mimport\u001b[0m \u001b[0mpingouin\u001b[0m \u001b[0;32mas\u001b[0m \u001b[0mpg\u001b[0m\u001b[0;34m\u001b[0m\u001b[0;34m\u001b[0m\u001b[0m\n",
      "\u001b[0;31mModuleNotFoundError\u001b[0m: No module named 'statsmodels'"
     ]
    }
   ],
   "source": [
    "# ANOVA Testing\n",
    "# ANOVA as generalized linear model (GLM):\n",
    "import numpy as np\n",
    "import statsmodels.api as sm\n",
    "from statsmodels.formula.api import ols\n",
    "import pingouin as pg\n",
    "import scipy.stats as stats\n",
    "from statsmodels.stats.multicomp import pairwise_tukeyhsd\n",
    "from statsmodels.stats.multicomp import MultiComparison\n",
    "\n",
    "measurement = 'Spindle_Occupancy'\n",
    "group_variable = 'Condition'\n",
    "nan_elements = df[measurement].isnull()\n",
    "data = df[~nan_elements]\n",
    "\n",
    "print(data[group_variable].value_counts())\n",
    "\n",
    "# Bartlett's test for equal variances (One-way ANOVA requires equal variances!)\n",
    "\n",
    "BartlettResult = stats.bartlett(data[data.Condition == 'Full+CCB1uM'][measurement], data[data.Condition == 'Full+DMSO'][measurement])\n",
    "\n",
    "print(\"The Bartlett test for equal variances of {}: \".format(measurement) + str(BartlettResult))\n",
    "\n",
    "\n",
    "#results = ols('Aspect-Ratio~ C('+group_variable+')', data=data).fit()\n",
    "results = ols(measurement + '~ C('+group_variable+')', data = data).fit()\n",
    "print(results.summary())\n",
    "\n",
    "aov_table = sm.stats.anova_lm(results, typ = 2)\n",
    "\n",
    "def anova_table(aov):\n",
    "    aov['mean_sq'] = aov[:]['sum_sq'] / aov[:]['df']\n",
    "    \n",
    "    aov['eta_sq'] = aov[:-1]['sum_sq'] / sum(aov['sum_sq'])\n",
    "    \n",
    "    aov['omega_sq'] = (aov[:-1]['sum_sq']-(aov[:-1]['df'] * aov['mean_sq'][-1])) / (sum(aov['sum_sq']) + aov['mean_sq'][-1])\n",
    "    \n",
    "    cols = ['sum_sq', 'df', 'mean_sq', 'F', 'PR(>F)', 'eta_sq', 'omega_sq']\n",
    "    aov = aov[cols]\n",
    "    return aov\n",
    "\n",
    "aov_table = anova_table(aov_table)\n",
    "print(\"\\n ANOVA TABLE: \")\n",
    "print(aov_table)\n",
    "\n",
    "# Post-hoc testing\n",
    "mc = MultiComparison(data[measurement], data[group_variable])\n",
    "mc_results = mc.tukeyhsd()\n",
    "print(\"\\n\\n POST-HOC testing for {}: \\n\".format(measurement))\n",
    "print(mc_results)\n",
    "print(\"If \\\"reject\\\" = True, then H0 should be rejected\")\n",
    "\n",
    "# Welch's ANOVA when variances are unequal\n",
    "aov_table_WELCH = pg.welch_anova(dv = measurement, between = group_variable, data = data)\n",
    "print(\"\\n Welch's ANOVA table\") \n",
    "print(aov_table_WELCH)\n",
    "\n",
    "# Post-hoc testing using Games-Howell post-hoc test\n",
    "mc_results_GamesHowell = pg.pairwise_gameshowell(dv = measurement, between = group_variable, data = data)\n",
    "print(\"\\n Games-Howell post-hoc test table\") \n",
    "print(mc_results_GamesHowell)"
   ]
  }
 ],
 "metadata": {
  "kernelspec": {
   "display_name": "Python 3",
   "language": "python",
   "name": "python3"
  },
  "language_info": {
   "codemirror_mode": {
    "name": "ipython",
    "version": 3
   },
   "file_extension": ".py",
   "mimetype": "text/x-python",
   "name": "python",
   "nbconvert_exporter": "python",
   "pygments_lexer": "ipython3",
   "version": "3.7.1"
  }
 },
 "nbformat": 4,
 "nbformat_minor": 4
}
