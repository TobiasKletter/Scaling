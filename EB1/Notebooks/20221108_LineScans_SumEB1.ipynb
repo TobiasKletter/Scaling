{
 "cells": [
  {
   "cell_type": "code",
   "execution_count": 28,
   "metadata": {},
   "outputs": [
    {
     "data": {
      "text/html": [
       "<style>.container { width:80% !important; }</style>"
      ],
      "text/plain": [
       "<IPython.core.display.HTML object>"
      ]
     },
     "metadata": {},
     "output_type": "display_data"
    }
   ],
   "source": [
    "import pandas as pd\n",
    "from sklearn import preprocessing\n",
    "\n",
    "pd.set_option('display.max_colwidth', None)\n",
    "\n",
    "import os\n",
    "\n",
    "from IPython.core.display import display, HTML\n",
    "display(HTML(\"<style>.container { width:80% !important; }</style>\"))"
   ]
  },
  {
   "cell_type": "code",
   "execution_count": 29,
   "metadata": {},
   "outputs": [],
   "source": [
    "# Min-Max normalization\n",
    "# Create a minimum and maximum processor object,\n",
    "min_max_scaler = preprocessing.MinMaxScaler()\n",
    "\n",
    "# Min-max normalize column  and concat with\n",
    "# original dataframe\n",
    "def normalize_column(column, df):\n",
    "    x = df[[column]].values.astype(float)\n",
    "    x = x.reshape(-1, 1)\n",
    "    x_scaled = min_max_scaler.fit_transform(x)\n",
    "    norm_df = pd.DataFrame(x_scaled)\n",
    "    norm_df.columns = [column + \"_normalized\"]\n",
    "    \n",
    "    norm_df = norm_df.reset_index()\n",
    "    df = df.reset_index()\n",
    "    dataframe = df.merge(norm_df, left_index = True, right_index = True) \n",
    "    \n",
    "    return dataframe"
   ]
  },
  {
   "cell_type": "code",
   "execution_count": 30,
   "metadata": {},
   "outputs": [],
   "source": [
    "line_folder_1 = \"/Volumes/TOB_WD2/Microscopy/20200821_EB1/Lines_EB1_Half\"\n",
    "line_folder_2 = \"/Volumes/TOB_WD2/Microscopy/20200828_EB1/Lines_EB1_Half\"\n",
    "line_folder_3 = \"/Volumes/TOB_WD2/Microscopy/20200918_EB1/Lines_EB1_Half\"\n",
    "line_folder_4 = \"/Volumes/TOB_WD2/Microscopy/20220916_EB1/Lines_EB1_Half\"\n",
    "line_folder_5 = \"/Volumes/TOB_WD2/Microscopy/20220921_EB1/Lines_EB1_Half\"\n",
    "line_folder_6 = \"/Volumes/TOB_WD2/Microscopy/20220922_EB1/Lines_EB1_Half\"\n",
    "line_folder_7 = \"/Volumes/TOB_WD2/Microscopy/20221021_EB1/Lines_EB1_Half\"\n",
    "line_folder_8 = \"/Volumes/TOB_WD2/Microscopy/20221027_EB1/Lines_EB1_Half\"\n",
    "line_folder_9 = \"/Volumes/TOB_WD2/Microscopy/20221103_EB1/Lines_EB1_Half\"\n",
    "line_folder_10 = \"/Volumes/TOB_WD2/Microscopy/20230728_EB1/Lines_EB1_Half\" #CCB02 experiment\n",
    "line_folder_11 = \"/Volumes/TOB_WD2/Microscopy/20230809_EB1/Lines_EB1_Half\" #CCB02 experiment \n",
    "line_folder_12 = \"/Volumes/TOB_WD2/Microscopy/20231103_EB1_Osmotic/Lines_EB1_Half\" #Hypotonic experiment 1 \n",
    "line_folder_13 = \"/Volumes/TOB_WD2/Microscopy/20231106_EB1_Osmotic/Lines_EB1_Half\" #Hypotonic experiment 1 \n",
    "\n",
    "def linescans(folder):\n",
    "    dataframes = []\n",
    "    max_dataframes = []\n",
    "    for subdir, dirs, files in os.walk(folder):\n",
    "        for file in files:\n",
    "            if not file.startswith(\".\"):\n",
    "                filepath = subdir + os.sep + file\n",
    "                if filepath.endswith(\".txt\"):\n",
    "                    if file.startswith(\"20200821\"):\n",
    "                        cell_id = file.rsplit(\"-\", 1)[0]\n",
    "                    #elif file.startswith(\"20200828\") or file.startswith(\"20200918\"):\n",
    "                    #    cell_id = file.rsplit(\"_\", 1)[0]\n",
    "                    else:\n",
    "                        cell_id = file.rsplit(\"_\", 1)[0]\n",
    "                    \n",
    "                    single_df = pd.read_csv(filepath, sep = \" \", delimiter = \"\\t\", encoding = 'unicode_escape')\n",
    "                    single_df[\"Cell_ID\"] = cell_id\n",
    "                    single_df = single_df.rename(columns = {'Value': 'EB1'})\n",
    "                    single_df.columns.values[0] = 'Distance'\n",
    "                    \n",
    "                    \n",
    "                    # normalize staining\n",
    "                    EB1_norm = normalize_column(\"EB1\", single_df)\n",
    "                    # normalize distance\n",
    "                    D_norm = normalize_column(\"Distance\", EB1_norm)\n",
    "                   #D_norm[\"Distance_normalized\"] = D_norm.Distance_normalized - 0.5\n",
    "                    \n",
    "                    D_norm = D_norm.loc[:,~D_norm.columns.str.startswith('index')]\n",
    "                    dataframes.append(D_norm)\n",
    "                    \n",
    "                    Maximum = D_norm.query('EB1_normalized == EB1_normalized.max()')[\"Distance_normalized\"].item()\n",
    "                    \n",
    "                    max_dict = {\"Cell_ID\": cell_id, \"Distance_EB1_maximum\": Maximum}\n",
    "                    max_df = pd.DataFrame(max_dict, index = [0])\n",
    "                    max_dataframes.append(max_df)\n",
    "    \n",
    "    lines = pd.concat(dataframes)\n",
    "    maximums = pd.concat(max_dataframes)\n",
    "    return lines, maximums\n",
    "\n",
    "df1, max1 = linescans(line_folder_1)\n",
    "df2, max2 = linescans(line_folder_2)\n",
    "df3, max3 = linescans(line_folder_3)\n",
    "df4, max4 = linescans(line_folder_4)\n",
    "df5, max5 = linescans(line_folder_5)\n",
    "df6, max6 = linescans(line_folder_6)\n",
    "df7, max7 = linescans(line_folder_7)\n",
    "df8, max8 = linescans(line_folder_8)\n",
    "df9, max9 = linescans(line_folder_9)\n",
    "df10, max10 = linescans(line_folder_10)\n",
    "df11, max11 = linescans(line_folder_11)\n",
    "df12, max12 = linescans(line_folder_12)\n",
    "df13, max13 = linescans(line_folder_13)"
   ]
  },
  {
   "cell_type": "code",
   "execution_count": 31,
   "metadata": {},
   "outputs": [],
   "source": [
    "df = pd.concat(\n",
    "    [\n",
    "        df1, df2, df3, df4, df5, df6, df7, df8, df9, df10, df11, df12, df13\n",
    "    ]\n",
    ")"
   ]
  },
  {
   "cell_type": "code",
   "execution_count": 32,
   "metadata": {},
   "outputs": [
    {
     "data": {
      "text/html": [
       "<div>\n",
       "<style scoped>\n",
       "    .dataframe tbody tr th:only-of-type {\n",
       "        vertical-align: middle;\n",
       "    }\n",
       "\n",
       "    .dataframe tbody tr th {\n",
       "        vertical-align: top;\n",
       "    }\n",
       "\n",
       "    .dataframe thead th {\n",
       "        text-align: right;\n",
       "    }\n",
       "</style>\n",
       "<table border=\"1\" class=\"dataframe\">\n",
       "  <thead>\n",
       "    <tr style=\"text-align: right;\">\n",
       "      <th></th>\n",
       "      <th>index</th>\n",
       "      <th>Cell_ID</th>\n",
       "      <th>Distance_EB1_maximum</th>\n",
       "    </tr>\n",
       "  </thead>\n",
       "  <tbody>\n",
       "    <tr>\n",
       "      <th>0</th>\n",
       "      <td>0</td>\n",
       "      <td>20200821_R1E309_EB1tdTomato_lipo075_01_003</td>\n",
       "      <td>0.380000</td>\n",
       "    </tr>\n",
       "    <tr>\n",
       "      <th>1</th>\n",
       "      <td>0</td>\n",
       "      <td>20200821_R1E309_EB1tdTomato_lipo075_01_006</td>\n",
       "      <td>0.324324</td>\n",
       "    </tr>\n",
       "    <tr>\n",
       "      <th>2</th>\n",
       "      <td>0</td>\n",
       "      <td>20200821_R1E309_EB1tdTomato_lipo075_01_011</td>\n",
       "      <td>0.261905</td>\n",
       "    </tr>\n",
       "    <tr>\n",
       "      <th>3</th>\n",
       "      <td>0</td>\n",
       "      <td>20200821_R1E309_EB1tdTomato_lipo075_01_011</td>\n",
       "      <td>0.416667</td>\n",
       "    </tr>\n",
       "    <tr>\n",
       "      <th>4</th>\n",
       "      <td>0</td>\n",
       "      <td>20200821_R1E309_EB1tdTomato_lipo075_01_014</td>\n",
       "      <td>0.489362</td>\n",
       "    </tr>\n",
       "    <tr>\n",
       "      <th>...</th>\n",
       "      <td>...</td>\n",
       "      <td>...</td>\n",
       "      <td>...</td>\n",
       "    </tr>\n",
       "    <tr>\n",
       "      <th>467</th>\n",
       "      <td>0</td>\n",
       "      <td>20231106_R1E309_EB1_11_Hypo7525_030-1</td>\n",
       "      <td>0.161290</td>\n",
       "    </tr>\n",
       "    <tr>\n",
       "      <th>468</th>\n",
       "      <td>0</td>\n",
       "      <td>20231106_R1E309_EB1_11_Hypo7525_032-1</td>\n",
       "      <td>0.125000</td>\n",
       "    </tr>\n",
       "    <tr>\n",
       "      <th>469</th>\n",
       "      <td>0</td>\n",
       "      <td>20231106_R1E309_EB1_11_Hypo7525_033-1</td>\n",
       "      <td>0.233333</td>\n",
       "    </tr>\n",
       "    <tr>\n",
       "      <th>470</th>\n",
       "      <td>0</td>\n",
       "      <td>20231106_R1E309_EB1_11_Hypo7525_034-1</td>\n",
       "      <td>0.172414</td>\n",
       "    </tr>\n",
       "    <tr>\n",
       "      <th>471</th>\n",
       "      <td>0</td>\n",
       "      <td>20231106_R1E309_EB1_11_Hypo7525_035-1</td>\n",
       "      <td>0.250000</td>\n",
       "    </tr>\n",
       "  </tbody>\n",
       "</table>\n",
       "<p>472 rows × 3 columns</p>\n",
       "</div>"
      ],
      "text/plain": [
       "     index                                     Cell_ID  Distance_EB1_maximum\n",
       "0        0  20200821_R1E309_EB1tdTomato_lipo075_01_003              0.380000\n",
       "1        0  20200821_R1E309_EB1tdTomato_lipo075_01_006              0.324324\n",
       "2        0  20200821_R1E309_EB1tdTomato_lipo075_01_011              0.261905\n",
       "3        0  20200821_R1E309_EB1tdTomato_lipo075_01_011              0.416667\n",
       "4        0  20200821_R1E309_EB1tdTomato_lipo075_01_014              0.489362\n",
       "..     ...                                         ...                   ...\n",
       "467      0       20231106_R1E309_EB1_11_Hypo7525_030-1              0.161290\n",
       "468      0       20231106_R1E309_EB1_11_Hypo7525_032-1              0.125000\n",
       "469      0       20231106_R1E309_EB1_11_Hypo7525_033-1              0.233333\n",
       "470      0       20231106_R1E309_EB1_11_Hypo7525_034-1              0.172414\n",
       "471      0       20231106_R1E309_EB1_11_Hypo7525_035-1              0.250000\n",
       "\n",
       "[472 rows x 3 columns]"
      ]
     },
     "execution_count": 32,
     "metadata": {},
     "output_type": "execute_result"
    }
   ],
   "source": [
    "max_df = pd.concat(\n",
    "    [\n",
    "        max1, max2, max3, max4, max5, max6, max7, max8, max9, max10, max11, max12, max13\n",
    "    ]\n",
    ").reset_index()\n",
    "max_df"
   ]
  },
  {
   "cell_type": "code",
   "execution_count": 33,
   "metadata": {},
   "outputs": [],
   "source": [
    "def get_condition(x):\n",
    "    experiment = x.Experiment\n",
    "    if experiment == 20200821 or experiment == 20200828 or experiment == 20200918 or experiment == 20200916:\n",
    "        return \"FBS+LIF\"\n",
    "    elif experiment == 20230728 or experiment == 20230809 or experiment == 20231103 or experiment == 20231106:\n",
    "        condition_string = x.Cell_ID.split(\"_\")[4]\n",
    "        return condition_string\n",
    "    else:\n",
    "        condition_string = x.Cell_ID.split(\"_\")[4]\n",
    "        if condition_string == \"Full\":\n",
    "            return \"FBS+LIF\"\n",
    "        else:\n",
    "            return \"N2B27+RA\""
   ]
  },
  {
   "cell_type": "code",
   "execution_count": 34,
   "metadata": {},
   "outputs": [],
   "source": [
    "df[\"Experiment\"] = df.Cell_ID.str.split(\"_\").str.get(0).astype(int)\n",
    "df[\"Condition\"] = df.apply(get_condition, axis = 1)\n",
    "df[\"Incubation_h\"] = 48\n",
    "\n",
    "max_df[\"Experiment\"] = max_df.Cell_ID.str.split(\"_\").str.get(0).astype(int)\n",
    "max_df[\"Condition\"] = max_df.apply(get_condition, axis = 1)\n",
    "max_df[\"Incubation_h\"] = 48"
   ]
  },
  {
   "cell_type": "code",
   "execution_count": 35,
   "metadata": {},
   "outputs": [
    {
     "name": "stdout",
     "output_type": "stream",
     "text": [
      "Successfully exported data to /Volumes/TOB_WD2/Image_Analysis/EB1/Dataframes/LineDataFrame.csv\n"
     ]
    }
   ],
   "source": [
    "outpath = \"/Volumes/TOB_WD2/Image_Analysis/EB1/Dataframes\" + \"/\" + \"LineDataFrame.csv\" \n",
    "df.to_csv(outpath)\n",
    "\n",
    "print(\"Successfully exported data to \" + outpath)"
   ]
  },
  {
   "cell_type": "code",
   "execution_count": 36,
   "metadata": {},
   "outputs": [
    {
     "name": "stdout",
     "output_type": "stream",
     "text": [
      "Successfully exported dataframe with distance of eb1 maxima to /Volumes/TOB_WD2/Image_Analysis/EB1/Dataframes/MaximumDataFrame.csv\n"
     ]
    }
   ],
   "source": [
    "maxoutpath = \"/Volumes/TOB_WD2/Image_Analysis/EB1/Dataframes\" + \"/\" + \"MaximumDataFrame.csv\" \n",
    "max_df.to_csv(maxoutpath)\n",
    "\n",
    "print(\"Successfully exported dataframe with distance of eb1 maxima to \" + maxoutpath)"
   ]
  }
 ],
 "metadata": {
  "kernelspec": {
   "display_name": "Python 3",
   "language": "python",
   "name": "python3"
  },
  "language_info": {
   "codemirror_mode": {
    "name": "ipython",
    "version": 3
   },
   "file_extension": ".py",
   "mimetype": "text/x-python",
   "name": "python",
   "nbconvert_exporter": "python",
   "pygments_lexer": "ipython3",
   "version": "3.7.1"
  }
 },
 "nbformat": 4,
 "nbformat_minor": 4
}
