{
 "cells": [
  {
   "cell_type": "code",
   "execution_count": 2,
   "metadata": {},
   "outputs": [
    {
     "data": {
      "text/html": [
       "<style>.container { width:80% !important; }</style>"
      ],
      "text/plain": [
       "<IPython.core.display.HTML object>"
      ]
     },
     "metadata": {},
     "output_type": "display_data"
    }
   ],
   "source": [
    "import pandas as pd\n",
    "from sklearn import linear_model\n",
    "from sklearn.metrics import mean_squared_error, r2_score\n",
    "\n",
    "import scipy\n",
    "from scipy import stats\n",
    "\n",
    "from IPython.core.display import display, HTML\n",
    "display(HTML(\"<style>.container { width:80% !important; }</style>\"))"
   ]
  },
  {
   "cell_type": "code",
   "execution_count": 3,
   "metadata": {},
   "outputs": [
    {
     "name": "stdout",
     "output_type": "stream",
     "text": [
      "The shape of the df after import: (376, 35)\n"
     ]
    }
   ],
   "source": [
    "# Data import (Already filtered data!)\n",
    "\n",
    "df_Path = \"/Volumes/TOB_WD2/Image_Analysis/EB1/Dataframes\" + \"/MasterDataFrame_EB1.csv\"\n",
    "df = pd.read_csv(df_Path)\n",
    "\n",
    "print(\"The shape of the df after import: \" + str(df.shape))"
   ]
  },
  {
   "cell_type": "code",
   "execution_count": 4,
   "metadata": {},
   "outputs": [
    {
     "name": "stdout",
     "output_type": "stream",
     "text": [
      "The shape of the df after import: (346, 7)\n"
     ]
    }
   ],
   "source": [
    "# Data import of maxi dataframe\n",
    "\n",
    "maxdf_Path = \"/Volumes/TOB_WD2/Image_Analysis/EB1/Dataframes\" + \"/\" + \"MaximumDataFrame.csv\"\n",
    "max_df = pd.read_csv(maxdf_Path)\n",
    "\n",
    "print(\"The shape of the df after import: \" + str(max_df.shape))"
   ]
  },
  {
   "cell_type": "code",
   "execution_count": 5,
   "metadata": {},
   "outputs": [
    {
     "name": "stdout",
     "output_type": "stream",
     "text": [
      "The shape of the df after dataset filtering: (245, 35)\n"
     ]
    }
   ],
   "source": [
    "# Filter datasets\n",
    "Keep = [\"20220916\", \"20220921\", \"20220922\", \"20221021\", \"20221027\", \"20221103\"] \n",
    "df = df[df['Experiment'].isin(Keep)]\n",
    "\n",
    "df = df[(df.Cell_Volume_um3 < 4500) | (df.Cell_Volume_um3.isna())]\n",
    "df = df[(df.Average_Track_Velocity > 0.15) | (df.Average_Track_Velocity.isna())]\n",
    "\n",
    "print(\"The shape of the df after dataset filtering: \" + str(df.shape))"
   ]
  },
  {
   "cell_type": "code",
   "execution_count": 7,
   "metadata": {},
   "outputs": [
    {
     "data": {
      "text/plain": [
       "Condition\n",
       "FBS+LIF     65.86385\n",
       "N2B27+RA    56.71875\n",
       "Name: Number_Comets_Total, dtype: float64"
      ]
     },
     "execution_count": 7,
     "metadata": {},
     "output_type": "execute_result"
    }
   ],
   "source": [
    "df.groupby([\"Condition\"]).Number_Comets_Total.mean()"
   ]
  },
  {
   "cell_type": "code",
   "execution_count": 30,
   "metadata": {},
   "outputs": [
    {
     "data": {
      "text/plain": [
       "Condition\n",
       "FBS+LIF     12.126761\n",
       "N2B27+RA    13.395833\n",
       "Name: Number_Comets_Astral, dtype: float64"
      ]
     },
     "execution_count": 30,
     "metadata": {},
     "output_type": "execute_result"
    }
   ],
   "source": [
    "df.groupby([\"Condition\"]).Number_Comets_Astral.mean()"
   ]
  },
  {
   "cell_type": "code",
   "execution_count": 29,
   "metadata": {},
   "outputs": [
    {
     "data": {
      "text/plain": [
       "Condition\n",
       "FBS+LIF     53.737089\n",
       "N2B27+RA    43.322917\n",
       "Name: Number_Comets_SpindleBulk, dtype: float64"
      ]
     },
     "execution_count": 29,
     "metadata": {},
     "output_type": "execute_result"
    }
   ],
   "source": [
    "df.groupby([\"Condition\"]).Number_Comets_SpindleBulk.mean()\n"
   ]
  },
  {
   "cell_type": "code",
   "execution_count": 8,
   "metadata": {},
   "outputs": [],
   "source": [
    "df_p1 = df[df[\"Condition\"] == \"FBS+LIF\"]\n",
    "df_p2 = df[df[\"Condition\"] == \"N2B27+RA\"]\n",
    "\n",
    "def ttest(measurement):\n",
    "    statistic, pvalue = scipy.stats.ttest_ind(\n",
    "        df_p1[measurement], \n",
    "        df_p2[measurement], \n",
    "        axis = 0, \n",
    "        equal_var = False, \n",
    "        nan_policy = 'omit'\n",
    "    )\n",
    "    print (\"The p-value for {} is: \".format(measurement) + str(pvalue))"
   ]
  },
  {
   "cell_type": "code",
   "execution_count": 9,
   "metadata": {},
   "outputs": [
    {
     "name": "stdout",
     "output_type": "stream",
     "text": [
      "The p-value for Average_Track_Velocity is: 0.4148841870364083\n"
     ]
    }
   ],
   "source": [
    "ttest(\"Average_Track_Velocity\")"
   ]
  },
  {
   "cell_type": "code",
   "execution_count": 10,
   "metadata": {},
   "outputs": [
    {
     "name": "stdout",
     "output_type": "stream",
     "text": [
      "The p-value for Number_Comets_SpindleBulk is: 5.543802665483474e-08\n"
     ]
    }
   ],
   "source": [
    "ttest(\"Number_Comets_SpindleBulk\")"
   ]
  },
  {
   "cell_type": "code",
   "execution_count": 11,
   "metadata": {},
   "outputs": [
    {
     "name": "stdout",
     "output_type": "stream",
     "text": [
      "The p-value for CometsBulk_per_Cell_Volume is: 0.027685365797216067\n"
     ]
    }
   ],
   "source": [
    "ttest(\"CometsBulk_per_Cell_Volume\")"
   ]
  },
  {
   "cell_type": "code",
   "execution_count": 12,
   "metadata": {},
   "outputs": [
    {
     "name": "stdout",
     "output_type": "stream",
     "text": [
      "The p-value for CometsTotal_per_Cell_Volume is: 0.47088004068443967\n"
     ]
    }
   ],
   "source": [
    "ttest(\"CometsTotal_per_Cell_Volume\")"
   ]
  },
  {
   "cell_type": "code",
   "execution_count": 13,
   "metadata": {},
   "outputs": [],
   "source": [
    "maxdf_p1 = max_df[max_df[\"Condition\"] == \"FBS+LIF\"]\n",
    "maxdf_p2 = max_df[max_df[\"Condition\"] == \"N2B27+RA\"]\n",
    "\n",
    "def ttest2(measurement):\n",
    "    statistic, pvalue = scipy.stats.ttest_ind(\n",
    "        maxdf_p1[measurement], \n",
    "        maxdf_p2[measurement], \n",
    "        axis = 0, \n",
    "        equal_var = False, \n",
    "        nan_policy = 'omit'\n",
    "    )\n",
    "    print (\"The p-value for {} is: \".format(measurement) + str(pvalue))"
   ]
  },
  {
   "cell_type": "code",
   "execution_count": 14,
   "metadata": {},
   "outputs": [
    {
     "name": "stdout",
     "output_type": "stream",
     "text": [
      "The p-value for Distance_EB1_maximum is: 2.090909937031538e-05\n"
     ]
    }
   ],
   "source": [
    "ttest2(\"Distance_EB1_maximum\")"
   ]
  },
  {
   "cell_type": "code",
   "execution_count": 15,
   "metadata": {},
   "outputs": [
    {
     "name": "stdout",
     "output_type": "stream",
     "text": [
      "The p-value for Astral:Bulk_Comets is: 1.1069819071612568e-07\n"
     ]
    }
   ],
   "source": [
    "ttest(\"Astral:Bulk_Comets\")"
   ]
  },
  {
   "cell_type": "code",
   "execution_count": 16,
   "metadata": {},
   "outputs": [
    {
     "name": "stdout",
     "output_type": "stream",
     "text": [
      "The p-value for CometsAstral_per_Cell_Volume is: 0.00074000557569353\n"
     ]
    }
   ],
   "source": [
    "ttest(\"CometsAstral_per_Cell_Volume\")\n"
   ]
  },
  {
   "cell_type": "code",
   "execution_count": 17,
   "metadata": {},
   "outputs": [],
   "source": [
    "# Linear Regression\n",
    "\n",
    "def linear_fit(dataframe, independent_column, dependent_column): \n",
    "    dataframe = dataframe[dataframe[[independent_column, dependent_column]].notnull().all(1)]\n",
    "    length = dataframe.shape[0]\n",
    "\n",
    "    X = dataframe[independent_column].values.reshape(length, 1)\n",
    "    y = dataframe[dependent_column].values.reshape(length, 1)\n",
    "\n",
    "    regr = linear_model.LinearRegression()\n",
    "    regr.fit(X, y)\n",
    "    y_predicted = regr.predict(X)\n",
    "\n",
    "    # model evaluation\n",
    "    rmse = mean_squared_error(y, y_predicted)\n",
    "    R2 = r2_score(y, y_predicted)\n",
    "    slope = regr.coef_\n",
    "    interc = regr.intercept_\n",
    "    \n",
    "    return rmse, R2, slope, interc"
   ]
  },
  {
   "cell_type": "code",
   "execution_count": 18,
   "metadata": {},
   "outputs": [
    {
     "name": "stdout",
     "output_type": "stream",
     "text": [
      "Cell Volume vs Average Track Velocity\n",
      "Slope:  [[2.93388812e-06]]\n",
      "Intercept:  [0.25378591]\n",
      "Root mean squared error:  0.0010689795011869887\n",
      "R2 score:  0.0016114241080937841\n"
     ]
    }
   ],
   "source": [
    "print(\"Cell Volume vs Average Track Velocity\")\n",
    "rmse, R2, slope, interc = linear_fit(df, \"Cell_Volume_um3\", \"Average_Track_Velocity\")  \n",
    "print('Slope: ', slope)\n",
    "print('Intercept: ', interc)\n",
    "print('Root mean squared error: ', rmse)\n",
    "print('R2 score: ', R2)"
   ]
  },
  {
   "cell_type": "code",
   "execution_count": 19,
   "metadata": {},
   "outputs": [
    {
     "name": "stdout",
     "output_type": "stream",
     "text": [
      "Spindle volume vs Average Track Velocity\n",
      "Slope:  [[0.00010174]]\n",
      "Intercept:  [0.22413332]\n",
      "Root mean squared error:  0.0014193205775326096\n",
      "R2 score:  0.04309413196212486\n"
     ]
    }
   ],
   "source": [
    "print(\"Spindle volume vs Average Track Velocity\")\n",
    "rmse, R2, slope, interc = linear_fit(df, \"Spindle_Volume_um3\", \"Average_Track_Velocity\")  \n",
    "print('Slope: ', slope)\n",
    "print('Intercept: ', interc)\n",
    "print('Root mean squared error: ', rmse)\n",
    "print('R2 score: ', R2)"
   ]
  },
  {
   "cell_type": "code",
   "execution_count": 20,
   "metadata": {},
   "outputs": [
    {
     "name": "stdout",
     "output_type": "stream",
     "text": [
      "Cell Volume vs Number of tracks\n",
      "Slope:  [[0.01063846]]\n",
      "Intercept:  [20.43917048]\n",
      "Root mean squared error:  111.76858645663197\n",
      "R2 score:  0.1776858027173469\n"
     ]
    }
   ],
   "source": [
    "print(\"Cell Volume vs Number of tracks\")\n",
    "rmse, R2, slope, interc = linear_fit(df, \"Cell_Volume_um3\", \"Number_Comets_SpindleBulk\")  \n",
    "print('Slope: ', slope)\n",
    "print('Intercept: ', interc)\n",
    "print('Root mean squared error: ', rmse)\n",
    "print('R2 score: ', R2)"
   ]
  },
  {
   "cell_type": "code",
   "execution_count": 21,
   "metadata": {},
   "outputs": [
    {
     "name": "stdout",
     "output_type": "stream",
     "text": [
      "Spindle Volume vs Number of tracks\n",
      "Slope:  [[0.06606693]]\n",
      "Intercept:  [25.83161476]\n",
      "Root mean squared error:  49.010144695697385\n",
      "R2 score:  0.39843568980117516\n"
     ]
    }
   ],
   "source": [
    "print(\"Spindle Volume vs Number of tracks\")\n",
    "rmse, R2, slope, interc = linear_fit(df, \"Spindle_Volume_um3\", \"Number_Comets_SpindleBulk\")  \n",
    "print('Slope: ', slope)\n",
    "print('Intercept: ', interc)\n",
    "print('Root mean squared error: ', rmse)\n",
    "print('R2 score: ', R2)"
   ]
  },
  {
   "cell_type": "code",
   "execution_count": 22,
   "metadata": {},
   "outputs": [
    {
     "name": "stdout",
     "output_type": "stream",
     "text": [
      "Spindle Length vs Number of tracks\n",
      "Slope:  [[4.16404196]]\n",
      "Intercept:  [0.00115013]\n",
      "Root mean squared error:  54.150080184727145\n",
      "R2 score:  0.3353466749426638\n"
     ]
    }
   ],
   "source": [
    "print(\"Spindle Length vs Number of tracks\")\n",
    "rmse, R2, slope, interc = linear_fit(df, \"Spindle_Length_um\", \"Number_Comets_SpindleBulk\")  \n",
    "print('Slope: ', slope)\n",
    "print('Intercept: ', interc)\n",
    "print('Root mean squared error: ', rmse)\n",
    "print('R2 score: ', R2)"
   ]
  },
  {
   "cell_type": "code",
   "execution_count": 23,
   "metadata": {},
   "outputs": [
    {
     "name": "stdout",
     "output_type": "stream",
     "text": [
      "Spindle Length man vs Velocity ALL\n",
      "Slope:  [[0.00061343]]\n",
      "Intercept:  [0.25545226]\n",
      "Root mean squared error:  0.0010759585463515173\n",
      "R2 score:  0.0007353712744595509\n"
     ]
    }
   ],
   "source": [
    "print(\"Spindle Length man vs Velocity ALL\")\n",
    "rmse, R2, slope, interc = linear_fit(df, \"Spindle_Length_um_manual\", \"Average_Track_Velocity\")  \n",
    "print('Slope: ', slope)\n",
    "print('Intercept: ', interc)\n",
    "print('Root mean squared error: ', rmse)\n",
    "print('R2 score: ', R2)"
   ]
  },
  {
   "cell_type": "code",
   "execution_count": null,
   "metadata": {},
   "outputs": [],
   "source": []
  },
  {
   "cell_type": "code",
   "execution_count": 24,
   "metadata": {},
   "outputs": [
    {
     "name": "stdout",
     "output_type": "stream",
     "text": [
      "Spindle Length man vs Velocity FBS+LIF\n",
      "Slope:  [[0.00050187]]\n",
      "Intercept:  [0.25481229]\n",
      "Root mean squared error:  0.001173721826492044\n",
      "R2 score:  0.0003277248547737255\n"
     ]
    }
   ],
   "source": [
    "df_P1 = df[df[\"Condition\"] == \"FBS+LIF\"]\n",
    "df_P2 = df[df[\"Condition\"] == \"N2B27+RA\"]\n",
    "\n",
    "print(\"Spindle Length man vs Velocity FBS+LIF\")\n",
    "rmse, R2, slope, interc = linear_fit(df_P1, \"Spindle_Length_um_manual\", \"Average_Track_Velocity\")  \n",
    "print('Slope: ', slope)\n",
    "print('Intercept: ', interc)\n",
    "print('Root mean squared error: ', rmse)\n",
    "print('R2 score: ', R2)"
   ]
  },
  {
   "cell_type": "code",
   "execution_count": 25,
   "metadata": {},
   "outputs": [
    {
     "name": "stdout",
     "output_type": "stream",
     "text": [
      "Spindle Length man vs Velocity N2B27+RA\n",
      "Slope:  [[0.0050857]]\n",
      "Intercept:  [0.21252664]\n",
      "Root mean squared error:  0.0009203254882094655\n",
      "R2 score:  0.02854618417375565\n"
     ]
    }
   ],
   "source": [
    "print(\"Spindle Length man vs Velocity N2B27+RA\")\n",
    "rmse, R2, slope, interc = linear_fit(df_P2, \"Spindle_Length_um_manual\", \"Average_Track_Velocity\")  \n",
    "print('Slope: ', slope)\n",
    "print('Intercept: ', interc)\n",
    "print('Root mean squared error: ', rmse)\n",
    "print('R2 score: ', R2)"
   ]
  },
  {
   "cell_type": "code",
   "execution_count": 26,
   "metadata": {},
   "outputs": [
    {
     "name": "stdout",
     "output_type": "stream",
     "text": [
      "Spindle Length manual vs Number of tracks\n",
      "Slope:  [[4.75746221]]\n",
      "Intercept:  [-3.74105154]\n",
      "Root mean squared error:  91.35738216439917\n",
      "R2 score:  0.32785700560405684\n"
     ]
    }
   ],
   "source": [
    "print(\"Spindle Length manual vs Number of tracks\")\n",
    "rmse, R2, slope, interc = linear_fit(df, \"Spindle_Length_um_manual\", \"Number_Comets_SpindleBulk\")  \n",
    "print('Slope: ', slope)\n",
    "print('Intercept: ', interc)\n",
    "print('Root mean squared error: ', rmse)\n",
    "print('R2 score: ', R2)"
   ]
  },
  {
   "cell_type": "code",
   "execution_count": 27,
   "metadata": {},
   "outputs": [
    {
     "name": "stdout",
     "output_type": "stream",
     "text": [
      "Spindle Length manual vs Number of tracks\n",
      "Slope:  [[3.73380177]]\n",
      "Intercept:  [9.76816236]\n",
      "Root mean squared error:  118.06876905436344\n",
      "R2 score:  0.1518963106385044\n"
     ]
    }
   ],
   "source": [
    "print(\"Spindle Length manual vs Number of tracks\")\n",
    "rmse, R2, slope, interc = linear_fit(df_p1, \"Spindle_Length_um_manual\", \"Number_Comets_SpindleBulk\")  \n",
    "print('Slope: ', slope)\n",
    "print('Intercept: ', interc)\n",
    "print('Root mean squared error: ', rmse)\n",
    "print('R2 score: ', R2)"
   ]
  },
  {
   "cell_type": "code",
   "execution_count": 28,
   "metadata": {},
   "outputs": [
    {
     "name": "stdout",
     "output_type": "stream",
     "text": [
      "Spindle Length manual vs Number of tracks\n",
      "Slope:  [[3.96055026]]\n",
      "Intercept:  [2.65531038]\n",
      "Root mean squared error:  46.01028313870642\n",
      "R2 score:  0.25783092213031833\n"
     ]
    }
   ],
   "source": [
    "print(\"Spindle Length manual vs Number of tracks\")\n",
    "rmse, R2, slope, interc = linear_fit(df_p2, \"Spindle_Length_um_manual\", \"Number_Comets_SpindleBulk\")  \n",
    "print('Slope: ', slope)\n",
    "print('Intercept: ', interc)\n",
    "print('Root mean squared error: ', rmse)\n",
    "print('R2 score: ', R2)"
   ]
  }
 ],
 "metadata": {
  "kernelspec": {
   "display_name": "Python 3",
   "language": "python",
   "name": "python3"
  },
  "language_info": {
   "codemirror_mode": {
    "name": "ipython",
    "version": 3
   },
   "file_extension": ".py",
   "mimetype": "text/x-python",
   "name": "python",
   "nbconvert_exporter": "python",
   "pygments_lexer": "ipython3",
   "version": "3.7.1"
  }
 },
 "nbformat": 4,
 "nbformat_minor": 4
}
